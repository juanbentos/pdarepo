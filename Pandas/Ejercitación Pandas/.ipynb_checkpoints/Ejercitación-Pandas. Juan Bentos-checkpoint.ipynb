{
 "cells": [
  {
   "cell_type": "markdown",
   "id": "cf6541be",
   "metadata": {},
   "source": [
    "# <center> <span style='color:#3c3b5f'>Ejercitación módulo Pandas</span></center>\n",
    "\n",
    "Módulo Pandas - Parte práctica\n",
    "\n",
    "**Profesor Adjunto:** Mag. Bioing. Baldezzari Lucas\n",
    "\n",
    "<p style='text-align: left;'> V2022 </p>\n",
    "\n",
    "<hr style=\"border:1px solid gray\"> </hr>"
   ]
  },
  {
   "cell_type": "markdown",
   "id": "4ff1087d",
   "metadata": {},
   "source": [
    "## <span style='color:#55aa74'>1. Primeros pasos con Pandas</span>\n",
    "\n",
    "En este ejercicio trabajará con datos estimados de personas en condición de calle en 2018 en algunos estados de Estados Unidos.\n",
    "\n",
    "- La columna *individuos* representa personas que viven solas.\n",
    "- La columna *miembrosFamilia* es el número de personas en condición de calle que poseen hijos/as.\n",
    "- La columna *poblacionTotal* representa el total de personas que habitan en un estado."
   ]
  },
  {
   "cell_type": "markdown",
   "id": "c09ec02a",
   "metadata": {},
   "source": [
    "#### 1.1 Cargando un DataFrame y chequeando datos\n",
    "\n",
    "- A) Usted dispone de un archivo llamado *sinhogares.csv* dentro de la carpeta */datasets*. Cargue el archivo en un dataframe llamado *sinhogares*\n",
    "- B) Utilice los siguientes métodos para conocer un poco más los datos cargados.\n",
    "    - .head()\n",
    "    - .info()\n",
    "    - .describe()\n",
    "    - .shape\n",
    "- C) En base a lo anterior, ¿cuantas observaciones/filas posee el data set?"
   ]
  },
  {
   "cell_type": "code",
   "execution_count": 4,
   "id": "5d45e899",
   "metadata": {},
   "outputs": [
    {
     "name": "stdout",
     "output_type": "stream",
     "text": [
      "<class 'pandas.core.frame.DataFrame'>\n",
      "RangeIndex: 51 entries, 0 to 50\n",
      "Data columns (total 6 columns):\n",
      " #   Column           Non-Null Count  Dtype \n",
      "---  ------           --------------  ----- \n",
      " 0   Unnamed: 0       51 non-null     int64 \n",
      " 1   region           51 non-null     object\n",
      " 2   estado           51 non-null     object\n",
      " 3   individuos       51 non-null     int64 \n",
      " 4   miembrosFamilia  51 non-null     int64 \n",
      " 5   poblacionTotal   51 non-null     int64 \n",
      "dtypes: int64(4), object(2)\n",
      "memory usage: 2.5+ KB\n"
     ]
    },
    {
     "data": {
      "text/plain": [
       "(51, 6)"
      ]
     },
     "execution_count": 4,
     "metadata": {},
     "output_type": "execute_result"
    }
   ],
   "source": [
    "## TODO 1.1\n",
    "#Punto A\n",
    "import pandas as pd\n",
    "\n",
    "sh = pd.read_csv(\"datasets/sinhogares.csv\")\n",
    "sh.shape\n",
    "\n",
    "#Punto b\n",
    "sh.head()\n",
    "sh.info()\n",
    "sh.describe()\n",
    "sh.shape\n",
    "\n",
    "#Punto C\n",
    "#Posee 51 filas ashee\n",
    "sh.shape"
   ]
  },
  {
   "cell_type": "markdown",
   "id": "28b43b26",
   "metadata": {},
   "source": [
    "#### 1.2 Valores, columnas e índices del dataframe\n",
    "\n",
    "Para entender mejor al dataframe investigue los atributos.\n",
    "\n",
    "- .values\n",
    "- .columns\n",
    "- .index\n",
    "\n",
    "¿Cuales son las columnas que forman el DataFrame? ¿Cómo son los índices (numéricos o tienen nombre)?"
   ]
  },
  {
   "cell_type": "code",
   "execution_count": 16,
   "id": "819a28c2",
   "metadata": {},
   "outputs": [
    {
     "data": {
      "text/plain": [
       "Index(['Unnamed: 0', 'region', 'estado', 'individuos', 'miembrosFamilia',\n",
       "       'poblacionTotal'],\n",
       "      dtype='object')"
      ]
     },
     "execution_count": 16,
     "metadata": {},
     "output_type": "execute_result"
    }
   ],
   "source": [
    "## TODO 1.2\n",
    "sh.values\n",
    "sh.columns #Columnas del DataFrame"
   ]
  },
  {
   "cell_type": "code",
   "execution_count": 17,
   "id": "52a54fdd",
   "metadata": {},
   "outputs": [
    {
     "data": {
      "text/plain": [
       "RangeIndex(start=0, stop=51, step=1)"
      ]
     },
     "execution_count": 17,
     "metadata": {},
     "output_type": "execute_result"
    }
   ],
   "source": [
    "sh.index #Indices númericos"
   ]
  },
  {
   "cell_type": "markdown",
   "id": "a5c1333a",
   "metadata": {},
   "source": [
    "#### 1.3 Ordenando el dataframe\n",
    "\n",
    "- A) Ordene los datos dentro del dataframe *sinhogares* por la columna *individuos* y guardela en un archivo llamado *sinhogares_Ind*. Imprima los primeros 5 datos de *sinhogares_Ind*.\n",
    "- B) En un dataframe llamado *sinhogares_Fam* guarde el dataframe original pero ordenado por la columna *miembrosFamilia* de mayor a menor. Imprima los primeros 5 datos de *sinhogares_Fam*.\n",
    "- C) Ordene los datos del dataframe primero por *region* (de forma ascendente) y luego por *miembrosFamilia* (de manera descendente). Guarde los datos en un dataframe e imprima los primeros cinco valores."
   ]
  },
  {
   "cell_type": "code",
   "execution_count": 15,
   "id": "06797335",
   "metadata": {},
   "outputs": [
    {
     "name": "stdout",
     "output_type": "stream",
     "text": [
      "<class 'pandas.core.frame.DataFrame'>\n",
      "RangeIndex: 51 entries, 0 to 50\n",
      "Data columns (total 6 columns):\n",
      " #   Column           Non-Null Count  Dtype \n",
      "---  ------           --------------  ----- \n",
      " 0   Unnamed: 0       51 non-null     int64 \n",
      " 1   region           51 non-null     object\n",
      " 2   estado           51 non-null     object\n",
      " 3   individuos       51 non-null     int64 \n",
      " 4   miembrosFamilia  51 non-null     int64 \n",
      " 5   poblacionTotal   51 non-null     int64 \n",
      "dtypes: int64(4), object(2)\n",
      "memory usage: 2.5+ KB\n"
     ]
    }
   ],
   "source": [
    "## TODO 1.3\n",
    "#Punto A\n",
    "sinhogares_Ind = sh.sort_values(\"individuos\", ascending = True).head(5)\n",
    "\n",
    "#Punto B\n",
    "sinhogares_Fam = sh.sort_values(\"miembrosFamilia\", ascending = True).head(5)\n",
    "\n",
    "#PuntoC\n",
    "sinhogares_reg_fam = sh.sort_values([\"region\",\"miembrosFamilia\"], ascending = [True,False]).head(5)"
   ]
  },
  {
   "cell_type": "markdown",
   "id": "2c6450d6",
   "metadata": {},
   "source": [
    "#### 1.4 Obteniendo subsets a partir de columnas\n",
    "\n",
    "Recuerde que podemos obtener trozos de nuestro dataframe haciendo \n",
    "\n",
    "```python\n",
    "subset1 = dataframe[\"columnaInteres\"]\n",
    "subset1 = dataframe[[\"columnaInteres\",\"otraColumna\"]]\n",
    "```\n",
    "\n",
    "- A partir del dataframe *sinhogares* cree un dataframe llamado *indiv_estados* que este formado por las columnas *individuos* y *poblacionTotal*. Imprima el head del dataframe."
   ]
  },
  {
   "cell_type": "code",
   "execution_count": 19,
   "id": "47854dd7",
   "metadata": {},
   "outputs": [
    {
     "data": {
      "text/html": [
       "<div>\n",
       "<style scoped>\n",
       "    .dataframe tbody tr th:only-of-type {\n",
       "        vertical-align: middle;\n",
       "    }\n",
       "\n",
       "    .dataframe tbody tr th {\n",
       "        vertical-align: top;\n",
       "    }\n",
       "\n",
       "    .dataframe thead th {\n",
       "        text-align: right;\n",
       "    }\n",
       "</style>\n",
       "<table border=\"1\" class=\"dataframe\">\n",
       "  <thead>\n",
       "    <tr style=\"text-align: right;\">\n",
       "      <th></th>\n",
       "      <th>individuos</th>\n",
       "      <th>poblacionTotal</th>\n",
       "    </tr>\n",
       "  </thead>\n",
       "  <tbody>\n",
       "    <tr>\n",
       "      <th>0</th>\n",
       "      <td>2570</td>\n",
       "      <td>4887681</td>\n",
       "    </tr>\n",
       "    <tr>\n",
       "      <th>1</th>\n",
       "      <td>1434</td>\n",
       "      <td>735139</td>\n",
       "    </tr>\n",
       "    <tr>\n",
       "      <th>2</th>\n",
       "      <td>7259</td>\n",
       "      <td>7158024</td>\n",
       "    </tr>\n",
       "    <tr>\n",
       "      <th>3</th>\n",
       "      <td>2280</td>\n",
       "      <td>3009733</td>\n",
       "    </tr>\n",
       "    <tr>\n",
       "      <th>4</th>\n",
       "      <td>109008</td>\n",
       "      <td>39461588</td>\n",
       "    </tr>\n",
       "  </tbody>\n",
       "</table>\n",
       "</div>"
      ],
      "text/plain": [
       "   individuos  poblacionTotal\n",
       "0        2570         4887681\n",
       "1        1434          735139\n",
       "2        7259         7158024\n",
       "3        2280         3009733\n",
       "4      109008        39461588"
      ]
     },
     "execution_count": 19,
     "metadata": {},
     "output_type": "execute_result"
    }
   ],
   "source": [
    "## TODO 1.4\n",
    "indiv_estados = sh[[\"individuos\",\"poblacionTotal\"]].head(5)\n",
    "indiv_estados\n",
    "                   "
   ]
  },
  {
   "cell_type": "markdown",
   "id": "dd8dfa9e",
   "metadata": {},
   "source": [
    "#### 1.5 Obteniendo subsets a partir de filas aplicando filtros\n",
    "\n",
    "- A) Cree un dataframe que contenga los datos de las personas en condición de calle que superen los 10mil individuos por estado.\n",
    "- B) Cree un dataframe que contenga los datos de las personas en condición de calle menores a los mil individuos y que correspondan a la región \"Pacific\". Imprima el dataframe creado."
   ]
  },
  {
   "cell_type": "code",
   "execution_count": 37,
   "id": "fb675689",
   "metadata": {},
   "outputs": [
    {
     "data": {
      "text/html": [
       "<div>\n",
       "<style scoped>\n",
       "    .dataframe tbody tr th:only-of-type {\n",
       "        vertical-align: middle;\n",
       "    }\n",
       "\n",
       "    .dataframe tbody tr th {\n",
       "        vertical-align: top;\n",
       "    }\n",
       "\n",
       "    .dataframe thead th {\n",
       "        text-align: right;\n",
       "    }\n",
       "</style>\n",
       "<table border=\"1\" class=\"dataframe\">\n",
       "  <thead>\n",
       "    <tr style=\"text-align: right;\">\n",
       "      <th></th>\n",
       "      <th>Unnamed: 0</th>\n",
       "      <th>region</th>\n",
       "      <th>estado</th>\n",
       "      <th>individuos</th>\n",
       "      <th>miembrosFamilia</th>\n",
       "      <th>poblacionTotal</th>\n",
       "    </tr>\n",
       "  </thead>\n",
       "  <tbody>\n",
       "  </tbody>\n",
       "</table>\n",
       "</div>"
      ],
      "text/plain": [
       "Empty DataFrame\n",
       "Columns: [Unnamed: 0, region, estado, individuos, miembrosFamilia, poblacionTotal]\n",
       "Index: []"
      ]
     },
     "execution_count": 37,
     "metadata": {},
     "output_type": "execute_result"
    }
   ],
   "source": [
    "## TODO 1.5  \n",
    "#Punto A\n",
    "\n",
    "filtro1 = sh[\"individuos\"]>10000\n",
    "filtro1\n",
    "\n",
    "#Punto B\n",
    "filtro2 = sh[(sh[\"individuos\"]<1000) & (sh[\"region\"]==\"Pacific\")]\n",
    "filtro2"
   ]
  },
  {
   "cell_type": "code",
   "execution_count": 36,
   "id": "f3e81aa9",
   "metadata": {},
   "outputs": [
    {
     "data": {
      "text/html": [
       "<div>\n",
       "<style scoped>\n",
       "    .dataframe tbody tr th:only-of-type {\n",
       "        vertical-align: middle;\n",
       "    }\n",
       "\n",
       "    .dataframe tbody tr th {\n",
       "        vertical-align: top;\n",
       "    }\n",
       "\n",
       "    .dataframe thead th {\n",
       "        text-align: right;\n",
       "    }\n",
       "</style>\n",
       "<table border=\"1\" class=\"dataframe\">\n",
       "  <thead>\n",
       "    <tr style=\"text-align: right;\">\n",
       "      <th></th>\n",
       "      <th>Unnamed: 0</th>\n",
       "      <th>region</th>\n",
       "      <th>estado</th>\n",
       "      <th>individuos</th>\n",
       "      <th>miembrosFamilia</th>\n",
       "      <th>poblacionTotal</th>\n",
       "    </tr>\n",
       "  </thead>\n",
       "  <tbody>\n",
       "    <tr>\n",
       "      <th>4</th>\n",
       "      <td>4</td>\n",
       "      <td>Pacific</td>\n",
       "      <td>California</td>\n",
       "      <td>109008</td>\n",
       "      <td>20964</td>\n",
       "      <td>39461588</td>\n",
       "    </tr>\n",
       "    <tr>\n",
       "      <th>37</th>\n",
       "      <td>37</td>\n",
       "      <td>Pacific</td>\n",
       "      <td>Oregon</td>\n",
       "      <td>11139</td>\n",
       "      <td>3337</td>\n",
       "      <td>4181886</td>\n",
       "    </tr>\n",
       "    <tr>\n",
       "      <th>47</th>\n",
       "      <td>47</td>\n",
       "      <td>Pacific</td>\n",
       "      <td>Washington</td>\n",
       "      <td>16424</td>\n",
       "      <td>5880</td>\n",
       "      <td>7523869</td>\n",
       "    </tr>\n",
       "  </tbody>\n",
       "</table>\n",
       "</div>"
      ],
      "text/plain": [
       "    Unnamed: 0   region      estado  individuos  miembrosFamilia  \\\n",
       "4            4  Pacific  California      109008            20964   \n",
       "37          37  Pacific      Oregon       11139             3337   \n",
       "47          47  Pacific  Washington       16424             5880   \n",
       "\n",
       "    poblacionTotal  \n",
       "4         39461588  \n",
       "37         4181886  \n",
       "47         7523869  "
      ]
     },
     "execution_count": 36,
     "metadata": {},
     "output_type": "execute_result"
    }
   ],
   "source": [
    "#A\n",
    "filtro1=sh[\"individuos\"]>10000\n",
    "filtro1\n",
    "#B\n",
    "filtro2=sh[\"region\"] == \"Pacific\"\n",
    "filtro2\n",
    "subSet2Filtros = sh[ filtro1 & filtro2 ]\n",
    "subSet2Filtros"
   ]
  },
  {
   "cell_type": "markdown",
   "id": "c0f89e27",
   "metadata": {},
   "source": [
    "#### 1.6 Obteniendo subsets a partir de datos categóricos\n",
    "\n",
    "Utilizando *.isin()* se pide,\n",
    "\n",
    "- A) Cree un subset que contenga los datos para las regiones *South Atlantic* y *Mid-Atlantic*. Imprima el subset.\n",
    "- B) Cree un subset que contenga los datos para los estados *California*, *Arizona*, *Nevada* y *Utah*."
   ]
  },
  {
   "cell_type": "code",
   "execution_count": 52,
   "id": "0c4a8dd1",
   "metadata": {},
   "outputs": [
    {
     "name": "stdout",
     "output_type": "stream",
     "text": [
      "    Unnamed: 0          region                estado  individuos  \\\n",
      "7            7  South Atlantic              Delaware         708   \n",
      "8            8  South Atlantic  District of Columbia        3770   \n",
      "9            9  South Atlantic               Florida       21443   \n",
      "10          10  South Atlantic               Georgia        6943   \n",
      "20          20  South Atlantic              Maryland        4914   \n",
      "30          30    Mid-Atlantic            New Jersey        6048   \n",
      "32          32    Mid-Atlantic              New York       39827   \n",
      "33          33  South Atlantic        North Carolina        6451   \n",
      "38          38    Mid-Atlantic          Pennsylvania        8163   \n",
      "40          40  South Atlantic        South Carolina        3082   \n",
      "46          46  South Atlantic              Virginia        3928   \n",
      "48          48  South Atlantic         West Virginia        1021   \n",
      "\n",
      "    miembrosFamilia  poblacionTotal  \n",
      "7               374          965479  \n",
      "8              3134          701547  \n",
      "9              9587        21244317  \n",
      "10             2556        10511131  \n",
      "20             2230         6035802  \n",
      "30             3350         8886025  \n",
      "32            52070        19530351  \n",
      "33             2817        10381615  \n",
      "38             5349        12800922  \n",
      "40              851         5084156  \n",
      "46             2047         8501286  \n",
      "48              222         1804291  \n",
      "    Unnamed: 0    region      estado  individuos  miembrosFamilia  \\\n",
      "2            2  Mountain     Arizona        7259             2606   \n",
      "4            4   Pacific  California      109008            20964   \n",
      "28          28  Mountain      Nevada        7058              486   \n",
      "44          44  Mountain        Utah        1904              972   \n",
      "\n",
      "    poblacionTotal  \n",
      "2          7158024  \n",
      "4         39461588  \n",
      "28         3027341  \n",
      "44         3153550  \n"
     ]
    }
   ],
   "source": [
    "## TODO 1.6\n",
    "\n",
    "#PuntoA\n",
    "regionFil = sh[\"region\"].isin([\"South Atlantic\", \"Mid-Atlantic\"]) #Se que es un subset por el datos[]\n",
    "region = sh[regionFil]\n",
    "#region\n",
    "print(region)\n",
    "\n",
    "estadosFil = sh[\"estado\"].isin([\"California\", \"Arizona\", \"Nevada\" , \"Utah\"])\n",
    "estados = sh[estadosFil]\n",
    "#estados\n",
    "print(estados)"
   ]
  },
  {
   "cell_type": "markdown",
   "id": "890653dd",
   "metadata": {},
   "source": [
    "## <span style='color:#55aa74'>2. Un poco de estadística</span>\n",
    "\n",
    "Para este ejercicio se trabajará con los datos de venta de la cadena de supermercados *Walmart* que van desde enero de 2010 a diciembre de 2012.\n",
    "\n",
    "Las columnas dentro del set de datos representa:\n",
    "\n",
    "- Store: Numero de supermercado\n",
    "- Type: Tipo de tienda.\n",
    "- Department: Departamento donde se realizó la venta.\n",
    "- Date: Semana de venta\n",
    "- weekly_sales: Ventas semanales\n",
    "- is_holiday: Indica si esa semana hubieron días festivos.\n",
    "- Temperature: Temperatura del día de las ventas.\n",
    "- Fuel_Price: Costo del combustible en la región\n",
    "- Unemployment: Representa el porcentaje de la fuerza laboral sin trabajo."
   ]
  },
  {
   "cell_type": "markdown",
   "id": "11628420",
   "metadata": {},
   "source": [
    "Cargamos el archivo *walmart.csv* (se encuentra dentro del directorio */datastes/*) en un dataframe llamado *walmart* y vemos su encabezado"
   ]
  },
  {
   "cell_type": "code",
   "execution_count": 134,
   "id": "3040848f",
   "metadata": {},
   "outputs": [
    {
     "data": {
      "text/html": [
       "<div>\n",
       "<style scoped>\n",
       "    .dataframe tbody tr th:only-of-type {\n",
       "        vertical-align: middle;\n",
       "    }\n",
       "\n",
       "    .dataframe tbody tr th {\n",
       "        vertical-align: top;\n",
       "    }\n",
       "\n",
       "    .dataframe thead th {\n",
       "        text-align: right;\n",
       "    }\n",
       "</style>\n",
       "<table border=\"1\" class=\"dataframe\">\n",
       "  <thead>\n",
       "    <tr style=\"text-align: right;\">\n",
       "      <th></th>\n",
       "      <th>store</th>\n",
       "      <th>type</th>\n",
       "      <th>department</th>\n",
       "      <th>date</th>\n",
       "      <th>weekly_sales</th>\n",
       "      <th>is_holiday</th>\n",
       "      <th>temperature</th>\n",
       "      <th>fuel_price</th>\n",
       "      <th>unemployment</th>\n",
       "    </tr>\n",
       "  </thead>\n",
       "  <tbody>\n",
       "    <tr>\n",
       "      <th>0</th>\n",
       "      <td>1</td>\n",
       "      <td>A</td>\n",
       "      <td>1</td>\n",
       "      <td>2/5/2010</td>\n",
       "      <td>24924.50</td>\n",
       "      <td>False</td>\n",
       "      <td>5.727778</td>\n",
       "      <td>0.679451</td>\n",
       "      <td>8.106</td>\n",
       "    </tr>\n",
       "    <tr>\n",
       "      <th>1</th>\n",
       "      <td>1</td>\n",
       "      <td>A</td>\n",
       "      <td>1</td>\n",
       "      <td>3/5/2010</td>\n",
       "      <td>21827.90</td>\n",
       "      <td>False</td>\n",
       "      <td>8.055556</td>\n",
       "      <td>0.693452</td>\n",
       "      <td>8.106</td>\n",
       "    </tr>\n",
       "    <tr>\n",
       "      <th>2</th>\n",
       "      <td>1</td>\n",
       "      <td>A</td>\n",
       "      <td>1</td>\n",
       "      <td>4/2/2010</td>\n",
       "      <td>57258.43</td>\n",
       "      <td>False</td>\n",
       "      <td>16.816667</td>\n",
       "      <td>0.718284</td>\n",
       "      <td>7.808</td>\n",
       "    </tr>\n",
       "    <tr>\n",
       "      <th>3</th>\n",
       "      <td>1</td>\n",
       "      <td>A</td>\n",
       "      <td>1</td>\n",
       "      <td>5/7/2010</td>\n",
       "      <td>17413.94</td>\n",
       "      <td>False</td>\n",
       "      <td>22.527778</td>\n",
       "      <td>0.748928</td>\n",
       "      <td>7.808</td>\n",
       "    </tr>\n",
       "    <tr>\n",
       "      <th>4</th>\n",
       "      <td>1</td>\n",
       "      <td>A</td>\n",
       "      <td>1</td>\n",
       "      <td>6/4/2010</td>\n",
       "      <td>17558.09</td>\n",
       "      <td>False</td>\n",
       "      <td>27.050000</td>\n",
       "      <td>0.714586</td>\n",
       "      <td>7.808</td>\n",
       "    </tr>\n",
       "  </tbody>\n",
       "</table>\n",
       "</div>"
      ],
      "text/plain": [
       "   store type  department      date  weekly_sales  is_holiday  temperature  \\\n",
       "0      1    A           1  2/5/2010      24924.50       False     5.727778   \n",
       "1      1    A           1  3/5/2010      21827.90       False     8.055556   \n",
       "2      1    A           1  4/2/2010      57258.43       False    16.816667   \n",
       "3      1    A           1  5/7/2010      17413.94       False    22.527778   \n",
       "4      1    A           1  6/4/2010      17558.09       False    27.050000   \n",
       "\n",
       "   fuel_price  unemployment  \n",
       "0    0.679451         8.106  \n",
       "1    0.693452         8.106  \n",
       "2    0.718284         7.808  \n",
       "3    0.748928         7.808  \n",
       "4    0.714586         7.808  "
      ]
     },
     "execution_count": 134,
     "metadata": {},
     "output_type": "execute_result"
    }
   ],
   "source": [
    "walmart = pd.read_csv(\"datasets/walmart.csv\")\n",
    "walmart.head()"
   ]
  },
  {
   "cell_type": "markdown",
   "id": "0f97b0be",
   "metadata": {},
   "source": [
    "#### 2.1 Medias y medianas\n",
    "\n",
    "- A) ¿Cuál es el promedio de ventas semanales totales? ¿Cuál es la mediana?\n",
    "- B) Obtenga el promedio de ventas semanales para cada año del data set. Idem para la mediana.\n",
    "- C) ¿Cuando se hizo la última venta según este data set? ¿Y cuando fue la primera?"
   ]
  },
  {
   "cell_type": "code",
   "execution_count": 62,
   "id": "67b46b3e",
   "metadata": {
    "scrolled": true
   },
   "outputs": [
    {
     "name": "stdout",
     "output_type": "stream",
     "text": [
      "El promedio de ventas semanales totales es: 23843.95014850566, y la mediana de ventas es : 12049.064999999999\n"
     ]
    },
    {
     "data": {
      "text/html": [
       "<div>\n",
       "<style scoped>\n",
       "    .dataframe tbody tr th:only-of-type {\n",
       "        vertical-align: middle;\n",
       "    }\n",
       "\n",
       "    .dataframe tbody tr th {\n",
       "        vertical-align: top;\n",
       "    }\n",
       "\n",
       "    .dataframe thead th {\n",
       "        text-align: right;\n",
       "    }\n",
       "</style>\n",
       "<table border=\"1\" class=\"dataframe\">\n",
       "  <thead>\n",
       "    <tr style=\"text-align: right;\">\n",
       "      <th></th>\n",
       "      <th>store</th>\n",
       "      <th>type</th>\n",
       "      <th>department</th>\n",
       "      <th>date</th>\n",
       "      <th>weekly_sales</th>\n",
       "      <th>is_holiday</th>\n",
       "      <th>temperature</th>\n",
       "      <th>fuel_price</th>\n",
       "      <th>unemployment</th>\n",
       "      <th>year</th>\n",
       "    </tr>\n",
       "  </thead>\n",
       "  <tbody>\n",
       "    <tr>\n",
       "      <th>6820</th>\n",
       "      <td>19</td>\n",
       "      <td>A</td>\n",
       "      <td>48</td>\n",
       "      <td>9/9/2011</td>\n",
       "      <td>197.0</td>\n",
       "      <td>True</td>\n",
       "      <td>20.155556</td>\n",
       "      <td>1.038197</td>\n",
       "      <td>7.806</td>\n",
       "      <td>2011</td>\n",
       "    </tr>\n",
       "  </tbody>\n",
       "</table>\n",
       "</div>"
      ],
      "text/plain": [
       "      store type  department      date  weekly_sales  is_holiday  temperature  \\\n",
       "6820     19    A          48  9/9/2011         197.0        True    20.155556   \n",
       "\n",
       "      fuel_price  unemployment  year  \n",
       "6820    1.038197         7.806  2011  "
      ]
     },
     "execution_count": 62,
     "metadata": {},
     "output_type": "execute_result"
    }
   ],
   "source": [
    "## TODO 2.1\n",
    "#A ¿Cuál es el promedio de ventas semanales totales? ¿Cuál es la mediana?\n",
    "promedio = walmart[\"weekly_sales\"].mean()\n",
    "mediana = walmart[\"weekly_sales\"].median()\n",
    "print(f\"El promedio de ventas semanales totales es: {promedio}, y la mediana de ventas es : {mediana}\")\n",
    "\n",
    "#B - Obtenga el promedio de ventas semanales para cada año del data set. Idem para la mediana.\n",
    "walmart['year'] = pd.DatetimeIndex(walmart['date']).year\n",
    "promedio2=walmart[[\"year\",\"weekly_sales\"]].groupby(\"year\").agg([\"mean\",\"median\"])\n",
    "promedio2\n",
    "\n",
    "#C ¿Cuando se hizo la última venta según este data set? ¿Y cuando fue la primera?\n",
    "walmart.sort_values(\"date\", ascending=True).head(1) #Primera Venta\n",
    "walmart.sort_values(\"date\", ascending=False).head(1) #Ultima Venta\n"
   ]
  },
  {
   "cell_type": "markdown",
   "id": "6c877ef1",
   "metadata": {},
   "source": [
    "#### 2.2 Rango intercuartil\n",
    "\n",
    "- Defina una función llamada *iqr(columna)* que devuelva el rango intercuartil (IQR). Esta función recibirá una *columna* de un dataframe con valores numéricos a partir de los cuales obtendrá los cuartiles $Q_1$ y $Q_3$ para devolver el $IQR = Q_3-Q_1$.\n",
    "- Luego con la función *.agg()* aplique las funciones *iqr()* y *np.median()* a las columnas *temperature*, *fuel_price* y *unemployment* del set de datos. Imprima el dataframe obtenido."
   ]
  },
  {
   "cell_type": "code",
   "execution_count": 69,
   "id": "5a558a91",
   "metadata": {},
   "outputs": [
    {
     "name": "stdout",
     "output_type": "stream",
     "text": [
      "        temperature  fuel_price  unemployment\n",
      "irq       16.583333    0.073176         0.565\n",
      "median    16.966667    0.743381         8.099\n"
     ]
    }
   ],
   "source": [
    "## TODO 2.2\n",
    "import numpy as np\n",
    "def irq(columna):\n",
    "    return columna.quantile(0.75) - columna.quantile(0.25)\n",
    "\n",
    "print(walmart[['temperature',\"fuel_price\", \"unemployment\"]].agg([irq,np.median])) ##Implementación temperature"
   ]
  },
  {
   "cell_type": "markdown",
   "id": "1309a7cf",
   "metadata": {},
   "source": [
    "#### 2.3 Eliminando duplicados y contando\n",
    "\n",
    "Utilizando *.drop_duplicates()* se pide:\n",
    "\n",
    "- A) Elimine los datos duplicados a partir de las columnas *store* y *type*. Almacene el dataframe en *tiposTiendas*.\n",
    "- B) Elimine los datos duplicados a partir de las columnas *store* y *departament*. Almacene el dataframe en *deptsTiendas*.\n",
    "- C) Genere un subset llamado *fechaVacaciones* a partir de filtrar los datos en donde los valores de la columna *is_holiday* son True y remueva los duplicados a partir de la columna *date*.\n",
    "\n",
    "Imprima los dataframe creados."
   ]
  },
  {
   "cell_type": "code",
   "execution_count": 142,
   "id": "5689a20c",
   "metadata": {},
   "outputs": [],
   "source": [
    "## TODO 2.3\n",
    "\n",
    "\n",
    "tiposTiendas =  walmart.drop_duplicates(subset = [\"store\", \"type\"])\n",
    "deptsTiendas = walmart.drop_duplicates(subset = [\"store\", \"department\"])\n",
    "filtro1 = walmart[\"is_holiday\"] == True\n",
    "filtro2 = walmart[\"date\"]\n",
    "\n",
    "#fechaVacaciones = walmart.drop_duplicates(subset = [filtro1, filtro2])\n"
   ]
  },
  {
   "cell_type": "markdown",
   "id": "01a1200a",
   "metadata": {},
   "source": [
    "#### 2.4 Contando variables categóricas\n",
    "\n",
    "A partir de los dataframe *tiposTiendas* y *deptsTiendas* se pide,\n",
    "\n",
    "- A) Cuente cuántos tipos de tiendas hay dentro de *tiposTiendas*. También imprima las proporciones (usando *normalize = True*)\n",
    "- B) Cuente cuántos departamentos diferentes tenemos en *deptsTiendas* y ordene los datos. También imprima las proporciones ordeandas.\n"
   ]
  },
  {
   "cell_type": "code",
   "execution_count": 146,
   "id": "4902118c",
   "metadata": {},
   "outputs": [],
   "source": [
    "## TODO 2.4\n"
   ]
  },
  {
   "cell_type": "markdown",
   "id": "c8f3e7fc",
   "metadata": {},
   "source": [
    "#### 2.5 Proporciones de ventas por cada tipo de tienda\n",
    "\n",
    "Calcule las proporciones de ventas semanales realizadas por cada tienda. Tenga en cuenta que las proporciones son el resultado de la venta de un tipo de tienda dividida las ventas totales.\n",
    "\n",
    "Utilizando las herramientas vistas hasta ahora cuente cuantos tipos de tiendas hay en el set de datos. Luego utilice estos tipos para *filtrar* el dataset por cada tipo de tienda y use la función *.sum()* para sumar las ventas semanales del tipo particular de tienda selecionado. Finalmente divida cada una de las ventas semanales por las ventas totales.\n",
    "\n",
    "Guarde las proporciones en una lista.\n",
    "\n",
    "Ejemplo para tiendas del tipo A\n",
    "\n",
    "```python\n",
    "ventasA = walmart[walmart[\"type\"] == \"A\"][\"weekly_sales\"].sum()/totales\n",
    "```\n",
    "\n",
    "Donde *totales* es la suma de todas las ventas semanales del set de datos."
   ]
  },
  {
   "cell_type": "code",
   "execution_count": 147,
   "id": "92673db1",
   "metadata": {},
   "outputs": [
    {
     "data": {
      "text/html": [
       "<div>\n",
       "<style scoped>\n",
       "    .dataframe tbody tr th:only-of-type {\n",
       "        vertical-align: middle;\n",
       "    }\n",
       "\n",
       "    .dataframe tbody tr th {\n",
       "        vertical-align: top;\n",
       "    }\n",
       "\n",
       "    .dataframe thead th {\n",
       "        text-align: right;\n",
       "    }\n",
       "</style>\n",
       "<table border=\"1\" class=\"dataframe\">\n",
       "  <thead>\n",
       "    <tr style=\"text-align: right;\">\n",
       "      <th></th>\n",
       "      <th>store</th>\n",
       "      <th>type</th>\n",
       "      <th>department</th>\n",
       "      <th>date</th>\n",
       "      <th>weekly_sales</th>\n",
       "      <th>is_holiday</th>\n",
       "      <th>temperature</th>\n",
       "      <th>fuel_price</th>\n",
       "      <th>unemployment</th>\n",
       "    </tr>\n",
       "  </thead>\n",
       "  <tbody>\n",
       "    <tr>\n",
       "      <th>0</th>\n",
       "      <td>1</td>\n",
       "      <td>A</td>\n",
       "      <td>1</td>\n",
       "      <td>2/5/2010</td>\n",
       "      <td>24924.50</td>\n",
       "      <td>False</td>\n",
       "      <td>5.727778</td>\n",
       "      <td>0.679451</td>\n",
       "      <td>8.106</td>\n",
       "    </tr>\n",
       "    <tr>\n",
       "      <th>1</th>\n",
       "      <td>1</td>\n",
       "      <td>A</td>\n",
       "      <td>1</td>\n",
       "      <td>3/5/2010</td>\n",
       "      <td>21827.90</td>\n",
       "      <td>False</td>\n",
       "      <td>8.055556</td>\n",
       "      <td>0.693452</td>\n",
       "      <td>8.106</td>\n",
       "    </tr>\n",
       "    <tr>\n",
       "      <th>2</th>\n",
       "      <td>1</td>\n",
       "      <td>A</td>\n",
       "      <td>1</td>\n",
       "      <td>4/2/2010</td>\n",
       "      <td>57258.43</td>\n",
       "      <td>False</td>\n",
       "      <td>16.816667</td>\n",
       "      <td>0.718284</td>\n",
       "      <td>7.808</td>\n",
       "    </tr>\n",
       "    <tr>\n",
       "      <th>3</th>\n",
       "      <td>1</td>\n",
       "      <td>A</td>\n",
       "      <td>1</td>\n",
       "      <td>5/7/2010</td>\n",
       "      <td>17413.94</td>\n",
       "      <td>False</td>\n",
       "      <td>22.527778</td>\n",
       "      <td>0.748928</td>\n",
       "      <td>7.808</td>\n",
       "    </tr>\n",
       "    <tr>\n",
       "      <th>4</th>\n",
       "      <td>1</td>\n",
       "      <td>A</td>\n",
       "      <td>1</td>\n",
       "      <td>6/4/2010</td>\n",
       "      <td>17558.09</td>\n",
       "      <td>False</td>\n",
       "      <td>27.050000</td>\n",
       "      <td>0.714586</td>\n",
       "      <td>7.808</td>\n",
       "    </tr>\n",
       "    <tr>\n",
       "      <th>...</th>\n",
       "      <td>...</td>\n",
       "      <td>...</td>\n",
       "      <td>...</td>\n",
       "      <td>...</td>\n",
       "      <td>...</td>\n",
       "      <td>...</td>\n",
       "      <td>...</td>\n",
       "      <td>...</td>\n",
       "      <td>...</td>\n",
       "    </tr>\n",
       "    <tr>\n",
       "      <th>10769</th>\n",
       "      <td>39</td>\n",
       "      <td>A</td>\n",
       "      <td>99</td>\n",
       "      <td>12/9/2011</td>\n",
       "      <td>895.00</td>\n",
       "      <td>False</td>\n",
       "      <td>9.644444</td>\n",
       "      <td>0.834256</td>\n",
       "      <td>7.716</td>\n",
       "    </tr>\n",
       "    <tr>\n",
       "      <th>10770</th>\n",
       "      <td>39</td>\n",
       "      <td>A</td>\n",
       "      <td>99</td>\n",
       "      <td>2/3/2012</td>\n",
       "      <td>350.00</td>\n",
       "      <td>False</td>\n",
       "      <td>15.938889</td>\n",
       "      <td>0.887619</td>\n",
       "      <td>7.244</td>\n",
       "    </tr>\n",
       "    <tr>\n",
       "      <th>10771</th>\n",
       "      <td>39</td>\n",
       "      <td>A</td>\n",
       "      <td>99</td>\n",
       "      <td>6/8/2012</td>\n",
       "      <td>450.00</td>\n",
       "      <td>False</td>\n",
       "      <td>27.288889</td>\n",
       "      <td>0.911922</td>\n",
       "      <td>6.989</td>\n",
       "    </tr>\n",
       "    <tr>\n",
       "      <th>10772</th>\n",
       "      <td>39</td>\n",
       "      <td>A</td>\n",
       "      <td>99</td>\n",
       "      <td>7/13/2012</td>\n",
       "      <td>0.06</td>\n",
       "      <td>False</td>\n",
       "      <td>25.644444</td>\n",
       "      <td>0.860145</td>\n",
       "      <td>6.623</td>\n",
       "    </tr>\n",
       "    <tr>\n",
       "      <th>10773</th>\n",
       "      <td>39</td>\n",
       "      <td>A</td>\n",
       "      <td>99</td>\n",
       "      <td>10/5/2012</td>\n",
       "      <td>915.00</td>\n",
       "      <td>False</td>\n",
       "      <td>22.250000</td>\n",
       "      <td>0.955511</td>\n",
       "      <td>6.228</td>\n",
       "    </tr>\n",
       "  </tbody>\n",
       "</table>\n",
       "<p>10774 rows × 9 columns</p>\n",
       "</div>"
      ],
      "text/plain": [
       "       store type  department       date  weekly_sales  is_holiday  \\\n",
       "0          1    A           1   2/5/2010      24924.50       False   \n",
       "1          1    A           1   3/5/2010      21827.90       False   \n",
       "2          1    A           1   4/2/2010      57258.43       False   \n",
       "3          1    A           1   5/7/2010      17413.94       False   \n",
       "4          1    A           1   6/4/2010      17558.09       False   \n",
       "...      ...  ...         ...        ...           ...         ...   \n",
       "10769     39    A          99  12/9/2011        895.00       False   \n",
       "10770     39    A          99   2/3/2012        350.00       False   \n",
       "10771     39    A          99   6/8/2012        450.00       False   \n",
       "10772     39    A          99  7/13/2012          0.06       False   \n",
       "10773     39    A          99  10/5/2012        915.00       False   \n",
       "\n",
       "       temperature  fuel_price  unemployment  \n",
       "0         5.727778    0.679451         8.106  \n",
       "1         8.055556    0.693452         8.106  \n",
       "2        16.816667    0.718284         7.808  \n",
       "3        22.527778    0.748928         7.808  \n",
       "4        27.050000    0.714586         7.808  \n",
       "...            ...         ...           ...  \n",
       "10769     9.644444    0.834256         7.716  \n",
       "10770    15.938889    0.887619         7.244  \n",
       "10771    27.288889    0.911922         6.989  \n",
       "10772    25.644444    0.860145         6.623  \n",
       "10773    22.250000    0.955511         6.228  \n",
       "\n",
       "[10774 rows x 9 columns]"
      ]
     },
     "execution_count": 147,
     "metadata": {},
     "output_type": "execute_result"
    }
   ],
   "source": [
    "## TODO 2.5\n",
    "walmart"
   ]
  },
  {
   "cell_type": "markdown",
   "id": "99c5c111",
   "metadata": {},
   "source": [
    "### <span style='color:#381c88'>Función *.groupby()*</span>\n",
    "\n",
    "#### 2.6 Haciendo cálculos con *groupby()*\n",
    "\n",
    "Implemente el punto 2.5 pero usando la función *groupby()*.\n",
    "\n",
    "> Much easier! Isn't it?"
   ]
  },
  {
   "cell_type": "code",
   "execution_count": 13,
   "id": "01d3c2ed",
   "metadata": {},
   "outputs": [],
   "source": [
    "## TODO 2.6"
   ]
  },
  {
   "cell_type": "markdown",
   "id": "8e2a7a7f",
   "metadata": {},
   "source": [
    "#### 2.7 Datos a partir de agrupamiento múltiple\n",
    "\n",
    "- A) Obtenga los mínimos, máximos, las medias (usando np.mean) y las medianas (usando np.median) de las ventas semanales para cada tipo de tienda.\n",
    "- B) Obtenga los mínimos, máximos, las medias (usando np.mean) y las medianas (usando np.median) de las columnas *unemployment* y *fuel_price* para cada tipo de tienda.\n",
    "\n",
    "**Hint:** Utilice *.groupby()* para agrupar datos y *.agg()* para aplicar las funciones."
   ]
  },
  {
   "cell_type": "code",
   "execution_count": 14,
   "id": "623ba854",
   "metadata": {},
   "outputs": [],
   "source": [
    "## TODO 2.7"
   ]
  },
  {
   "cell_type": "markdown",
   "id": "020ed0ca",
   "metadata": {},
   "source": [
    "### <span style='color:#381c88'>Tablas dinámicas</span>\n",
    "\n",
    "En esta parte utilizaremos la función *.pivot_table()*.\n",
    "\n",
    "#### 2.8 Datos a partir de agrupamiento múltiple\n",
    "\n",
    "- A) Obtenga la media y la mediana (con funciones de Numpy) de las ventas semanales por cada tipo de tienda usando *.pivot_table()* y almacene la tabla en *mediasYmedianas*.\n",
    "- B) Use *.pivot_table()* para crear una tabla donde muestre las ventas promedios por cada tipo de tienda, donde las columnas correspondan a *is_holiday*. Guarde esta tabla en *mediasXVacaciones*."
   ]
  },
  {
   "cell_type": "code",
   "execution_count": 79,
   "id": "5a8bb13d",
   "metadata": {},
   "outputs": [
    {
     "data": {
      "text/html": [
       "<div>\n",
       "<style scoped>\n",
       "    .dataframe tbody tr th:only-of-type {\n",
       "        vertical-align: middle;\n",
       "    }\n",
       "\n",
       "    .dataframe tbody tr th {\n",
       "        vertical-align: top;\n",
       "    }\n",
       "\n",
       "    .dataframe thead tr th {\n",
       "        text-align: left;\n",
       "    }\n",
       "\n",
       "    .dataframe thead tr:last-of-type th {\n",
       "        text-align: right;\n",
       "    }\n",
       "</style>\n",
       "<table border=\"1\" class=\"dataframe\">\n",
       "  <thead>\n",
       "    <tr>\n",
       "      <th></th>\n",
       "      <th colspan=\"4\" halign=\"left\">mean</th>\n",
       "      <th colspan=\"4\" halign=\"left\">median</th>\n",
       "    </tr>\n",
       "    <tr>\n",
       "      <th>type</th>\n",
       "      <th>A</th>\n",
       "      <th>B</th>\n",
       "      <th>C</th>\n",
       "      <th>D</th>\n",
       "      <th>A</th>\n",
       "      <th>B</th>\n",
       "      <th>C</th>\n",
       "      <th>D</th>\n",
       "    </tr>\n",
       "    <tr>\n",
       "      <th>department</th>\n",
       "      <th></th>\n",
       "      <th></th>\n",
       "      <th></th>\n",
       "      <th></th>\n",
       "      <th></th>\n",
       "      <th></th>\n",
       "      <th></th>\n",
       "      <th></th>\n",
       "    </tr>\n",
       "  </thead>\n",
       "  <tbody>\n",
       "    <tr>\n",
       "      <th>1</th>\n",
       "      <td>31190.167154</td>\n",
       "      <td>44050.626667</td>\n",
       "      <td>NaN</td>\n",
       "      <td>16113.010000</td>\n",
       "      <td>24780.020</td>\n",
       "      <td>31986.360</td>\n",
       "      <td>NaN</td>\n",
       "      <td>16113.01</td>\n",
       "    </tr>\n",
       "    <tr>\n",
       "      <th>2</th>\n",
       "      <td>68084.234264</td>\n",
       "      <td>112958.526667</td>\n",
       "      <td>45800.135000</td>\n",
       "      <td>48754.470000</td>\n",
       "      <td>68976.370</td>\n",
       "      <td>112812.985</td>\n",
       "      <td>45800.135</td>\n",
       "      <td>48754.47</td>\n",
       "    </tr>\n",
       "    <tr>\n",
       "      <th>3</th>\n",
       "      <td>17132.907344</td>\n",
       "      <td>30580.655000</td>\n",
       "      <td>40735.080000</td>\n",
       "      <td>10457.723333</td>\n",
       "      <td>13396.805</td>\n",
       "      <td>23145.625</td>\n",
       "      <td>40735.080</td>\n",
       "      <td>9775.17</td>\n",
       "    </tr>\n",
       "    <tr>\n",
       "      <th>4</th>\n",
       "      <td>44278.216378</td>\n",
       "      <td>51219.654167</td>\n",
       "      <td>54855.110000</td>\n",
       "      <td>37542.993333</td>\n",
       "      <td>42796.260</td>\n",
       "      <td>51485.930</td>\n",
       "      <td>54855.110</td>\n",
       "      <td>37168.34</td>\n",
       "    </tr>\n",
       "    <tr>\n",
       "      <th>5</th>\n",
       "      <td>34842.088923</td>\n",
       "      <td>63236.875000</td>\n",
       "      <td>27107.950000</td>\n",
       "      <td>39793.990000</td>\n",
       "      <td>30299.045</td>\n",
       "      <td>60400.660</td>\n",
       "      <td>27107.950</td>\n",
       "      <td>39793.99</td>\n",
       "    </tr>\n",
       "    <tr>\n",
       "      <th>...</th>\n",
       "      <td>...</td>\n",
       "      <td>...</td>\n",
       "      <td>...</td>\n",
       "      <td>...</td>\n",
       "      <td>...</td>\n",
       "      <td>...</td>\n",
       "      <td>...</td>\n",
       "      <td>...</td>\n",
       "    </tr>\n",
       "    <tr>\n",
       "      <th>95</th>\n",
       "      <td>123813.756538</td>\n",
       "      <td>77082.102500</td>\n",
       "      <td>131735.775000</td>\n",
       "      <td>NaN</td>\n",
       "      <td>123194.880</td>\n",
       "      <td>76416.640</td>\n",
       "      <td>131735.775</td>\n",
       "      <td>NaN</td>\n",
       "    </tr>\n",
       "    <tr>\n",
       "      <th>96</th>\n",
       "      <td>21367.042857</td>\n",
       "      <td>9528.538333</td>\n",
       "      <td>NaN</td>\n",
       "      <td>NaN</td>\n",
       "      <td>25187.875</td>\n",
       "      <td>9503.140</td>\n",
       "      <td>NaN</td>\n",
       "      <td>NaN</td>\n",
       "    </tr>\n",
       "    <tr>\n",
       "      <th>97</th>\n",
       "      <td>28510.668615</td>\n",
       "      <td>5828.873333</td>\n",
       "      <td>25910.160000</td>\n",
       "      <td>NaN</td>\n",
       "      <td>27240.870</td>\n",
       "      <td>5856.705</td>\n",
       "      <td>25910.160</td>\n",
       "      <td>NaN</td>\n",
       "    </tr>\n",
       "    <tr>\n",
       "      <th>98</th>\n",
       "      <td>12889.786357</td>\n",
       "      <td>217.428333</td>\n",
       "      <td>12257.806667</td>\n",
       "      <td>NaN</td>\n",
       "      <td>12651.700</td>\n",
       "      <td>34.100</td>\n",
       "      <td>12144.300</td>\n",
       "      <td>NaN</td>\n",
       "    </tr>\n",
       "    <tr>\n",
       "      <th>99</th>\n",
       "      <td>379.123659</td>\n",
       "      <td>NaN</td>\n",
       "      <td>NaN</td>\n",
       "      <td>NaN</td>\n",
       "      <td>167.000</td>\n",
       "      <td>NaN</td>\n",
       "      <td>NaN</td>\n",
       "      <td>NaN</td>\n",
       "    </tr>\n",
       "  </tbody>\n",
       "</table>\n",
       "<p>80 rows × 8 columns</p>\n",
       "</div>"
      ],
      "text/plain": [
       "                     mean                                              \\\n",
       "type                    A              B              C             D   \n",
       "department                                                              \n",
       "1            31190.167154   44050.626667            NaN  16113.010000   \n",
       "2            68084.234264  112958.526667   45800.135000  48754.470000   \n",
       "3            17132.907344   30580.655000   40735.080000  10457.723333   \n",
       "4            44278.216378   51219.654167   54855.110000  37542.993333   \n",
       "5            34842.088923   63236.875000   27107.950000  39793.990000   \n",
       "...                   ...            ...            ...           ...   \n",
       "95          123813.756538   77082.102500  131735.775000           NaN   \n",
       "96           21367.042857    9528.538333            NaN           NaN   \n",
       "97           28510.668615    5828.873333   25910.160000           NaN   \n",
       "98           12889.786357     217.428333   12257.806667           NaN   \n",
       "99             379.123659            NaN            NaN           NaN   \n",
       "\n",
       "                median                                    \n",
       "type                 A           B           C         D  \n",
       "department                                                \n",
       "1            24780.020   31986.360         NaN  16113.01  \n",
       "2            68976.370  112812.985   45800.135  48754.47  \n",
       "3            13396.805   23145.625   40735.080   9775.17  \n",
       "4            42796.260   51485.930   54855.110  37168.34  \n",
       "5            30299.045   60400.660   27107.950  39793.99  \n",
       "...                ...         ...         ...       ...  \n",
       "95          123194.880   76416.640  131735.775       NaN  \n",
       "96           25187.875    9503.140         NaN       NaN  \n",
       "97           27240.870    5856.705   25910.160       NaN  \n",
       "98           12651.700      34.100   12144.300       NaN  \n",
       "99             167.000         NaN         NaN       NaN  \n",
       "\n",
       "[80 rows x 8 columns]"
      ]
     },
     "execution_count": 79,
     "metadata": {},
     "output_type": "execute_result"
    }
   ],
   "source": [
    "## TODO 2.8\n",
    "walmart\n",
    "#mediasYmedianas = walmart.pivot_table(values = \"weekly_sales\", columns=\"type\", aggfunc = [np.mean,np.median])\n",
    "mediasYmedianas = walmart.pivot_table(values = \"weekly_sales\", columns=\"type\", aggfunc = [np.mean,np.median] , \n",
    "                                       index = \"department\")\n",
    "mediasYmedianas \n",
    "\n",
    "mediasXVacaciones = ___"
   ]
  },
  {
   "cell_type": "markdown",
   "id": "24fb932e",
   "metadata": {},
   "source": [
    "## <span style='color:#55aa74'>3. Temperatura a lo largo de los años</span>\n",
    "\n",
    "En esta parte trabajará con un set de datos que contiene valores de temperatura para diferentes países a lo largo de varios años. Usted cuenta con un archivo llamado *temperatures.csv* dentro de la carpeta *datasets/*."
   ]
  },
  {
   "cell_type": "code",
   "execution_count": 84,
   "id": "09f376ee",
   "metadata": {},
   "outputs": [],
   "source": [
    "t = pd.read_csv(\"datasets/temperatures.csv\")"
   ]
  },
  {
   "cell_type": "markdown",
   "id": "61c4784b",
   "metadata": {},
   "source": [
    "#### 3.1 Datos básicos\n",
    "\n",
    "Cargue el archivo en un dataframe llamado *temperaturas* y encuentre.\n",
    "\n",
    "1. Los 5 países con mayores temperaturas promedios en los últimos 5 años.\n",
    "2. Las 10 ciudades con mayores temperaturas promedios en los últimos 5 años.\n",
    "3. El país que haya sufrido el mayor aumento de temperatura desde el primer registro hasta el último registro dentro del set de datos. ¿Cuantos grados en promedio ha aumentado o disminuído la temperatura este país?"
   ]
  },
  {
   "cell_type": "code",
   "execution_count": 88,
   "id": "8d7bcb6e",
   "metadata": {},
   "outputs": [
    {
     "data": {
      "text/html": [
       "<div>\n",
       "<style scoped>\n",
       "    .dataframe tbody tr th:only-of-type {\n",
       "        vertical-align: middle;\n",
       "    }\n",
       "\n",
       "    .dataframe tbody tr th {\n",
       "        vertical-align: top;\n",
       "    }\n",
       "\n",
       "    .dataframe thead th {\n",
       "        text-align: right;\n",
       "    }\n",
       "</style>\n",
       "<table border=\"1\" class=\"dataframe\">\n",
       "  <thead>\n",
       "    <tr style=\"text-align: right;\">\n",
       "      <th></th>\n",
       "      <th>date</th>\n",
       "      <th>city</th>\n",
       "      <th>country</th>\n",
       "      <th>avg_temp_c</th>\n",
       "    </tr>\n",
       "  </thead>\n",
       "  <tbody>\n",
       "    <tr>\n",
       "      <th>0</th>\n",
       "      <td>2000-01-01</td>\n",
       "      <td>Abidjan</td>\n",
       "      <td>Costa de Marfil</td>\n",
       "      <td>27.293</td>\n",
       "    </tr>\n",
       "    <tr>\n",
       "      <th>1</th>\n",
       "      <td>2000-02-01</td>\n",
       "      <td>Abidjan</td>\n",
       "      <td>Costa de Marfil</td>\n",
       "      <td>27.685</td>\n",
       "    </tr>\n",
       "    <tr>\n",
       "      <th>2</th>\n",
       "      <td>2000-03-01</td>\n",
       "      <td>Abidjan</td>\n",
       "      <td>Costa de Marfil</td>\n",
       "      <td>29.061</td>\n",
       "    </tr>\n",
       "    <tr>\n",
       "      <th>3</th>\n",
       "      <td>2000-04-01</td>\n",
       "      <td>Abidjan</td>\n",
       "      <td>Costa de Marfil</td>\n",
       "      <td>28.162</td>\n",
       "    </tr>\n",
       "    <tr>\n",
       "      <th>4</th>\n",
       "      <td>2000-05-01</td>\n",
       "      <td>Abidjan</td>\n",
       "      <td>Costa de Marfil</td>\n",
       "      <td>27.547</td>\n",
       "    </tr>\n",
       "    <tr>\n",
       "      <th>...</th>\n",
       "      <td>...</td>\n",
       "      <td>...</td>\n",
       "      <td>...</td>\n",
       "      <td>...</td>\n",
       "    </tr>\n",
       "    <tr>\n",
       "      <th>16402</th>\n",
       "      <td>2013-04-01</td>\n",
       "      <td>Xian</td>\n",
       "      <td>China</td>\n",
       "      <td>12.563</td>\n",
       "    </tr>\n",
       "    <tr>\n",
       "      <th>16403</th>\n",
       "      <td>2013-05-01</td>\n",
       "      <td>Xian</td>\n",
       "      <td>China</td>\n",
       "      <td>18.979</td>\n",
       "    </tr>\n",
       "    <tr>\n",
       "      <th>16404</th>\n",
       "      <td>2013-06-01</td>\n",
       "      <td>Xian</td>\n",
       "      <td>China</td>\n",
       "      <td>23.522</td>\n",
       "    </tr>\n",
       "    <tr>\n",
       "      <th>16405</th>\n",
       "      <td>2013-07-01</td>\n",
       "      <td>Xian</td>\n",
       "      <td>China</td>\n",
       "      <td>25.251</td>\n",
       "    </tr>\n",
       "    <tr>\n",
       "      <th>16406</th>\n",
       "      <td>2013-08-01</td>\n",
       "      <td>Xian</td>\n",
       "      <td>China</td>\n",
       "      <td>24.528</td>\n",
       "    </tr>\n",
       "  </tbody>\n",
       "</table>\n",
       "<p>16407 rows × 4 columns</p>\n",
       "</div>"
      ],
      "text/plain": [
       "             date     city          country  avg_temp_c\n",
       "0      2000-01-01  Abidjan  Costa de Marfil      27.293\n",
       "1      2000-02-01  Abidjan  Costa de Marfil      27.685\n",
       "2      2000-03-01  Abidjan  Costa de Marfil      29.061\n",
       "3      2000-04-01  Abidjan  Costa de Marfil      28.162\n",
       "4      2000-05-01  Abidjan  Costa de Marfil      27.547\n",
       "...           ...      ...              ...         ...\n",
       "16402  2013-04-01     Xian            China      12.563\n",
       "16403  2013-05-01     Xian            China      18.979\n",
       "16404  2013-06-01     Xian            China      23.522\n",
       "16405  2013-07-01     Xian            China      25.251\n",
       "16406  2013-08-01     Xian            China      24.528\n",
       "\n",
       "[16407 rows x 4 columns]"
      ]
     },
     "execution_count": 88,
     "metadata": {},
     "output_type": "execute_result"
    }
   ],
   "source": [
    "## TODO 3.1\n",
    "t\n",
    "#t.sort_values(\"country\", \"avg_temp_c\")"
   ]
  },
  {
   "cell_type": "markdown",
   "id": "e35df6ae",
   "metadata": {},
   "source": [
    "#### 3.2 Subdatos con .loc[ ]\n",
    "\n",
    "1. Crear una lista llamada *ciudades* que contengan las ciudades de \"Montreal\" y \"Toronto\".\n",
    "2. Utilizando corchetes cree un subset de datos filtrando con la lista creada anteriormente. Nota: Puede ayudarse con *isin()*.\n",
    "3. Utilice *.set_index()* para crear un nuevo dataframe llamado *tempCity* con los índices a partir de las ciudades. Luego use la función .loc[] para crear un subset de datos que contenga las ciudades en la lista *ciudades*\n",
    "\n",
    "¿Cual de las formas de crear subsets les parece más facil y/o intuitiva?"
   ]
  },
  {
   "cell_type": "code",
   "execution_count": 18,
   "id": "8a652678",
   "metadata": {},
   "outputs": [],
   "source": [
    "## TODO 3.2"
   ]
  },
  {
   "cell_type": "markdown",
   "id": "b0eca49c",
   "metadata": {},
   "source": [
    "#### 3.3 Trabajando con índices multinivel\n",
    "\n",
    "A partir del dataframe *temperaturas* setee los índices *country* y *city* y asigne el dataframe a *tempCC*. Luego cree una lista de tuplas de tal manera de tener los pares país/ciudad de Brazil/Rio de Janeiro, Canada/Toronto y China/Wuhan. Finalmente, imprima un subset de datos de *tempCC* donde solo se muestren los datos correspondientes a los pares mencionados anteriormente. Utilice .loc[]."
   ]
  },
  {
   "cell_type": "code",
   "execution_count": 19,
   "id": "352d1544",
   "metadata": {},
   "outputs": [],
   "source": [
    "## TODO 3.3\n",
    "\n",
    "tempCC = ___"
   ]
  },
  {
   "cell_type": "markdown",
   "id": "40289d02",
   "metadata": {},
   "source": [
    "#### 3.4 Slicing\n",
    "\n",
    "Ordene el dataframe *tempCC* usando *.sort_index()* luego,\n",
    "\n",
    "1. Imprima un slice contemplando los países de Brasil hasta Dominican Republic.\n",
    "2. Imprimia un slice contemplando las ciudades de Belo Horizonte hasta Bogotá.\n",
    "3. Cree un dataframe llamado *tempsDates* el cual reciba el dataframe *temperaturas* pero con la columna *date* seteada como índice. Ordene *tempsDates* por índice. Luego imprima un slice que contemple las fechas 2010-07 y 2011-01."
   ]
  },
  {
   "cell_type": "code",
   "execution_count": 20,
   "id": "bb1e23ac",
   "metadata": {},
   "outputs": [],
   "source": [
    "## TODO 3.4"
   ]
  },
  {
   "cell_type": "markdown",
   "id": "bc35b5fa",
   "metadata": {},
   "source": [
    "#### 3.5 Tabla dinámica por ciudad y año\n",
    "\n",
    "Ahora creará una tabla dinámica para obtener información de la variación de temperatura por cada ciudad dentro del set de datos.\n",
    "\n",
    "1. En primer lugar, agregue una columna llamada *year* al set *temperaturas* que contenga los años a partir de la columna *date* del dataframe. Es posible obtener los días, los mesos o los años de un dato del tipo *fecha* haciendo\n",
    "\n",
    "```python\n",
    "dataframe[\"columa\"].dt.component\n",
    "```\n",
    "\n",
    "Así por ejemplo, tomando el dataframe *temperaturas* podríamos agregar una columna *year* haciendo,\n",
    "\n",
    "```python\n",
    "temperaturas[\"year\"] = temperaturas[\"date\"].dt.year\n",
    "```\n",
    "\n",
    "**IMPORTANTE**: Si al intentar hacer lo anterior usted recibe un error del tipo \n",
    "\n",
    "```python\n",
    "AttributeError: Can only use .dt accessor with datetimelike values\n",
    "```\n",
    "\n",
    "Debe ejecutar la siguiente linea de código para formatear las fechas.\n",
    "\n",
    "```python\n",
    "t['date'] = pd.to_datetime(t.date, format='%Y-%m-%d')\n",
    "```\n",
    "\n",
    "2. Cree una tabla pivote que tome los valores de *avg_temp_c*, donde los índices estén formados por *country* y *city* (en ese orden) y las columnas contengan los años de la columna *year* agregada en el paso anterior. Guarde la tabla en *tablaTemps*. Imprima *tablaTemps*."
   ]
  },
  {
   "cell_type": "code",
   "execution_count": 21,
   "id": "3ce243e9",
   "metadata": {},
   "outputs": [],
   "source": [
    "## TODO 3.5\n",
    "tablaTemps = ___"
   ]
  },
  {
   "cell_type": "markdown",
   "id": "37841646",
   "metadata": {},
   "source": [
    "#### 3.6 Variación de temperatura para la ciudad de Wuhan, China.\n",
    "\n",
    "A continuación veremos la variación de temperatura promedio desde el año 2000 al 2013 para la ciudad de Wuhan. Una forma de hacer esto es siguiendo estos pasos.\n",
    "\n",
    "- Utiliando el dataframe *temperaturas* con la columna *year* agregada, primeramente filtre con [] los datos correspondientes a *China*. Luego cree una *pivote_table()* donde sus valores estén formados por los datos de las columnas *avg_temp_c*, los índices correspondan a la columna *city* y las columnas correspondan a *year*.\n",
    "- Imprima la tabla. Si todo esta OK, Lla misma debe contener las temperaturas promedios de las ciudades de China que figuren en el dataset desde el año 2000 al año 2013. Guarde esta tabla en *tempsChinaCities*.\n",
    "- Utilizando *tempsChinaCities.loc[]* obtenga las variaciones de temperatura correspondientes a la ciudad de *Wuhan*. Guarde estos datos en *WuhanTemps*.\n",
    "- Finalmente, descomente las lineas para graficar."
   ]
  },
  {
   "cell_type": "code",
   "execution_count": 22,
   "id": "ccdd1b6d",
   "metadata": {},
   "outputs": [],
   "source": [
    "## TODO 3.6\n",
    "tempsChinaCities = ___\n",
    "WuhanTemps = ___"
   ]
  },
  {
   "cell_type": "code",
   "execution_count": 23,
   "id": "ba649f6b",
   "metadata": {},
   "outputs": [],
   "source": [
    "## # Descomentar para graficar\n",
    "# import matplotlib.pyplot as plt\n",
    "\n",
    "# plt.plot(WuhanTemps, label = \"Wuhan\")\n",
    "# plt.xlabel(\"Año\")\n",
    "# plt.ylabel(\"Temperatura [°C]\")\n",
    "# plt.title(\"Temperaturas promedios desde 2000 a 2013\")\n",
    "# plt.legend()\n",
    "# plt.show()"
   ]
  },
  {
   "cell_type": "markdown",
   "id": "de5b0f13",
   "metadata": {},
   "source": [
    "## <span style='color:#55aa74'>4. Graficación básica</span>\n",
    "\n",
    "En este ejercicio se trabajará con un set de datos que contiene las ventas semanales de *paltas* en tiendas de EEUU. Estas ventas están separadas por año, por tipo (convencional u orgnánico) y por tamaño (small, large, extra_large).\n",
    "\n",
    "Cargue los datos de *paltas.csv* que se encuentra dentro de *datasets/*. Imvestigue el dataframe con los métodos vistos."
   ]
  },
  {
   "cell_type": "markdown",
   "id": "0671c50f",
   "metadata": {},
   "source": [
    "#### 4.1 Paltas populares\n",
    "\n",
    "- Obtenga el número total de paltas vendidas por cada tamaño (*size*). Puede usar *.groupby()* para agrupar por tamaño y luego computar las ventas semanales totales. Guarde estos datos en *ventasXSize*.\n",
    "- Utilice *ventasXSize* para realizar un gráfico de barras."
   ]
  },
  {
   "cell_type": "code",
   "execution_count": 24,
   "id": "3c266db4",
   "metadata": {},
   "outputs": [],
   "source": [
    "## TODO 4.1 \n",
    "ventasXSize = ___\n",
    "\n",
    "## gráfica\n",
    "# ventasXSize.plot(kind = \"bar\")\n",
    "# plt.show()"
   ]
  },
  {
   "cell_type": "markdown",
   "id": "7eed0a95",
   "metadata": {},
   "source": [
    "#### 4.2 Ventas a lo largo del tiempo\n",
    "\n",
    "- Compute el número de paltas vendidas por fecha. Guarde los datos en *ventasXFecha*.\n",
    "- Realice un gráfico de *línea* a partir de *ventasXFecha*."
   ]
  },
  {
   "cell_type": "code",
   "execution_count": 25,
   "id": "2f4bdef6",
   "metadata": {},
   "outputs": [],
   "source": [
    "## TODO 4.2\n",
    "\n",
    "ventasXFecha = ___\n",
    "\n",
    "##gráfica\n",
    "pass"
   ]
  },
  {
   "cell_type": "markdown",
   "id": "6a88d68d",
   "metadata": {},
   "source": [
    "#### 4.3 Ventas vs Precio\n",
    "\n",
    "Realice un gráfico del tipo *scatter* en donde el eje x tenga los datos de la columna *nb_sold* y el eje y tenga los datos de la columna *avg_price*. Agregue un título al gráfico."
   ]
  },
  {
   "cell_type": "markdown",
   "id": "7499c447",
   "metadata": {},
   "source": [
    "#### 4.3 Convencional vs Orgánico\n",
    "\n",
    "Realice un histograma donde contabilicen las ventas semanales de paltas orgánicas y otro en donde contabilicen las ventas semanales de paltas convenionales. Coloque ambos histogramas en el mismo gráfico."
   ]
  },
  {
   "cell_type": "markdown",
   "id": "9af2b60f",
   "metadata": {},
   "source": [
    "## <span style='color:#55aa74'>5. Analizando jugadores FIFA 2021 (obligatorio)</span>\n",
    "\n",
    "Para este ejercicio se utilizará el set de datos del juego FIFA 2021. El mismo contiene información acerca de los jugadores de fútbol de diferentes ligas y selecciones a nivel mundial.\n",
    "\n",
    "El archivo con el cual trabajará se llama  *fifa2021.csv*.\n",
    "\n",
    "Antes de empezar, realizaremos una limpieza de los datos."
   ]
  },
  {
   "cell_type": "code",
   "execution_count": 5,
   "id": "818eb333",
   "metadata": {},
   "outputs": [
    {
     "data": {
      "text/html": [
       "<div>\n",
       "<style scoped>\n",
       "    .dataframe tbody tr th:only-of-type {\n",
       "        vertical-align: middle;\n",
       "    }\n",
       "\n",
       "    .dataframe tbody tr th {\n",
       "        vertical-align: top;\n",
       "    }\n",
       "\n",
       "    .dataframe thead th {\n",
       "        text-align: right;\n",
       "    }\n",
       "</style>\n",
       "<table border=\"1\" class=\"dataframe\">\n",
       "  <thead>\n",
       "    <tr style=\"text-align: right;\">\n",
       "      <th></th>\n",
       "      <th>sofifa_id</th>\n",
       "      <th>player_url</th>\n",
       "      <th>short_name</th>\n",
       "      <th>long_name</th>\n",
       "      <th>age</th>\n",
       "      <th>dob</th>\n",
       "      <th>height_cm</th>\n",
       "      <th>weight_kg</th>\n",
       "      <th>nationality</th>\n",
       "      <th>club_name</th>\n",
       "      <th>...</th>\n",
       "      <th>defending_marking</th>\n",
       "      <th>defending_standing_tackle</th>\n",
       "      <th>defending_sliding_tackle</th>\n",
       "      <th>goalkeeping_diving</th>\n",
       "      <th>goalkeeping_handling</th>\n",
       "      <th>goalkeeping_kicking</th>\n",
       "      <th>goalkeeping_positioning</th>\n",
       "      <th>goalkeeping_reflexes</th>\n",
       "      <th>ls</th>\n",
       "      <th>st</th>\n",
       "    </tr>\n",
       "  </thead>\n",
       "  <tbody>\n",
       "    <tr>\n",
       "      <th>0</th>\n",
       "      <td>158023</td>\n",
       "      <td>https://sofifa.com/player/158023/lionel-messi/...</td>\n",
       "      <td>L. Messi</td>\n",
       "      <td>Lionel Andrés Messi Cuccittini</td>\n",
       "      <td>33</td>\n",
       "      <td>6/24/1987</td>\n",
       "      <td>170</td>\n",
       "      <td>72</td>\n",
       "      <td>Argentina</td>\n",
       "      <td>FC Barcelona</td>\n",
       "      <td>...</td>\n",
       "      <td>NaN</td>\n",
       "      <td>35</td>\n",
       "      <td>24</td>\n",
       "      <td>6</td>\n",
       "      <td>11</td>\n",
       "      <td>15</td>\n",
       "      <td>14</td>\n",
       "      <td>8</td>\n",
       "      <td>89+3</td>\n",
       "      <td>89+3</td>\n",
       "    </tr>\n",
       "    <tr>\n",
       "      <th>1</th>\n",
       "      <td>20801</td>\n",
       "      <td>https://sofifa.com/player/20801/c-ronaldo-dos-...</td>\n",
       "      <td>Cristiano Ronaldo</td>\n",
       "      <td>Cristiano Ronaldo dos Santos Aveiro</td>\n",
       "      <td>35</td>\n",
       "      <td>2/5/1985</td>\n",
       "      <td>187</td>\n",
       "      <td>83</td>\n",
       "      <td>Portugal</td>\n",
       "      <td>Juventus</td>\n",
       "      <td>...</td>\n",
       "      <td>NaN</td>\n",
       "      <td>32</td>\n",
       "      <td>24</td>\n",
       "      <td>7</td>\n",
       "      <td>11</td>\n",
       "      <td>15</td>\n",
       "      <td>14</td>\n",
       "      <td>11</td>\n",
       "      <td>91+1</td>\n",
       "      <td>91+1</td>\n",
       "    </tr>\n",
       "    <tr>\n",
       "      <th>2</th>\n",
       "      <td>200389</td>\n",
       "      <td>https://sofifa.com/player/200389/jan-oblak/210002</td>\n",
       "      <td>J. Oblak</td>\n",
       "      <td>Jan Oblak</td>\n",
       "      <td>27</td>\n",
       "      <td>1/7/1993</td>\n",
       "      <td>188</td>\n",
       "      <td>87</td>\n",
       "      <td>Slovenia</td>\n",
       "      <td>Atlético Madrid</td>\n",
       "      <td>...</td>\n",
       "      <td>NaN</td>\n",
       "      <td>12</td>\n",
       "      <td>18</td>\n",
       "      <td>87</td>\n",
       "      <td>92</td>\n",
       "      <td>78</td>\n",
       "      <td>90</td>\n",
       "      <td>90</td>\n",
       "      <td>33+3</td>\n",
       "      <td>33+3</td>\n",
       "    </tr>\n",
       "    <tr>\n",
       "      <th>3</th>\n",
       "      <td>188545</td>\n",
       "      <td>https://sofifa.com/player/188545/robert-lewand...</td>\n",
       "      <td>R. Lewandowski</td>\n",
       "      <td>Robert Lewandowski</td>\n",
       "      <td>31</td>\n",
       "      <td>8/21/1988</td>\n",
       "      <td>184</td>\n",
       "      <td>80</td>\n",
       "      <td>Poland</td>\n",
       "      <td>FC Bayern München</td>\n",
       "      <td>...</td>\n",
       "      <td>NaN</td>\n",
       "      <td>42</td>\n",
       "      <td>19</td>\n",
       "      <td>15</td>\n",
       "      <td>6</td>\n",
       "      <td>12</td>\n",
       "      <td>8</td>\n",
       "      <td>10</td>\n",
       "      <td>89+2</td>\n",
       "      <td>89+2</td>\n",
       "    </tr>\n",
       "    <tr>\n",
       "      <th>4</th>\n",
       "      <td>190871</td>\n",
       "      <td>https://sofifa.com/player/190871/neymar-da-sil...</td>\n",
       "      <td>Neymar Jr</td>\n",
       "      <td>Neymar da Silva Santos Júnior</td>\n",
       "      <td>28</td>\n",
       "      <td>2/5/1992</td>\n",
       "      <td>175</td>\n",
       "      <td>68</td>\n",
       "      <td>Brazil</td>\n",
       "      <td>Paris Saint-Germain</td>\n",
       "      <td>...</td>\n",
       "      <td>NaN</td>\n",
       "      <td>30</td>\n",
       "      <td>29</td>\n",
       "      <td>9</td>\n",
       "      <td>9</td>\n",
       "      <td>15</td>\n",
       "      <td>15</td>\n",
       "      <td>11</td>\n",
       "      <td>84+3</td>\n",
       "      <td>84+3</td>\n",
       "    </tr>\n",
       "  </tbody>\n",
       "</table>\n",
       "<p>5 rows × 82 columns</p>\n",
       "</div>"
      ],
      "text/plain": [
       "   sofifa_id                                         player_url  \\\n",
       "0     158023  https://sofifa.com/player/158023/lionel-messi/...   \n",
       "1      20801  https://sofifa.com/player/20801/c-ronaldo-dos-...   \n",
       "2     200389  https://sofifa.com/player/200389/jan-oblak/210002   \n",
       "3     188545  https://sofifa.com/player/188545/robert-lewand...   \n",
       "4     190871  https://sofifa.com/player/190871/neymar-da-sil...   \n",
       "\n",
       "          short_name                            long_name  age        dob  \\\n",
       "0           L. Messi       Lionel Andrés Messi Cuccittini   33  6/24/1987   \n",
       "1  Cristiano Ronaldo  Cristiano Ronaldo dos Santos Aveiro   35   2/5/1985   \n",
       "2           J. Oblak                            Jan Oblak   27   1/7/1993   \n",
       "3     R. Lewandowski                   Robert Lewandowski   31  8/21/1988   \n",
       "4          Neymar Jr        Neymar da Silva Santos Júnior   28   2/5/1992   \n",
       "\n",
       "   height_cm  weight_kg nationality            club_name  ...  \\\n",
       "0        170         72   Argentina         FC Barcelona  ...   \n",
       "1        187         83    Portugal             Juventus  ...   \n",
       "2        188         87    Slovenia      Atlético Madrid  ...   \n",
       "3        184         80      Poland    FC Bayern München  ...   \n",
       "4        175         68      Brazil  Paris Saint-Germain  ...   \n",
       "\n",
       "  defending_marking  defending_standing_tackle  defending_sliding_tackle  \\\n",
       "0               NaN                         35                        24   \n",
       "1               NaN                         32                        24   \n",
       "2               NaN                         12                        18   \n",
       "3               NaN                         42                        19   \n",
       "4               NaN                         30                        29   \n",
       "\n",
       "   goalkeeping_diving  goalkeeping_handling  goalkeeping_kicking  \\\n",
       "0                   6                    11                   15   \n",
       "1                   7                    11                   15   \n",
       "2                  87                    92                   78   \n",
       "3                  15                     6                   12   \n",
       "4                   9                     9                   15   \n",
       "\n",
       "  goalkeeping_positioning goalkeeping_reflexes    ls    st  \n",
       "0                      14                    8  89+3  89+3  \n",
       "1                      14                   11  91+1  91+1  \n",
       "2                      90                   90  33+3  33+3  \n",
       "3                       8                   10  89+2  89+2  \n",
       "4                      15                   11  84+3  84+3  \n",
       "\n",
       "[5 rows x 82 columns]"
      ]
     },
     "execution_count": 5,
     "metadata": {},
     "output_type": "execute_result"
    }
   ],
   "source": [
    "fifa21 = pd.read_csv(\"datasets/fifa2021.csv\")\n",
    "fifa21.head()"
   ]
  },
  {
   "cell_type": "code",
   "execution_count": 6,
   "id": "50d13705",
   "metadata": {},
   "outputs": [
    {
     "name": "stdout",
     "output_type": "stream",
     "text": [
      "(18944, 82)\n"
     ]
    }
   ],
   "source": [
    "## Cantidad de datos\n",
    "print(fifa21.shape)"
   ]
  },
  {
   "cell_type": "code",
   "execution_count": 28,
   "id": "65562c8f",
   "metadata": {},
   "outputs": [
    {
     "data": {
      "text/plain": [
       "(18944, 75)"
      ]
     },
     "execution_count": 28,
     "metadata": {},
     "output_type": "execute_result"
    }
   ],
   "source": [
    "## Eliminamos algunas columnas con drop()\n",
    "fifa21 = fifa21.drop([\"sofifa_id\",\"player_url\",\"long_name\",\"dob\",\"team_jersey_number\",\"ls\",\"st\"], axis=1)\n",
    "fifa21.shape"
   ]
  },
  {
   "cell_type": "code",
   "execution_count": 7,
   "id": "1d0ffb92",
   "metadata": {},
   "outputs": [
    {
     "name": "stdout",
     "output_type": "stream",
     "text": [
      "Index(['club_name', 'league_name', 'league_rank', 'release_clause_eur',\n",
      "       'player_tags', 'team_position', 'team_jersey_number', 'loaned_from',\n",
      "       'joined', 'contract_valid_until', 'nation_position',\n",
      "       'nation_jersey_number', 'pace', 'shooting', 'passing', 'dribbling',\n",
      "       'defending', 'physic', 'gk_diving', 'gk_handling', 'gk_kicking',\n",
      "       'gk_reflexes', 'gk_speed', 'gk_positioning', 'player_traits',\n",
      "       'defending_marking'],\n",
      "      dtype='object')\n"
     ]
    }
   ],
   "source": [
    "## Chequeamos si tenemos columnas con valores NaN (al menos uno)\n",
    "print(fifa21.columns[fifa21.isna().any()])"
   ]
  },
  {
   "cell_type": "markdown",
   "id": "f6181e98",
   "metadata": {},
   "source": [
    "Vemos que varias columnas tienen al menos un valor NaN. Por simplicidad vamos a quitar dichas columnas."
   ]
  },
  {
   "cell_type": "code",
   "execution_count": 8,
   "id": "0dd180bf",
   "metadata": {},
   "outputs": [],
   "source": [
    "fifa21 = fifa21.drop(['league_rank', 'release_clause_eur',\n",
    "       'player_tags', 'team_position', 'loaned_from', 'joined',\n",
    "       'contract_valid_until', 'nation_position', 'nation_jersey_number',\n",
    "       'pace', 'shooting', 'passing', 'dribbling', 'defending', 'physic',\n",
    "       'gk_diving', 'gk_handling', 'gk_kicking', 'gk_reflexes', 'gk_speed',\n",
    "       'gk_positioning', 'player_traits', 'defending_marking','real_face'], axis = 1)"
   ]
  },
  {
   "cell_type": "code",
   "execution_count": 9,
   "id": "4cda385a",
   "metadata": {},
   "outputs": [
    {
     "data": {
      "text/html": [
       "<div>\n",
       "<style scoped>\n",
       "    .dataframe tbody tr th:only-of-type {\n",
       "        vertical-align: middle;\n",
       "    }\n",
       "\n",
       "    .dataframe tbody tr th {\n",
       "        vertical-align: top;\n",
       "    }\n",
       "\n",
       "    .dataframe thead th {\n",
       "        text-align: right;\n",
       "    }\n",
       "</style>\n",
       "<table border=\"1\" class=\"dataframe\">\n",
       "  <thead>\n",
       "    <tr style=\"text-align: right;\">\n",
       "      <th></th>\n",
       "      <th>sofifa_id</th>\n",
       "      <th>player_url</th>\n",
       "      <th>short_name</th>\n",
       "      <th>long_name</th>\n",
       "      <th>age</th>\n",
       "      <th>dob</th>\n",
       "      <th>height_cm</th>\n",
       "      <th>weight_kg</th>\n",
       "      <th>nationality</th>\n",
       "      <th>club_name</th>\n",
       "      <th>...</th>\n",
       "      <th>mentality_composure</th>\n",
       "      <th>defending_standing_tackle</th>\n",
       "      <th>defending_sliding_tackle</th>\n",
       "      <th>goalkeeping_diving</th>\n",
       "      <th>goalkeeping_handling</th>\n",
       "      <th>goalkeeping_kicking</th>\n",
       "      <th>goalkeeping_positioning</th>\n",
       "      <th>goalkeeping_reflexes</th>\n",
       "      <th>ls</th>\n",
       "      <th>st</th>\n",
       "    </tr>\n",
       "  </thead>\n",
       "  <tbody>\n",
       "    <tr>\n",
       "      <th>0</th>\n",
       "      <td>158023</td>\n",
       "      <td>https://sofifa.com/player/158023/lionel-messi/...</td>\n",
       "      <td>L. Messi</td>\n",
       "      <td>Lionel Andrés Messi Cuccittini</td>\n",
       "      <td>33</td>\n",
       "      <td>6/24/1987</td>\n",
       "      <td>170</td>\n",
       "      <td>72</td>\n",
       "      <td>Argentina</td>\n",
       "      <td>FC Barcelona</td>\n",
       "      <td>...</td>\n",
       "      <td>96</td>\n",
       "      <td>35</td>\n",
       "      <td>24</td>\n",
       "      <td>6</td>\n",
       "      <td>11</td>\n",
       "      <td>15</td>\n",
       "      <td>14</td>\n",
       "      <td>8</td>\n",
       "      <td>89+3</td>\n",
       "      <td>89+3</td>\n",
       "    </tr>\n",
       "    <tr>\n",
       "      <th>1</th>\n",
       "      <td>20801</td>\n",
       "      <td>https://sofifa.com/player/20801/c-ronaldo-dos-...</td>\n",
       "      <td>Cristiano Ronaldo</td>\n",
       "      <td>Cristiano Ronaldo dos Santos Aveiro</td>\n",
       "      <td>35</td>\n",
       "      <td>2/5/1985</td>\n",
       "      <td>187</td>\n",
       "      <td>83</td>\n",
       "      <td>Portugal</td>\n",
       "      <td>Juventus</td>\n",
       "      <td>...</td>\n",
       "      <td>95</td>\n",
       "      <td>32</td>\n",
       "      <td>24</td>\n",
       "      <td>7</td>\n",
       "      <td>11</td>\n",
       "      <td>15</td>\n",
       "      <td>14</td>\n",
       "      <td>11</td>\n",
       "      <td>91+1</td>\n",
       "      <td>91+1</td>\n",
       "    </tr>\n",
       "    <tr>\n",
       "      <th>2</th>\n",
       "      <td>200389</td>\n",
       "      <td>https://sofifa.com/player/200389/jan-oblak/210002</td>\n",
       "      <td>J. Oblak</td>\n",
       "      <td>Jan Oblak</td>\n",
       "      <td>27</td>\n",
       "      <td>1/7/1993</td>\n",
       "      <td>188</td>\n",
       "      <td>87</td>\n",
       "      <td>Slovenia</td>\n",
       "      <td>Atlético Madrid</td>\n",
       "      <td>...</td>\n",
       "      <td>68</td>\n",
       "      <td>12</td>\n",
       "      <td>18</td>\n",
       "      <td>87</td>\n",
       "      <td>92</td>\n",
       "      <td>78</td>\n",
       "      <td>90</td>\n",
       "      <td>90</td>\n",
       "      <td>33+3</td>\n",
       "      <td>33+3</td>\n",
       "    </tr>\n",
       "    <tr>\n",
       "      <th>3</th>\n",
       "      <td>188545</td>\n",
       "      <td>https://sofifa.com/player/188545/robert-lewand...</td>\n",
       "      <td>R. Lewandowski</td>\n",
       "      <td>Robert Lewandowski</td>\n",
       "      <td>31</td>\n",
       "      <td>8/21/1988</td>\n",
       "      <td>184</td>\n",
       "      <td>80</td>\n",
       "      <td>Poland</td>\n",
       "      <td>FC Bayern München</td>\n",
       "      <td>...</td>\n",
       "      <td>88</td>\n",
       "      <td>42</td>\n",
       "      <td>19</td>\n",
       "      <td>15</td>\n",
       "      <td>6</td>\n",
       "      <td>12</td>\n",
       "      <td>8</td>\n",
       "      <td>10</td>\n",
       "      <td>89+2</td>\n",
       "      <td>89+2</td>\n",
       "    </tr>\n",
       "    <tr>\n",
       "      <th>4</th>\n",
       "      <td>190871</td>\n",
       "      <td>https://sofifa.com/player/190871/neymar-da-sil...</td>\n",
       "      <td>Neymar Jr</td>\n",
       "      <td>Neymar da Silva Santos Júnior</td>\n",
       "      <td>28</td>\n",
       "      <td>2/5/1992</td>\n",
       "      <td>175</td>\n",
       "      <td>68</td>\n",
       "      <td>Brazil</td>\n",
       "      <td>Paris Saint-Germain</td>\n",
       "      <td>...</td>\n",
       "      <td>93</td>\n",
       "      <td>30</td>\n",
       "      <td>29</td>\n",
       "      <td>9</td>\n",
       "      <td>9</td>\n",
       "      <td>15</td>\n",
       "      <td>15</td>\n",
       "      <td>11</td>\n",
       "      <td>84+3</td>\n",
       "      <td>84+3</td>\n",
       "    </tr>\n",
       "    <tr>\n",
       "      <th>...</th>\n",
       "      <td>...</td>\n",
       "      <td>...</td>\n",
       "      <td>...</td>\n",
       "      <td>...</td>\n",
       "      <td>...</td>\n",
       "      <td>...</td>\n",
       "      <td>...</td>\n",
       "      <td>...</td>\n",
       "      <td>...</td>\n",
       "      <td>...</td>\n",
       "      <td>...</td>\n",
       "      <td>...</td>\n",
       "      <td>...</td>\n",
       "      <td>...</td>\n",
       "      <td>...</td>\n",
       "      <td>...</td>\n",
       "      <td>...</td>\n",
       "      <td>...</td>\n",
       "      <td>...</td>\n",
       "      <td>...</td>\n",
       "      <td>...</td>\n",
       "    </tr>\n",
       "    <tr>\n",
       "      <th>18939</th>\n",
       "      <td>256679</td>\n",
       "      <td>https://sofifa.com/player/256679/kevin-angulo/...</td>\n",
       "      <td>K. Angulo</td>\n",
       "      <td>Kevin Angulo</td>\n",
       "      <td>24</td>\n",
       "      <td>4/13/1996</td>\n",
       "      <td>176</td>\n",
       "      <td>73</td>\n",
       "      <td>Colombia</td>\n",
       "      <td>América de Cali</td>\n",
       "      <td>...</td>\n",
       "      <td>36</td>\n",
       "      <td>39</td>\n",
       "      <td>54</td>\n",
       "      <td>10</td>\n",
       "      <td>9</td>\n",
       "      <td>14</td>\n",
       "      <td>6</td>\n",
       "      <td>6</td>\n",
       "      <td>44+2</td>\n",
       "      <td>44+2</td>\n",
       "    </tr>\n",
       "    <tr>\n",
       "      <th>18940</th>\n",
       "      <td>257710</td>\n",
       "      <td>https://sofifa.com/player/257710/mengxuan-zhan...</td>\n",
       "      <td>Zhang Mengxuan</td>\n",
       "      <td>Mengxuan Zhang</td>\n",
       "      <td>21</td>\n",
       "      <td>4/26/1999</td>\n",
       "      <td>177</td>\n",
       "      <td>70</td>\n",
       "      <td>China PR</td>\n",
       "      <td>Chongqing Dangdai Lifan FC SWM Team</td>\n",
       "      <td>...</td>\n",
       "      <td>40</td>\n",
       "      <td>56</td>\n",
       "      <td>47</td>\n",
       "      <td>12</td>\n",
       "      <td>13</td>\n",
       "      <td>8</td>\n",
       "      <td>14</td>\n",
       "      <td>6</td>\n",
       "      <td>32+2</td>\n",
       "      <td>32+2</td>\n",
       "    </tr>\n",
       "    <tr>\n",
       "      <th>18941</th>\n",
       "      <td>250989</td>\n",
       "      <td>https://sofifa.com/player/250989/zhenghao-wang...</td>\n",
       "      <td>Wang Zhenghao</td>\n",
       "      <td>王政豪</td>\n",
       "      <td>20</td>\n",
       "      <td>6/28/2000</td>\n",
       "      <td>185</td>\n",
       "      <td>74</td>\n",
       "      <td>China PR</td>\n",
       "      <td>Tianjin TEDA FC</td>\n",
       "      <td>...</td>\n",
       "      <td>40</td>\n",
       "      <td>55</td>\n",
       "      <td>45</td>\n",
       "      <td>12</td>\n",
       "      <td>9</td>\n",
       "      <td>14</td>\n",
       "      <td>15</td>\n",
       "      <td>13</td>\n",
       "      <td>34+2</td>\n",
       "      <td>34+2</td>\n",
       "    </tr>\n",
       "    <tr>\n",
       "      <th>18942</th>\n",
       "      <td>257697</td>\n",
       "      <td>https://sofifa.com/player/257697/zitong-chen/2...</td>\n",
       "      <td>Chen Zitong</td>\n",
       "      <td>Zitong Chen</td>\n",
       "      <td>23</td>\n",
       "      <td>2/20/1997</td>\n",
       "      <td>186</td>\n",
       "      <td>80</td>\n",
       "      <td>China PR</td>\n",
       "      <td>Shijiazhuang Ever Bright F.C.</td>\n",
       "      <td>...</td>\n",
       "      <td>43</td>\n",
       "      <td>49</td>\n",
       "      <td>45</td>\n",
       "      <td>15</td>\n",
       "      <td>7</td>\n",
       "      <td>7</td>\n",
       "      <td>5</td>\n",
       "      <td>13</td>\n",
       "      <td>44+2</td>\n",
       "      <td>44+2</td>\n",
       "    </tr>\n",
       "    <tr>\n",
       "      <th>18943</th>\n",
       "      <td>257936</td>\n",
       "      <td>https://sofifa.com/player/257936/yue-song/210002</td>\n",
       "      <td>Song Yue</td>\n",
       "      <td>Yue Song</td>\n",
       "      <td>28</td>\n",
       "      <td>11/20/1991</td>\n",
       "      <td>185</td>\n",
       "      <td>79</td>\n",
       "      <td>China PR</td>\n",
       "      <td>Tianjin TEDA FC</td>\n",
       "      <td>...</td>\n",
       "      <td>35</td>\n",
       "      <td>43</td>\n",
       "      <td>45</td>\n",
       "      <td>8</td>\n",
       "      <td>5</td>\n",
       "      <td>11</td>\n",
       "      <td>5</td>\n",
       "      <td>7</td>\n",
       "      <td>46+1</td>\n",
       "      <td>46+1</td>\n",
       "    </tr>\n",
       "  </tbody>\n",
       "</table>\n",
       "<p>18944 rows × 58 columns</p>\n",
       "</div>"
      ],
      "text/plain": [
       "       sofifa_id                                         player_url  \\\n",
       "0         158023  https://sofifa.com/player/158023/lionel-messi/...   \n",
       "1          20801  https://sofifa.com/player/20801/c-ronaldo-dos-...   \n",
       "2         200389  https://sofifa.com/player/200389/jan-oblak/210002   \n",
       "3         188545  https://sofifa.com/player/188545/robert-lewand...   \n",
       "4         190871  https://sofifa.com/player/190871/neymar-da-sil...   \n",
       "...          ...                                                ...   \n",
       "18939     256679  https://sofifa.com/player/256679/kevin-angulo/...   \n",
       "18940     257710  https://sofifa.com/player/257710/mengxuan-zhan...   \n",
       "18941     250989  https://sofifa.com/player/250989/zhenghao-wang...   \n",
       "18942     257697  https://sofifa.com/player/257697/zitong-chen/2...   \n",
       "18943     257936   https://sofifa.com/player/257936/yue-song/210002   \n",
       "\n",
       "              short_name                            long_name  age  \\\n",
       "0               L. Messi       Lionel Andrés Messi Cuccittini   33   \n",
       "1      Cristiano Ronaldo  Cristiano Ronaldo dos Santos Aveiro   35   \n",
       "2               J. Oblak                            Jan Oblak   27   \n",
       "3         R. Lewandowski                   Robert Lewandowski   31   \n",
       "4              Neymar Jr        Neymar da Silva Santos Júnior   28   \n",
       "...                  ...                                  ...  ...   \n",
       "18939          K. Angulo                         Kevin Angulo   24   \n",
       "18940     Zhang Mengxuan                       Mengxuan Zhang   21   \n",
       "18941      Wang Zhenghao                                  王政豪   20   \n",
       "18942        Chen Zitong                          Zitong Chen   23   \n",
       "18943           Song Yue                             Yue Song   28   \n",
       "\n",
       "              dob  height_cm  weight_kg nationality  \\\n",
       "0       6/24/1987        170         72   Argentina   \n",
       "1        2/5/1985        187         83    Portugal   \n",
       "2        1/7/1993        188         87    Slovenia   \n",
       "3       8/21/1988        184         80      Poland   \n",
       "4        2/5/1992        175         68      Brazil   \n",
       "...           ...        ...        ...         ...   \n",
       "18939   4/13/1996        176         73    Colombia   \n",
       "18940   4/26/1999        177         70    China PR   \n",
       "18941   6/28/2000        185         74    China PR   \n",
       "18942   2/20/1997        186         80    China PR   \n",
       "18943  11/20/1991        185         79    China PR   \n",
       "\n",
       "                                 club_name  ... mentality_composure  \\\n",
       "0                             FC Barcelona  ...                  96   \n",
       "1                                 Juventus  ...                  95   \n",
       "2                          Atlético Madrid  ...                  68   \n",
       "3                        FC Bayern München  ...                  88   \n",
       "4                      Paris Saint-Germain  ...                  93   \n",
       "...                                    ...  ...                 ...   \n",
       "18939                      América de Cali  ...                  36   \n",
       "18940  Chongqing Dangdai Lifan FC SWM Team  ...                  40   \n",
       "18941                      Tianjin TEDA FC  ...                  40   \n",
       "18942        Shijiazhuang Ever Bright F.C.  ...                  43   \n",
       "18943                      Tianjin TEDA FC  ...                  35   \n",
       "\n",
       "       defending_standing_tackle  defending_sliding_tackle  \\\n",
       "0                             35                        24   \n",
       "1                             32                        24   \n",
       "2                             12                        18   \n",
       "3                             42                        19   \n",
       "4                             30                        29   \n",
       "...                          ...                       ...   \n",
       "18939                         39                        54   \n",
       "18940                         56                        47   \n",
       "18941                         55                        45   \n",
       "18942                         49                        45   \n",
       "18943                         43                        45   \n",
       "\n",
       "       goalkeeping_diving  goalkeeping_handling goalkeeping_kicking  \\\n",
       "0                       6                    11                  15   \n",
       "1                       7                    11                  15   \n",
       "2                      87                    92                  78   \n",
       "3                      15                     6                  12   \n",
       "4                       9                     9                  15   \n",
       "...                   ...                   ...                 ...   \n",
       "18939                  10                     9                  14   \n",
       "18940                  12                    13                   8   \n",
       "18941                  12                     9                  14   \n",
       "18942                  15                     7                   7   \n",
       "18943                   8                     5                  11   \n",
       "\n",
       "      goalkeeping_positioning  goalkeeping_reflexes    ls    st  \n",
       "0                          14                     8  89+3  89+3  \n",
       "1                          14                    11  91+1  91+1  \n",
       "2                          90                    90  33+3  33+3  \n",
       "3                           8                    10  89+2  89+2  \n",
       "4                          15                    11  84+3  84+3  \n",
       "...                       ...                   ...   ...   ...  \n",
       "18939                       6                     6  44+2  44+2  \n",
       "18940                      14                     6  32+2  32+2  \n",
       "18941                      15                    13  34+2  34+2  \n",
       "18942                       5                    13  44+2  44+2  \n",
       "18943                       5                     7  46+1  46+1  \n",
       "\n",
       "[18944 rows x 58 columns]"
      ]
     },
     "execution_count": 9,
     "metadata": {},
     "output_type": "execute_result"
    }
   ],
   "source": [
    "fifa21.shape\n",
    "fifa21"
   ]
  },
  {
   "cell_type": "markdown",
   "id": "00bd6195",
   "metadata": {},
   "source": [
    "Ahora vamos a chequear si tenemos algún valor Nan dentro del DataFrame."
   ]
  },
  {
   "cell_type": "code",
   "execution_count": 10,
   "id": "fad46c93",
   "metadata": {},
   "outputs": [
    {
     "data": {
      "text/plain": [
       "True"
      ]
     },
     "execution_count": 10,
     "metadata": {},
     "output_type": "execute_result"
    }
   ],
   "source": [
    "fifa21.isna().any().any()"
   ]
  },
  {
   "cell_type": "markdown",
   "id": "b1b11f04",
   "metadata": {},
   "source": [
    "Vemos que *fifa21.isna().any().any()* nos arroja *True*, indicando que tenemos valores NaN.\n",
    "\n",
    "Cuando hacemos\n",
    "\n",
    "```python\n",
    "fifa21.isna().any().any()\n",
    "```\n",
    "\n",
    "Estamos evaluando si algún valor dentro del objeto *Series* de pandas devuelto al hacer *fifa21.isna().any()* tiene algún valor True. Como al menos un valor dentro del objeto *Series* posee un valor True, *fifa21.isna().any().any()* nos arroja True."
   ]
  },
  {
   "cell_type": "code",
   "execution_count": 11,
   "id": "bf39114c",
   "metadata": {},
   "outputs": [],
   "source": [
    "## Nos quedamos con aquellos datos que tienen nombres de club que no sean NA\n",
    "fifa21 = fifa21[fifa21[\"club_name\"].notna()]\n",
    "\n",
    "## Nos quedamos con aquellos datos que tienen nombres de liga que no sean NA\n",
    "fifa21 = fifa21[fifa21[\"league_name\"].notna()]"
   ]
  },
  {
   "cell_type": "code",
   "execution_count": 12,
   "id": "99d7782b",
   "metadata": {},
   "outputs": [],
   "source": [
    "## El resto lo llenamos de cero\n",
    "fifa21 = fifa21.fillna(0)"
   ]
  },
  {
   "cell_type": "markdown",
   "id": "ebcfffb4",
   "metadata": {},
   "source": [
    "¿Estamos seguros que hemos sacado todos los valores NaN?"
   ]
  },
  {
   "cell_type": "code",
   "execution_count": 35,
   "id": "0119b78a",
   "metadata": {},
   "outputs": [
    {
     "data": {
      "text/plain": [
       "False"
      ]
     },
     "execution_count": 35,
     "metadata": {},
     "output_type": "execute_result"
    }
   ],
   "source": [
    "fifa21.isnull().values.any()"
   ]
  },
  {
   "cell_type": "markdown",
   "id": "7f80b462",
   "metadata": {},
   "source": [
    "Por lo que podemos ver, ¡sí!"
   ]
  },
  {
   "cell_type": "markdown",
   "id": "1c0ed994",
   "metadata": {},
   "source": [
    "##### <span style='color:#5DADE2'>Chequeando valores *Null*</span>\n",
    "\n",
    "Podríamos tener valores *Null* dentro del dataframe. Pandas ofrece un método para chequear la presencia de este tipo de valores, el mismo es *.isnull()*.\n",
    "\n",
    "Veamos si tenemos datos null."
   ]
  },
  {
   "cell_type": "code",
   "execution_count": 13,
   "id": "b886fdaa",
   "metadata": {},
   "outputs": [
    {
     "data": {
      "text/plain": [
       "False"
      ]
     },
     "execution_count": 13,
     "metadata": {},
     "output_type": "execute_result"
    }
   ],
   "source": [
    "fifa21.isnull().values.any()"
   ]
  },
  {
   "cell_type": "markdown",
   "id": "7a61084a",
   "metadata": {},
   "source": [
    "Por lo que podemos ver, no tenemos valores *null* dentro de nuestro set de datos.\n",
    "\n",
    "Ahora podemos empezar a trabajar con el dataframe.\n",
    "\n",
    "Empecemos..."
   ]
  },
  {
   "cell_type": "code",
   "execution_count": 37,
   "id": "e853b00f",
   "metadata": {},
   "outputs": [
    {
     "name": "stdout",
     "output_type": "stream",
     "text": [
      "Cantidad de filas/observaciones 18719\n",
      "Cantidad de variables/columnas 51\n"
     ]
    }
   ],
   "source": [
    "print(f\"Cantidad de filas/observaciones {fifa21.shape[0]}\")\n",
    "print(f\"Cantidad de variables/columnas {fifa21.shape[1]}\")"
   ]
  },
  {
   "cell_type": "markdown",
   "id": "fade27a0",
   "metadata": {},
   "source": [
    "##### <span style='color:#5DADE2'>¿Cuantos y qué paises tenemos en el set de datos?</span>\n",
    "\n",
    "Podríamos usar [*pandas.unique(values)*](https://pandas.pydata.org/docs/reference/api/pandas.unique.html) para determinar los jugadores por países de la siguiente manera."
   ]
  },
  {
   "cell_type": "code",
   "execution_count": 14,
   "id": "f90288b3",
   "metadata": {},
   "outputs": [
    {
     "name": "stdout",
     "output_type": "stream",
     "text": [
      "Cantidad de países en el set 161\n"
     ]
    },
    {
     "data": {
      "text/plain": [
       "array(['Argentina', 'Portugal', 'Slovenia', 'Poland', 'Brazil', 'Belgium',\n",
       "       'France', 'Germany', 'Netherlands', 'Senegal', 'Egypt', 'Spain',\n",
       "       'England', 'Scotland', 'Italy', 'Uruguay', 'Croatia', 'Gabon',\n",
       "       'Costa Rica', 'Korea Republic', 'Switzerland', 'Serbia',\n",
       "       'Slovakia', 'Morocco', 'Bosnia Herzegovina', 'Hungary', 'Denmark',\n",
       "       'Algeria', 'Norway', 'Cameroon', 'Nigeria', 'Ghana', 'Mexico',\n",
       "       'Austria', 'Albania', 'Greece', 'Sweden', 'Wales', 'Chile',\n",
       "       'Finland', 'Ivory Coast', 'Colombia', 'Togo', 'Czech Republic',\n",
       "       'Russia', 'Canada', 'United States', 'Guinea', 'Montenegro',\n",
       "       'Venezuela', 'Ukraine', 'Republic of Ireland', 'Israel', 'Jamaica',\n",
       "       'Turkey', 'Australia', 'Northern Ireland', 'China PR', 'Armenia',\n",
       "       'DR Congo', 'Ecuador', 'Kosovo', 'North Macedonia',\n",
       "       'Central African Republic', 'Iceland', 'Peru', 'Mali',\n",
       "       'Burkina Faso', 'Paraguay', 'Romania', 'New Zealand', 'Japan',\n",
       "       'Cape Verde', 'Tunisia', 'Angola', 'Dominican Republic', 'Syria',\n",
       "       'Iran', 'Zambia', 'Panama', 'Georgia', 'Equatorial Guinea',\n",
       "       'Tanzania', 'Kenya', 'Honduras', 'Congo', 'Guinea Bissau',\n",
       "       'Zimbabwe', 'South Africa', 'Iraq', 'Madagascar', 'Moldova',\n",
       "       'Curacao', 'Cuba', 'Mozambique', 'Gambia', 'Cyprus', 'Estonia',\n",
       "       'Benin', 'Lithuania', 'Saudi Arabia', 'Liberia', 'Bulgaria',\n",
       "       'Libya', 'Philippines', 'Sierra Leone', 'Uzbekistan',\n",
       "       'Saint Kitts and Nevis', 'United Arab Emirates', 'Comoros', 'Chad',\n",
       "       'Namibia', 'Thailand', 'Bermuda', 'Luxembourg',\n",
       "       'Trinidad & Tobago', 'Antigua & Barbuda', 'Burundi', 'Kazakhstan',\n",
       "       'New Caledonia', 'Puerto Rico', 'Bolivia', 'Eritrea', 'Latvia',\n",
       "       'Montserrat', 'São Tomé & Príncipe', 'Malawi', 'Mauritania',\n",
       "       'El Salvador', 'Haiti', 'Uganda', 'Chinese Taipei', 'Aruba',\n",
       "       'Faroe Islands', 'Guyana', 'Azerbaijan', 'Afghanistan', 'Sudan',\n",
       "       'Guam', 'Belarus', 'Rwanda', 'Grenada', 'Palestine', 'Lebanon',\n",
       "       'Papua New Guinea', 'Jordan', 'Saint Lucia', 'Liechtenstein',\n",
       "       'Ethiopia', 'Belize', 'Niger', 'Malta', 'Andorra', 'Barbados',\n",
       "       'South Sudan', 'Macau', 'Korea DPR', 'Hong Kong', 'Malaysia',\n",
       "       'Indonesia', 'Nicaragua'], dtype=object)"
      ]
     },
     "execution_count": 14,
     "metadata": {},
     "output_type": "execute_result"
    }
   ],
   "source": [
    "print(f\"Cantidad de países en el set {len(fifa21['nationality'].unique())}\")\n",
    "fifa21['nationality'].unique()"
   ]
  },
  {
   "cell_type": "markdown",
   "id": "aab43108",
   "metadata": {},
   "source": [
    "### <span style='color:#EC7063'>Ejercicios para punto 5</span>\n",
    "\n",
    "A partir de acá usted debe resolver lo que se pide."
   ]
  },
  {
   "cell_type": "markdown",
   "id": "635360b5",
   "metadata": {},
   "source": [
    "##### 5.1 Jugadores de Uruguay y Argentina\n",
    "\n",
    "¿Qué y cuántos jugadores de Uruguay tenemos en el set de datos? ¿Cuales y cuantos de Argen tina?\n",
    "\n",
    "Podemos responder a la pregunta aplicando lo que hemos visto. A continuación se muestra un ejemplo para obtener los jugadores de Uruguay. Repita para Argentina (y otros países si quisiera)."
   ]
  },
  {
   "cell_type": "code",
   "execution_count": 39,
   "id": "271a1507",
   "metadata": {},
   "outputs": [
    {
     "name": "stdout",
     "output_type": "stream",
     "text": [
      "Cantidad de jugadores de Uruguay en el set de datos 311\n",
      "\n",
      "Lista\n",
      "10163         A. Ale\n",
      "18260      A. Alfaro\n",
      "7255      A. Argachá\n",
      "17428     A. Barboza\n",
      "9672     A. Canobbio\n",
      "            ...     \n",
      "18088    T. Galletto\n",
      "6424       T. Vecino\n",
      "6194      W. Camacho\n",
      "2818      W. Gargano\n",
      "7581     Y. Calleros\n",
      "Name: short_name, Length: 311, dtype: object\n"
     ]
    }
   ],
   "source": [
    "jugadoresUruguay = fifa21[fifa21[\"nationality\"] == \"Uruguay\"].drop_duplicates(subset = \"short_name\")[\"short_name\"].sort_values()\n",
    "print(f\"Cantidad de jugadores de Uruguay en el set de datos {jugadoresUruguay.shape[0]}\")\n",
    "print()\n",
    "print(\"Lista\")\n",
    "print(jugadoresUruguay)"
   ]
  },
  {
   "cell_type": "code",
   "execution_count": 105,
   "id": "9f72f637",
   "metadata": {},
   "outputs": [
    {
     "name": "stdout",
     "output_type": "stream",
     "text": [
      "Cantidad de jugadores de Argentina en el set de datos 898\n",
      "\n",
      "Lista\n",
      "2236       A. Aguerre\n",
      "16751      A. Aguirre\n",
      "12067         A. Aleo\n",
      "7362      A. Almendra\n",
      "9696       A. Antilef\n",
      "             ...     \n",
      "1772     W. Caballero\n",
      "2997       W. Montoya\n",
      "15455        W. Ortíz\n",
      "3392          Y. Asad\n",
      "15529       Y. Juárez\n",
      "Name: short_name, Length: 898, dtype: object\n"
     ]
    }
   ],
   "source": [
    "jugadoresArg = fifa21[fifa21[\"nationality\"] == \"Argentina\"].drop_duplicates(subset = \"short_name\")[\"short_name\"].sort_values()\n",
    "print(f\"Cantidad de jugadores de Argentina en el set de datos {jugadoresArg.shape[0]}\")\n",
    "print()\n",
    "print(\"Lista\")\n",
    "print(jugadoresArg)"
   ]
  },
  {
   "cell_type": "code",
   "execution_count": 104,
   "id": "2d84ae23",
   "metadata": {},
   "outputs": [
    {
     "data": {
      "text/html": [
       "<div>\n",
       "<style scoped>\n",
       "    .dataframe tbody tr th:only-of-type {\n",
       "        vertical-align: middle;\n",
       "    }\n",
       "\n",
       "    .dataframe tbody tr th {\n",
       "        vertical-align: top;\n",
       "    }\n",
       "\n",
       "    .dataframe thead th {\n",
       "        text-align: right;\n",
       "    }\n",
       "</style>\n",
       "<table border=\"1\" class=\"dataframe\">\n",
       "  <thead>\n",
       "    <tr style=\"text-align: right;\">\n",
       "      <th></th>\n",
       "      <th>short_name</th>\n",
       "      <th>league_name</th>\n",
       "    </tr>\n",
       "  </thead>\n",
       "  <tbody>\n",
       "    <tr>\n",
       "      <th>7192</th>\n",
       "      <td>M. Cauteruccio</td>\n",
       "      <td>Argentina Primera División</td>\n",
       "    </tr>\n",
       "    <tr>\n",
       "      <th>9898</th>\n",
       "      <td>F. Martínez</td>\n",
       "      <td>Argentina Primera División</td>\n",
       "    </tr>\n",
       "    <tr>\n",
       "      <th>3038</th>\n",
       "      <td>D. Zabala</td>\n",
       "      <td>Argentina Primera División</td>\n",
       "    </tr>\n",
       "    <tr>\n",
       "      <th>9880</th>\n",
       "      <td>M. Merentiel</td>\n",
       "      <td>Argentina Primera División</td>\n",
       "    </tr>\n",
       "    <tr>\n",
       "      <th>3424</th>\n",
       "      <td>S. Silva</td>\n",
       "      <td>Argentina Primera División</td>\n",
       "    </tr>\n",
       "    <tr>\n",
       "      <th>...</th>\n",
       "      <td>...</td>\n",
       "      <td>...</td>\n",
       "    </tr>\n",
       "    <tr>\n",
       "      <th>9775</th>\n",
       "      <td>E. Martínez</td>\n",
       "      <td>Uruguayan Primera División</td>\n",
       "    </tr>\n",
       "    <tr>\n",
       "      <th>9778</th>\n",
       "      <td>S. Pérez</td>\n",
       "      <td>Uruguayan Primera División</td>\n",
       "    </tr>\n",
       "    <tr>\n",
       "      <th>9177</th>\n",
       "      <td>I. Pallas</td>\n",
       "      <td>Uruguayan Primera División</td>\n",
       "    </tr>\n",
       "    <tr>\n",
       "      <th>18689</th>\n",
       "      <td>C. Silva</td>\n",
       "      <td>Uruguayan Primera División</td>\n",
       "    </tr>\n",
       "    <tr>\n",
       "      <th>16068</th>\n",
       "      <td>I. González</td>\n",
       "      <td>Venezuelan Primera División</td>\n",
       "    </tr>\n",
       "  </tbody>\n",
       "</table>\n",
       "<p>321 rows × 2 columns</p>\n",
       "</div>"
      ],
      "text/plain": [
       "           short_name                  league_name\n",
       "7192   M. Cauteruccio   Argentina Primera División\n",
       "9898      F. Martínez   Argentina Primera División\n",
       "3038        D. Zabala   Argentina Primera División\n",
       "9880     M. Merentiel   Argentina Primera División\n",
       "3424         S. Silva   Argentina Primera División\n",
       "...               ...                          ...\n",
       "9775      E. Martínez   Uruguayan Primera División\n",
       "9778         S. Pérez   Uruguayan Primera División\n",
       "9177        I. Pallas   Uruguayan Primera División\n",
       "18689        C. Silva   Uruguayan Primera División\n",
       "16068     I. González  Venezuelan Primera División\n",
       "\n",
       "[321 rows x 2 columns]"
      ]
     },
     "execution_count": 104,
     "metadata": {},
     "output_type": "execute_result"
    }
   ],
   "source": [
    "## TODO 5.1\n",
    "jugadoresUruguayPorLiga= fifa21[fifa21[\"nationality\"] == \"Uruguay\"].drop_duplicates(subset = [\"short_name\",\"league_name\"], keep='last')\n",
    "jugadoresUruguayPorLiga[[\"short_name\",\"league_name\"]].sort_values(\"league_name\")#Jugadores y ligas"
   ]
  },
  {
   "cell_type": "markdown",
   "id": "cc8d9cbb",
   "metadata": {},
   "source": [
    "##### 5.2 Un poco de análisis sobre jugadores uruguayos\n",
    "\n",
    "1. ¿Cuales son las ligas donde juegan los jugadores de nacionalidad uruguaya según el set de datos?\n",
    "2. ¿Cuál es la liga con mayor cantidad de jugadores uruguayos? ¿Qué valor tiene? ¿Cuál es la segunda liga con mayor presencia de jugadores uruguayos?\n",
    "3. ¿Cuantos jugadores uruguayos juegan en la liga *Spain Primera Division*? ¿Quienes son?\n",
    "4. Tomando solo la liga *Spain Primera Division*, ¿cuál es la proporción de jugadores uruguayos? Es decir, cuantos jugadores de nacionalidad uruguaya juegan en la *Spain Primera Division* respecto de todos los que juegan en la *Spain Primera Division*. Reporte un valor porcentual $\\%$\n",
    "5. ¿Cuales son los porcentajes de jugadores uruguayos de *pie derecho* y *pie izquierdo*?\n",
    "6. Realice un histograma con las edades de los jugadores uruguayos dentro del dataset.\n",
    "7. ¿Cuál es el jugador más caro? ¿Cuál el más barato?"
   ]
  },
  {
   "cell_type": "code",
   "execution_count": 154,
   "id": "2eb65250",
   "metadata": {
    "scrolled": true
   },
   "outputs": [
    {
     "name": "stdout",
     "output_type": "stream",
     "text": [
      "La cantidad de jugadores uruguayos en la Spain Primera Division son:15\n",
      "La proporción de jugadores uruguayos en la Primera divión española es: 2.3 %\n"
     ]
    },
    {
     "data": {
      "image/png": "[encoded data removed]",
      "text/plain": [
       "<Figure size 432x288 with 1 Axes>"
      ]
     },
     "metadata": {
      "needs_background": "light"
     },
     "output_type": "display_data"
    },
    {
     "data": {
      "text/html": [
       "<div>\n",
       "<style scoped>\n",
       "    .dataframe tbody tr th:only-of-type {\n",
       "        vertical-align: middle;\n",
       "    }\n",
       "\n",
       "    .dataframe tbody tr th {\n",
       "        vertical-align: top;\n",
       "    }\n",
       "\n",
       "    .dataframe thead th {\n",
       "        text-align: right;\n",
       "    }\n",
       "</style>\n",
       "<table border=\"1\" class=\"dataframe\">\n",
       "  <thead>\n",
       "    <tr style=\"text-align: right;\">\n",
       "      <th></th>\n",
       "      <th>sofifa_id</th>\n",
       "      <th>player_url</th>\n",
       "      <th>short_name</th>\n",
       "      <th>long_name</th>\n",
       "      <th>age</th>\n",
       "      <th>dob</th>\n",
       "      <th>height_cm</th>\n",
       "      <th>weight_kg</th>\n",
       "      <th>nationality</th>\n",
       "      <th>club_name</th>\n",
       "      <th>...</th>\n",
       "      <th>mentality_composure</th>\n",
       "      <th>defending_standing_tackle</th>\n",
       "      <th>defending_sliding_tackle</th>\n",
       "      <th>goalkeeping_diving</th>\n",
       "      <th>goalkeeping_handling</th>\n",
       "      <th>goalkeeping_kicking</th>\n",
       "      <th>goalkeeping_positioning</th>\n",
       "      <th>goalkeeping_reflexes</th>\n",
       "      <th>ls</th>\n",
       "      <th>st</th>\n",
       "    </tr>\n",
       "  </thead>\n",
       "  <tbody>\n",
       "    <tr>\n",
       "      <th>17473</th>\n",
       "      <td>258113</td>\n",
       "      <td>https://sofifa.com/player/258113/alvaro-garcia...</td>\n",
       "      <td>A. García</td>\n",
       "      <td>Álvaro Marcelo García Zaroba</td>\n",
       "      <td>36</td>\n",
       "      <td>1/13/1984</td>\n",
       "      <td>186</td>\n",
       "      <td>76</td>\n",
       "      <td>Uruguay</td>\n",
       "      <td>Club Plaza Colonia</td>\n",
       "      <td>...</td>\n",
       "      <td>52</td>\n",
       "      <td>15</td>\n",
       "      <td>15</td>\n",
       "      <td>54</td>\n",
       "      <td>50</td>\n",
       "      <td>44</td>\n",
       "      <td>54</td>\n",
       "      <td>68</td>\n",
       "      <td>22+2</td>\n",
       "      <td>22+2</td>\n",
       "    </tr>\n",
       "  </tbody>\n",
       "</table>\n",
       "<p>1 rows × 58 columns</p>\n",
       "</div>"
      ],
      "text/plain": [
       "       sofifa_id                                         player_url  \\\n",
       "17473     258113  https://sofifa.com/player/258113/alvaro-garcia...   \n",
       "\n",
       "      short_name                     long_name  age        dob  height_cm  \\\n",
       "17473  A. García  Álvaro Marcelo García Zaroba   36  1/13/1984        186   \n",
       "\n",
       "       weight_kg nationality           club_name  ... mentality_composure  \\\n",
       "17473         76     Uruguay  Club Plaza Colonia  ...                  52   \n",
       "\n",
       "       defending_standing_tackle  defending_sliding_tackle  \\\n",
       "17473                         15                        15   \n",
       "\n",
       "       goalkeeping_diving  goalkeeping_handling goalkeeping_kicking  \\\n",
       "17473                  54                    50                  44   \n",
       "\n",
       "      goalkeeping_positioning  goalkeeping_reflexes    ls    st  \n",
       "17473                      54                    68  22+2  22+2  \n",
       "\n",
       "[1 rows x 58 columns]"
      ]
     },
     "execution_count": 154,
     "metadata": {},
     "output_type": "execute_result"
    }
   ],
   "source": [
    "import matplotlib.pyplot as plt\n",
    "#5.2 - 1\n",
    "jugadoresUruguayPorLiga= fifa21[fifa21[\"nationality\"] == \"Uruguay\"].drop_duplicates(subset = [\"short_name\",\"league_name\"], keep='last') #Subset de juadores y respectiva liga a partir de la nacionalidad Uruguaya\n",
    "jugadoresUruguayPorLiga[[\"short_name\",\"league_name\"]].sort_values(\"league_name\") #Conteo de los jugadores uruguayos en cada una de las ligas\n",
    "\n",
    "#5.2 - 2\n",
    "cantidadJugadoresPorLiga=jugadoresUruguayPorLiga[[\"short_name\",\"league_name\"]].sort_values(\"league_name\")# Conteo de los jugadores en cada una de las ligas, además del short_name\n",
    "juagdoreUYporLiga=cantidadJugadoresPorLiga[\"league_name\"].value_counts().sort_values(ascending=False)\n",
    "juagdoreUYporLiga[0:1]#Primer liga con mayor presencia de uruguayos\n",
    "juagdoreUYporLiga[1:2]#Segunda liga con mayor presencia de uruguayos\n",
    "\n",
    "#5.2 - 3\n",
    "uruguayosLigaEsp = juagdoreUYporLiga[\"Spain Primera Division\"] #Jugadores uruguayos en la primera division de España\n",
    "print(f\"La cantidad de jugadores uruguayos en la Spain Primera Division son:{uruguayosLigaEsp}\") #Cantidad de jugadores en la liga de Spain a partir del conteo realizado anteriormente\n",
    "\n",
    "#5.2 - 4\n",
    "totalLigaEspañola=fifa21[fifa21[\"league_name\"] == \"Spain Primera Division\"].shape\n",
    "\n",
    "proporcionUYLigaEsp=round((uruguayosLigaEsp/totalLigaEspañola[0])*100,1) #Porcentaje de jugadores Uruguayos en primera division Española\n",
    "print(f\"La proporción de jugadores uruguayos en la Primera divión española es: {proporcionUYLigaEsp} %\")\n",
    "\n",
    "#5.2 - 5\n",
    "jugadoresUYDiestro= fifa21[(fifa21[\"nationality\"] == \"Uruguay\") & (fifa21[\"preferred_foot\"]== \"Right\")][\"short_name\"] #Creamos un subset de jugadores uruguayos, con datos como el nombre y su pierna derecha \n",
    "jugadoresUYZiniestro= fifa21[(fifa21[\"nationality\"] == \"Uruguay\") & (fifa21[\"preferred_foot\"]== \"Left\")][\"short_name\"] #Creamos un subset de jugadores uruguayos, con datos como el nombre y su pierna izquierda\n",
    "\n",
    "#5.2 - 6\n",
    "fig, ax = plt.subplots()\n",
    "jugadoresUYedad= fifa21[fifa21[\"nationality\"] == \"Uruguay\"][\"age\"] #Filtramos los jugadores urugyaos, y sus edades\n",
    "ax.hist(jugadoresUYedad, label = \"Edades de jugadores Uruguayos\") #generamos el histograma de la edad de los jugadores Uruguayos\n",
    "ax.set_ylabel(\" Frecuencia\") #Leyenda eje Y\n",
    "ax.set_title(\"Histograma con las edades de los jugadores uruguayos dentro del dataset\") #Titulo del histograma\n",
    "plt.legend()\n",
    "plt.show()\n",
    "\n",
    "#5.2.7\n",
    "jugadorUYMasCaro= fifa21[fifa21[\"nationality\"] == \"Uruguay\"][\"value_eur\"].max() #Creamos un subset con los jugadores Uruguayos y sus costos,y obtenemos el de valor mas caro utilizando max()\n",
    "fifa21[(fifa21[\"nationality\"] == \"Uruguay\") & (fifa21[\"value_eur\"] == jugadorUYMasCaro)] #Jugador Uruguayo mas caro\n",
    "\n",
    "jugadorUYMasBarato= fifa21[fifa21[\"nationality\"] == \"Uruguay\"][\"value_eur\"].min() #Creamos un subset con los jugadores Uruguayos y sus costos,y obtenemos el de valor mas barato utilizando min()\n",
    "fifa21[(fifa21[\"nationality\"] == \"Uruguay\") & (fifa21[\"value_eur\"] == jugadorUYMasBarato)] #Jugador Uruguayo mas barato\n"
   ]
  },
  {
   "cell_type": "markdown",
   "id": "c7129b51",
   "metadata": {},
   "source": [
    "##### 5.3 Top 20 países con mayores jugadores\n",
    "\n",
    "Realice un gráfico de barras horizontal (*kind = 'barh'*) donde se muestre la cantidad de jugadores de los 20 países con mayores cantidades de jugadores."
   ]
  },
  {
   "cell_type": "code",
   "execution_count": 155,
   "id": "e1d7525c",
   "metadata": {},
   "outputs": [
    {
     "data": {
      "text/plain": [
       "<AxesSubplot:title={'center':'Top 20 de equipos con mas jugadores en el mundo'}>"
      ]
     },
     "execution_count": 155,
     "metadata": {},
     "output_type": "execute_result"
    },
    {
     "data": {
      "image/png": "[encoded data removed]",
      "text/plain": [
       "<Figure size 432x288 with 1 Axes>"
      ]
     },
     "metadata": {
      "needs_background": "light"
     },
     "output_type": "display_data"
    }
   ],
   "source": [
    "## TODO 5.3 Forma 1\n",
    "top20 = fifa21[\"nationality\"].value_counts() # realizo un conteo de cada jugador por pais\n",
    "muestra = top20[:20].copy() #Me quedo con los primeros 20 a partir de usar slicing\n",
    "muestra.plot(kind='barh',  title=\"Top 20 de equipos con mas jugadores en el mundo\") # Grafico los 20 paises con ma sjugadores en el mundo"
   ]
  },
  {
   "cell_type": "code",
   "execution_count": 157,
   "id": "ffeea37e",
   "metadata": {},
   "outputs": [
    {
     "data": {
      "text/plain": [
       "<AxesSubplot:title={'center':'Top 20 de equipos con mas jugadores en el mundo'}>"
      ]
     },
     "execution_count": 157,
     "metadata": {},
     "output_type": "execute_result"
    },
    {
     "data": {
      "image/png": "[encoded data removed]",
      "text/plain": [
       "<Figure size 432x288 with 1 Axes>"
      ]
     },
     "metadata": {
      "needs_background": "light"
     },
     "output_type": "display_data"
    }
   ],
   "source": [
    "# 5.3 Forma 2\n",
    "top20 = fifa21[\"nationality\"].value_counts()\n",
    "top20.head(20).plot(kind='barh',  title=\"Top 20 de equipos con mas jugadores en el mundo\")"
   ]
  },
  {
   "cell_type": "markdown",
   "id": "db467a16",
   "metadata": {},
   "source": [
    "##### 5.4 Puntaje total (*overall*) vs potencial (*potential*)\n",
    "\n",
    "El set de datos cuenta con las columnas llamadas *overall* y *potential*. El *overall* es un puntaje que va de 0 a 100 y representa la media ponderada de todas las habilidades (ej. *skill_dribbling*, *movement_sprint_speed*, etc) para un cierto jugador. Por otro lado, el *potential* o *potencial* es una estimación de si el jugador puede dar más en un futuro.\n",
    "\n",
    "Por ejemplo,"
   ]
  },
  {
   "cell_type": "code",
   "execution_count": 43,
   "id": "964f09f3",
   "metadata": {},
   "outputs": [
    {
     "data": {
      "text/html": [
       "<div>\n",
       "<style scoped>\n",
       "    .dataframe tbody tr th:only-of-type {\n",
       "        vertical-align: middle;\n",
       "    }\n",
       "\n",
       "    .dataframe tbody tr th {\n",
       "        vertical-align: top;\n",
       "    }\n",
       "\n",
       "    .dataframe thead th {\n",
       "        text-align: right;\n",
       "    }\n",
       "</style>\n",
       "<table border=\"1\" class=\"dataframe\">\n",
       "  <thead>\n",
       "    <tr style=\"text-align: right;\">\n",
       "      <th></th>\n",
       "      <th>overall</th>\n",
       "      <th>potential</th>\n",
       "    </tr>\n",
       "    <tr>\n",
       "      <th>short_name</th>\n",
       "      <th></th>\n",
       "      <th></th>\n",
       "    </tr>\n",
       "  </thead>\n",
       "  <tbody>\n",
       "    <tr>\n",
       "      <th>L. Messi</th>\n",
       "      <td>93</td>\n",
       "      <td>93</td>\n",
       "    </tr>\n",
       "    <tr>\n",
       "      <th>K. Mbappé</th>\n",
       "      <td>90</td>\n",
       "      <td>95</td>\n",
       "    </tr>\n",
       "  </tbody>\n",
       "</table>\n",
       "</div>"
      ],
      "text/plain": [
       "            overall  potential\n",
       "short_name                    \n",
       "L. Messi         93         93\n",
       "K. Mbappé        90         95"
      ]
     },
     "execution_count": 43,
     "metadata": {},
     "output_type": "execute_result"
    }
   ],
   "source": [
    "filtromessi = fifa21[\"short_name\"] == \"L. Messi\"\n",
    "filtrombappe = fifa21[\"short_name\"] == \"K. Mbappé\"\n",
    "fifa21[filtromessi | filtrombappe][[\"short_name\",\"overall\",\"potential\"]].set_index(\"short_name\")"
   ]
  },
  {
   "cell_type": "markdown",
   "id": "6f5743af",
   "metadata": {},
   "source": [
    "Podemos ver del dataframe anterior que Messi esta dando todo lo que puede dar, mientras que Mbappe aún podría dar un poco más según las estimaciones del FIFA."
   ]
  },
  {
   "cell_type": "markdown",
   "id": "4f4b5956",
   "metadata": {},
   "source": [
    "Se le pide que grafique un histograma considerando el dataframe completo donde se pueda ver la frecuencia para *overall* y para *potential*."
   ]
  },
  {
   "cell_type": "code",
   "execution_count": 56,
   "id": "e94e9d04",
   "metadata": {},
   "outputs": [
    {
     "data": {
      "image/png": "[encoded data removed]",
      "text/plain": [
       "<Figure size 432x288 with 1 Axes>"
      ]
     },
     "metadata": {
      "needs_background": "light"
     },
     "output_type": "display_data"
    }
   ],
   "source": [
    "#5.4\n",
    "fig, ax = plt.subplots()\n",
    "ax.hist(fifa21[\"overall\"], label = \"Frecuencia para Overall\", bins = 20) #Histograma de frecuencia para Overal\n",
    "ax.hist(fifa21[\"potential\"], label = \"Frecuencia para Potential\", alpha = 0.5, bins = 20) #Histograma de frecuencia para Potential\n",
    "ax.set_xlabel(\"Rango de valores para Overall y potential\")\n",
    "ax.set_ylabel(\" Frecuencia\")\n",
    "ax.set_title(\" Histograma de frecuencia para Overal y Potential\")\n",
    "plt.legend()\n",
    "plt.show()"
   ]
  },
  {
   "cell_type": "markdown",
   "id": "8e453d40",
   "metadata": {},
   "source": [
    "##### 5.5  Analizando datos por posiciones\n",
    "\n",
    "Si se observa la columna *player_positions* del set de datos podemos ver en qué posiciones juega cierto jugador.\n",
    "\n",
    "En base al juego, las posiciones pueden resumirse en:\n",
    "\n",
    "- 'ST','CF','RW','LW' = Atacante\n",
    "- 'LM','RM','CM','CDM','CAM', \"RWB\" = Mediocampista\n",
    "- 'LB','RB','CB', 'LWB' = Defensor\n",
    "- 'GK' = Arquero\n",
    "\n",
    "Ejemplo"
   ]
  },
  {
   "cell_type": "code",
   "execution_count": 45,
   "id": "558948f3",
   "metadata": {},
   "outputs": [
    {
     "data": {
      "text/html": [
       "<div>\n",
       "<style scoped>\n",
       "    .dataframe tbody tr th:only-of-type {\n",
       "        vertical-align: middle;\n",
       "    }\n",
       "\n",
       "    .dataframe tbody tr th {\n",
       "        vertical-align: top;\n",
       "    }\n",
       "\n",
       "    .dataframe thead th {\n",
       "        text-align: right;\n",
       "    }\n",
       "</style>\n",
       "<table border=\"1\" class=\"dataframe\">\n",
       "  <thead>\n",
       "    <tr style=\"text-align: right;\">\n",
       "      <th></th>\n",
       "      <th>player_positions</th>\n",
       "    </tr>\n",
       "    <tr>\n",
       "      <th>short_name</th>\n",
       "      <th></th>\n",
       "    </tr>\n",
       "  </thead>\n",
       "  <tbody>\n",
       "    <tr>\n",
       "      <th>L. Messi</th>\n",
       "      <td>RW, ST, CF</td>\n",
       "    </tr>\n",
       "    <tr>\n",
       "      <th>Cristiano Ronaldo</th>\n",
       "      <td>ST, LW</td>\n",
       "    </tr>\n",
       "    <tr>\n",
       "      <th>J. Oblak</th>\n",
       "      <td>GK</td>\n",
       "    </tr>\n",
       "    <tr>\n",
       "      <th>R. Lewandowski</th>\n",
       "      <td>ST</td>\n",
       "    </tr>\n",
       "    <tr>\n",
       "      <th>Neymar Jr</th>\n",
       "      <td>LW, CAM</td>\n",
       "    </tr>\n",
       "  </tbody>\n",
       "</table>\n",
       "</div>"
      ],
      "text/plain": [
       "                  player_positions\n",
       "short_name                        \n",
       "L. Messi                RW, ST, CF\n",
       "Cristiano Ronaldo           ST, LW\n",
       "J. Oblak                        GK\n",
       "R. Lewandowski                  ST\n",
       "Neymar Jr                  LW, CAM"
      ]
     },
     "execution_count": 45,
     "metadata": {},
     "output_type": "execute_result"
    }
   ],
   "source": [
    "fifa21[[\"player_positions\",\"short_name\"]].set_index(\"short_name\").head()"
   ]
  },
  {
   "cell_type": "markdown",
   "id": "a9de15fc",
   "metadata": {},
   "source": [
    "##### Resuelva\n",
    "\n",
    "1. Recorra la columna *player_positions* del dataframe y genere una nueva columna llamada *onePosition* donde cada posición tenga los valores Atacante, Mediocampista, Defensor o Arquero, según corresponda. Puede utilizar un *for* para recorrer los datos de la columna. Hay jugadores que juegan en más de una posición, por ejemplo Cristiano Ronaldo, en esos casos reemplace con la primer ocurrencia, en el ejemplo de CR7 su posición sería reemplazada por *Atacante* ya que *ST* es la primer ocurrencia. Una vez agregada la columna *onePosition*, elimine la columna *player_positions*\n",
    "2. Genere un gráfico de barras donde se muestre la cantidad de jugadores por cada posición del total del dataframe.\n",
    "3. Repita el punto 3 pero solamente para jugadores de nacionalidad uruguaya.\n",
    "4. ¿Cual es el promedio de costos por posición de los jugadores de nacionalidad uruguaya?"
   ]
  },
  {
   "cell_type": "code",
   "execution_count": 46,
   "id": "02bfedc3",
   "metadata": {},
   "outputs": [],
   "source": [
    "## TODO 5.5"
   ]
  },
  {
   "cell_type": "markdown",
   "id": "071949a7",
   "metadata": {},
   "source": [
    "#### 5.6 TOP 10\n",
    "\n",
    "1. Genere un nuevo subset con los datos filtrado por la columna *position* para *Atacante*. Sólo tome os primeros 10 valores. El nuevo subset debe tener las columnas *[short_name, nationality, club_name, height_cm, position,\tvalue_eur, overall, potential]*. Ordenarlo por overall y potential (en ese orden) de manera ascendente (ambos). Realizar un set_index() por *short_name*.\n",
    "2. Repita el punto 1 para formar subsets para las posiciones *Mediocampista*, *Defensor* y *Arquero."
   ]
  },
  {
   "cell_type": "code",
   "execution_count": 47,
   "id": "5e57d401",
   "metadata": {},
   "outputs": [],
   "source": [
    "## TODO 5.6"
   ]
  }
 ],
 "metadata": {
  "kernelspec": {
   "display_name": "Python [conda env:.conda-pdaEnv] *",
   "language": "python",
   "name": "conda-env-.conda-pdaEnv-py"
  },
  "language_info": {
   "codemirror_mode": {
    "name": "ipython",
    "version": 3
   },
   "file_extension": ".py",
   "mimetype": "text/x-python",
   "name": "python",
   "nbconvert_exporter": "python",
   "pygments_lexer": "ipython3",
   "version": "3.9.7"
  }
 },
 "nbformat": 4,
 "nbformat_minor": 5
}
