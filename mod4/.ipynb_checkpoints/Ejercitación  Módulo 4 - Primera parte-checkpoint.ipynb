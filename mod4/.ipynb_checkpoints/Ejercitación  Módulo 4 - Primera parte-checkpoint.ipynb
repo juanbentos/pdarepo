{
 "cells": [
  {
   "cell_type": "markdown",
   "id": "74150884",
   "metadata": {},
   "source": [
    "# <center> <span style='color:#3A40A2 '> Ejercitación módulo 4 - Primera parte </span></center> \n",
    "\n",
    "**Profesor Adjunto:** Mag. Bioing. Baldezzari Lucas\n",
    "\n",
    "<p style='text-align: left;'> V2022 </p>\n",
    "\n",
    "<hr style=\"border:1px solid gray\"> </hr>"
   ]
  },
  {
   "cell_type": "markdown",
   "id": "3f100fe1",
   "metadata": {},
   "source": [
    "##### Ejercicio 1\n",
    "\n",
    "Implemente una clase llamada *BasicStats()*. Esta clase deberá, a partir de una lista de números, calcular la media, la mediana, el desvío estándar, la varianza, los cuartiles $Q_1$, $Q_2$ y $Q_3$ y chequear la presencia de valores outliers, la clase debería también tener un método que permita quitar dichos valores.\n",
    "\n",
    "- Proponga un constructor, atributos y métodos que considere adecuados para llevar a cabo la tarea.\n",
    "- Genere una función main() para mostrar que su clase funciona.\n",
    "\n",
    "Nota: No utilice funciones built-in para el cálculo de los valores estadísticos. Se recomienda usar funciones que ya se hayan implementados en ejercicios anteriores."
   ]
  },
  {
   "cell_type": "code",
   "execution_count": 1,
   "id": "2e84b3c8",
   "metadata": {},
   "outputs": [],
   "source": [
    "#TO DO...\n",
    "\n",
    "class BasciStat():\n",
    "    \"\"\" Docs \"\"\"\n",
    "    \n",
    "    def __init__(self, lista):\n",
    "        \"\"\"Creo el constructor\"\"\"\n",
    "        self.lista = lista\n",
    "        pass\n",
    "    \n",
    "    def getMedia(self):\n",
    "        \"\"\"Obtengo la media\"\"\"\n",
    "        media = self.getMedia()\n",
    "        \n",
    "        return sum(self.lista)/len(self.lista)\n",
    "    \n",
    "    def mediana(self):\n",
    "        \"\"\"Obtengo la mediana\"\"\"\n",
    "        pass\n",
    "    \n",
    "    def desestan(self):\n",
    "        \"\"\"Obtengo el desvío estandar\"\"\"\n",
    "        pass\n",
    "    \n",
    "    def var(self):\n",
    "        \"\"\"Obtengo la varianza\"\"\"\n",
    "        return self.getcar()**(1/2)\n",
    "    \n",
    "    def quartiles(self):\n",
    "        \"\"\"Obtengo los cuartiles\"\"\"\n",
    "        pass\n",
    "        \n",
    "\n",
    "listaNums: [2,4,5,6,8,10,24,35,65]\n",
    "    \n",
    "grupoControl = BasicStats(listaNums)\n",
    "print(grupoControl.media())\n",
    "print(grupoControl.quartiles())"
   ]
  },
  {
   "cell_type": "code",
   "execution_count": null,
   "id": "aca43edc",
   "metadata": {},
   "outputs": [],
   "source": [
    "## Ejercicio 1. Solución Lucas\n",
    "class BasicStats():\n",
    "\n",
    "    def __init__(self, listaDeValores):\n",
    "        \"\"\"Constructor\"\"\"\n",
    "        self.listaDeValores = listaDeValores\n",
    "\n",
    "    def getMedia(self):\n",
    "        \"\"\"Calcula la media\"\"\"\n",
    "\n",
    "        return sum(self.listaDeValores)/len(self.listaDeValores)\n",
    "\n",
    "\n",
    "    def getVar(self):\n",
    "        \"\"\"Calculo la varianza\"\"\"\n",
    "\n",
    "        media = self.getMedia()\n",
    "        return sum([(i-media)**2 for i in self.listaDeValores])/len(self.listaDeValores)\n",
    "\n",
    "\n",
    "    def getSDv(self):\n",
    "        \"\"\"Calculo la varianza\"\"\"\n",
    "\n",
    "        media = self.getMedia()\n",
    "        return (sum([(i-media)**2 for i in self.listaDeValores])/len(self.listaDeValores))**(1/2)\n",
    "\n",
    "            \n",
    "\n",
    "lista = [1,2,3,4,5,10,2,33,4]\n",
    "\n",
    "grupoControl = BasicStats(lista)\n",
    "print(grupoControl.getMedia())\n",
    "print(grupoControl.getVar())\n",
    "print(grupoControl.getSDv())"
   ]
  },
  {
   "cell_type": "code",
   "execution_count": 1,
   "id": "1bf4c201",
   "metadata": {},
   "outputs": [
    {
     "name": "stdout",
     "output_type": "stream",
     "text": [
      "29.666666666666668\n",
      "29.522119767312702\n"
     ]
    },
    {
     "data": {
      "text/plain": [
       "2.897423291201177"
      ]
     },
     "execution_count": 1,
     "metadata": {},
     "output_type": "execute_result"
    }
   ],
   "source": [
    "## Ejercicio 1. Solución Lucas\n",
    "class BasicStats2():\n",
    "\n",
    "    def __init__(self, listaDeValores, getStats = True):\n",
    "        \"\"\"Constructor\"\"\"\n",
    "\n",
    "        self.listaDeValores = listaDeValores\n",
    "\n",
    "        if getStats:\n",
    "            self.media = self.getMedia(self.listaDeValores)\n",
    "            self.var = self.getVar(self.listaDeValores)\n",
    "            self.sdv = self.getSDv(self.listaDeValores)\n",
    "\n",
    "    @classmethod\n",
    "    def getMedia(cls, lista):\n",
    "        \"\"\"Calcula la media\"\"\"\n",
    "        return sum(lista)/len(lista)\n",
    "\n",
    "    @classmethod\n",
    "    def getVar(cls, lista):\n",
    "        \"\"\"Calculo la varianza\"\"\"\n",
    "\n",
    "        media = cls.getMedia(lista)\n",
    "        return sum([(i-media)**2 for i in lista])/len(lista)\n",
    "\n",
    "    @classmethod\n",
    "    def getSDv(cls, lista):\n",
    "        \"\"\"Calculo la varianza\"\"\"\n",
    "\n",
    "        media = cls.getMedia(lista)\n",
    "        return cls.getVar(lista)**(1/2)\n",
    "\n",
    "lista2 = [4,23,4,5,6,90,23,45,67]\n",
    "grupoControl2 = BasicStats2(lista2)\n",
    "print(grupoControl2.media)\n",
    "print(grupoControl2.sdv)\n",
    "\n",
    "lista3 = [1,2,3,4,5,6,7,9,10]\n",
    "BasicStats2.getSDv(lista3)"
   ]
  },
  {
   "cell_type": "markdown",
   "id": "44d015f1",
   "metadata": {},
   "source": [
    "##### Ejercicio 2\n",
    "\n",
    "Responda qué espera ver y por qué, en cada uno de los puntos señalados con *#* en el código siguiente.\n",
    "\n",
    "```Python\n",
    "class miClase(object):\n",
    "\n",
    "    atributoDeClase = 'Atributo de Clase'\n",
    "\n",
    "    def __init__(self, val):\n",
    "        self.atributoInstancia = val\n",
    "\n",
    "\n",
    "a = miClase(1)\n",
    "b = miClase(2)\n",
    "\n",
    "print(a.atributoInstancia) #1\n",
    "print(b.atributoInstancia) #2\n",
    "\n",
    "print(a.atributoDeClase == b.atributoDeClase) #3\n",
    "print(a.atributoDeClase is b.atributoDeClase) #4\n",
    "\n",
    "b.atributoDeClase = 4\n",
    "print(a.atributoDeClase) #5\n",
    "\n",
    "del a.atributoDeClase\n",
    "MyClass.atributoDeClase = 4 #6\n",
    "```\n",
    "\n",
    "**Su respuesta acá**\n",
    "\n",
    "*TODO*"
   ]
  },
  {
   "cell_type": "markdown",
   "id": "52d1168e",
   "metadata": {},
   "source": [
    "##### Ejercicio 3\n",
    "\n",
    "A partir del código debajo, y aplicando ingeniería inversa, cree la clase PremioNobel().\n",
    "\n",
    "```Python\n",
    "premio2010 = PremioNobel(\"Paz\", 2010, \"Liu Xiaobo\")\n",
    "print(premio2010.category, premio2010.year, premio2010.winner)\n",
    "```"
   ]
  },
  {
   "cell_type": "code",
   "execution_count": 32,
   "id": "773b21c2",
   "metadata": {},
   "outputs": [
    {
     "name": "stdout",
     "output_type": "stream",
     "text": [
      "Paz 2010 Liu Xiaobo\n"
     ]
    }
   ],
   "source": [
    "## TO DO...\n",
    "\n",
    "class PremioNobel():\n",
    "    \"\"\"Clase para anunciar al ganador del premioo nobel, recibe parametros como : Categoria, año y ganador\"\"\"\n",
    "    def __init__(self,categoria, año,winner):\n",
    "        self.category = categoria\n",
    "        self.year = año\n",
    "        self.winner = winner\n",
    "\n",
    "premio2010 = PremioNobel(\"Paz\", 2010, \"Liu Xiaobo\")\n",
    "print(premio2010.category, premio2010.year, premio2010.winner)"
   ]
  },
  {
   "cell_type": "code",
   "execution_count": 34,
   "id": "9fcd3c16",
   "metadata": {
    "scrolled": false
   },
   "outputs": [
    {
     "name": "stdout",
     "output_type": "stream",
     "text": [
      "Help on class PremioNobel in module __main__:\n",
      "\n",
      "class PremioNobel(builtins.object)\n",
      " |  PremioNobel(categoria, año, winner)\n",
      " |  \n",
      " |  Clase para anunciar al ganador del premioo nobel, recibe parametros como : Categoria, año y ganador\n",
      " |  \n",
      " |  Methods defined here:\n",
      " |  \n",
      " |  __init__(self, categoria, año, winner)\n",
      " |      Initialize self.  See help(type(self)) for accurate signature.\n",
      " |  \n",
      " |  ----------------------------------------------------------------------\n",
      " |  Data descriptors defined here:\n",
      " |  \n",
      " |  __dict__\n",
      " |      dictionary for instance variables (if defined)\n",
      " |  \n",
      " |  __weakref__\n",
      " |      list of weak references to the object (if defined)\n",
      "\n"
     ]
    }
   ],
   "source": [
    "help(PremioNobel)"
   ]
  },
  {
   "cell_type": "markdown",
   "id": "53002827",
   "metadata": {},
   "source": [
    "##### Ejercicio 4\n",
    "\n",
    "A partir de la clase PremioNobel() sobreescriba el método *\\_\\_str()\\_\\_* para utilizar *print()* e imprimir información del objeto.\n",
    "\n",
    "```Python\n",
    "premio2010 = PremioNobel(\"Paz\", 2010, \"Liu Xiaobo\")\n",
    "print(premio2010)\n",
    "```"
   ]
  },
  {
   "cell_type": "code",
   "execution_count": 35,
   "id": "09d99a5c",
   "metadata": {},
   "outputs": [
    {
     "name": "stdout",
     "output_type": "stream",
     "text": [
      "(En a catergoría Paz,Correspondiente al año 2010,El ganador esssssss Liu Xiaobo)\n"
     ]
    }
   ],
   "source": [
    "## TODO\n",
    "\n",
    "class PremioNobel():\n",
    "    def __init__(self,categoria, año,winner):\n",
    "        \"\"\"Clase para anunciar al ganador del premioo nobel, recibe parametros como : Categoria, año y ganador\"\"\"\n",
    "        self.category = categoria\n",
    "        self.year = año\n",
    "        self.winner = winner\n",
    "    \n",
    "    def __str__(self):\n",
    "        \"\"\"Imprimimos al ganador del premio nobel utilizando el metódo __str___\"\"\"\n",
    "        return f\"(En a catergoría %s,Correspondiente al año %s,El ganador esssssss %s)\"  % (self.category, self.year, self.winner)\n",
    "\n",
    "premio2010 = PremioNobel(\"Paz\", 2010, \"Liu Xiaobo\")\n",
    "print(premio2010)"
   ]
  },
  {
   "cell_type": "markdown",
   "id": "cc3f91bf",
   "metadata": {},
   "source": [
    "##### Ejercicio 5\n",
    "\n",
    "Escriba una clase en Python para encontrar el índice de un par de elementos de una lista de números enteros que sumen un número determinado.\n",
    "\n",
    "La clase debería ser capaz de recibir una lista de enteros y debería tener un método que reciba un valor *blanco* o *target* y devuelva cuales ítems de aquellos elementos que al sumarse, dan como resultado el valor *target* pasado como argumento.\n",
    "\n",
    "Por ejemplo, si la lista fuera [10,20,10,30,40,50,60,70,90] y el *target* fuera 50, el método debería devolver (3,5).\n",
    "\n",
    "Nota: No usar el mismo elemento de la lista de enteros dos veces."
   ]
  },
  {
   "cell_type": "code",
   "execution_count": 19,
   "id": "6705261c",
   "metadata": {},
   "outputs": [
    {
     "ename": "TypeError",
     "evalue": "encontrar_indices_suma() missing 1 required positional argument: 'target'",
     "output_type": "error",
     "traceback": [
      "\u001b[1;31m---------------------------------------------------------------------------\u001b[0m",
      "\u001b[1;31mTypeError\u001b[0m                                 Traceback (most recent call last)",
      "Input \u001b[1;32mIn [19]\u001b[0m, in \u001b[0;36m<cell line: 23>\u001b[1;34m()\u001b[0m\n\u001b[0;32m     20\u001b[0m target \u001b[38;5;241m=\u001b[39m \u001b[38;5;241m50\u001b[39m\n\u001b[0;32m     22\u001b[0m Indice \u001b[38;5;241m=\u001b[39m Index (lista, target)\n\u001b[1;32m---> 23\u001b[0m \u001b[43mIndice\u001b[49m\u001b[38;5;241;43m.\u001b[39;49m\u001b[43mencontrar_indices_suma\u001b[49m\u001b[43m(\u001b[49m\u001b[43m)\u001b[49m\n",
      "\u001b[1;31mTypeError\u001b[0m: encontrar_indices_suma() missing 1 required positional argument: 'target'"
     ]
    }
   ],
   "source": [
    "## TODO\n",
    "\n",
    "class Index():\n",
    "    def __init__(self, lista,target):\n",
    "        self.lista = lista\n",
    "        self.target = target\n",
    "        \n",
    "    def encontrar_indices_suma(lista, target):\n",
    "        numeros_indices-{}\n",
    "        for i,n in enumerate(lista):\n",
    "                if target - n in numeros_indices: #El numero que queremos calcular menos el nunero actual de la lista, se encuentra en nuestro diccionario números_indices\n",
    "                      return numeros_indices[target-n],i #Buscamos el indice del número que hace que se cumpla la condición anterior\n",
    "                numeros_indices[n] = i\n",
    "        return numeros_indices\n",
    "\n",
    "lista = [10,20,10,30,40,50,60,70,90]\n",
    "target = 50\n",
    "\n",
    "Indice = Index (lista, target)\n",
    "Indice.encontrar_indices_suma()      "
   ]
  },
  {
   "cell_type": "markdown",
   "id": "5ed20bb4",
   "metadata": {},
   "source": [
    "##### Ejercicio 6\n",
    "\n",
    "Tome la clase Punto() vista en clase de teoría y sobreescriba los métodos *\\_\\_add\\_\\_* y *\\_\\_sub\\_\\_* para sumar y restar las coordenadas de dos puntos.\n",
    "\n",
    "Ejemplo:\n",
    "\n",
    "\n",
    "```Python\n",
    "p1 = Punto(1,2)\n",
    "p2 = Punto(3,4)\n",
    "\n",
    "p3 = p1+p2\n",
    "p4 = p2-p1\n",
    "print(p3)\n",
    "## Debería imprimir P(4,6)\n",
    "print(p4)\n",
    "## Debería imprimir P(2,2)\n",
    "```\n",
    "\n",
    "*Hint*: Sería bueno que los métodos retornen una nueva instancia de la clase Punto() con el resultado de la suma o resta."
   ]
  },
  {
   "cell_type": "code",
   "execution_count": 24,
   "id": "ac24385f",
   "metadata": {},
   "outputs": [],
   "source": [
    "## TODO\n",
    "import math\n",
    "\n",
    "class Punto():\n",
    "    \"\"\"Clase para crear y operar puntos en un plano 2D\n",
    "    \n",
    "    p0 = Punto()\n",
    "    p1 = Punto(3,4)\n",
    "    p0.calcularDistancia(punto1) # retorna 5.0\n",
    "    \"\"\"\n",
    "    \n",
    "    def __init__(self, x:float = 0.0, y:float = 0.0) ->None:\n",
    "        \"\"\"Iniciamos coordenadas de los puntos.\n",
    "        Si los puntos x e y no se dan, se los inicializa en el origen\"\"\"\n",
    "        self.moveTo(x, y)  \n",
    "    \n",
    "    def moveToOrigin(self) ->None:\n",
    "        \"\"\"Mueve un punto al origen\"\"\"\n",
    "        self.x = 0.\n",
    "        self.y = 0.\n",
    "        \n",
    "    def moveTo(self, newx:float, newy:float) ->None:\n",
    "        \"\"\"Mueve un punto a una nueva coordenada\"\"\"\n",
    "        self.x = newx\n",
    "        self.y = newy\n",
    "        \n",
    "    def calcularDistancia(self, otroPunto: \"Punto\") ->float:\n",
    "        \"\"\"Calcula la distancia euclidiana entre dos puntos\n",
    "        \n",
    "        Parámetro:\n",
    "            - otroPunto: Instancia de un Punto()\n",
    "            \n",
    "        Retorna:\n",
    "            - La distancia entre puntos (float)\n",
    "        \"\"\"\n",
    "        return math.hypot(self.x - otroPunto.x, self.y - otroPunto.y)\n",
    "    \n",
    "    def __str__(self):\n",
    "        \"\"\"Imprimimos coordenadas del punto\"\"\"\n",
    "        return f\"P(%s,%s)\"  % (self.x, self.y)\n",
    "    \n",
    "    def __eq__(self, otroPunto):\n",
    "        \"\"\"Comparamos si dos puntos son iguales\"\"\"\n",
    "        if not isinstance(otroPunto, Punto):\n",
    "            return False\n",
    "        else:\n",
    "            return (self.x, self.y) == (otroPunto.x, otroPunto.y)\n",
    "    \n",
    "    def __add__(self,otroPunto):\n",
    "        \"\"\" Devuelve la suma de ambos puntos. \"\"\"\n",
    "        return Punto(self.x + otroPunto.x, self.y + otroPunto.y)\n",
    "        \n",
    "    def __sub__(self,otroPunto):\n",
    "        \"\"\" Devuelve la resta de ambos puntos. \"\"\"\n",
    "        return Punto(self.x - otroPunto.x, self.y - otroPunto.y)"
   ]
  },
  {
   "cell_type": "code",
   "execution_count": 25,
   "id": "05f1325a",
   "metadata": {},
   "outputs": [
    {
     "name": "stdout",
     "output_type": "stream",
     "text": [
      "P(4,6)\n",
      "P(2,2)\n"
     ]
    }
   ],
   "source": [
    "p1 = Punto(1,2)\n",
    "p2 = Punto(3,4)\n",
    "\n",
    "p3 = p1+p2\n",
    "p4 = p2-p1\n",
    "print(p3)\n",
    "## Debería imprimir P(4,6)\n",
    "print(p4)\n",
    "## Debería imprimir P(2,2)"
   ]
  }
 ],
 "metadata": {
  "kernelspec": {
   "display_name": "Python [conda env:.conda-pdaEnv] *",
   "language": "python",
   "name": "conda-env-.conda-pdaEnv-py"
  },
  "language_info": {
   "codemirror_mode": {
    "name": "ipython",
    "version": 3
   },
   "file_extension": ".py",
   "mimetype": "text/x-python",
   "name": "python",
   "nbconvert_exporter": "python",
   "pygments_lexer": "ipython3",
   "version": "3.9.7"
  }
 },
 "nbformat": 4,
 "nbformat_minor": 5
}
