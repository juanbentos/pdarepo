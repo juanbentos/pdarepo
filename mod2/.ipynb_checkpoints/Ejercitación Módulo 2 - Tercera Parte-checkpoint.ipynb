{
 "cells": [
  {
   "cell_type": "markdown",
   "id": "6c5bce21",
   "metadata": {},
   "source": [
    "# <center> <span style='color:#3A40A2 '>Ejercitación Módulo 2 - 3ra parte</span></center>\n",
    "<hr style=\"border:1px solid gray\"> </hr>\n",
    "\n",
    "La siguiente notebook contiene ejercitación del Módulo 2 de la Unidad Curricular ***\"Programación Digital Avanzada\"*** de la carrera de *Ingeniería Biomédica* de la UTEC.\n",
    "\n",
    "La *primera parte* y la *segunda parte* de esta notebook serán utilizadas para ejercitación. Por otro lado, la *tercera parte* será utilizada para el laboratorio del módulo y **se debe entregar** resuelta en una Jupyter Notebbok (puede ser esta misma). Además debe subirse la resolución a su repositorio de PDA en github.\n",
    "\n",
    "Profesor Adjunto: *Mag. Bioing. Baldezzari Lucas*\n",
    "\n",
    "<p style='text-align: right;'> V2022 </p>"
   ]
  },
  {
   "cell_type": "markdown",
   "id": "17315869",
   "metadata": {},
   "source": [
    "<hr style=\"border:1px solid gray\"> </hr>\n",
    "\n",
    "## <span style='color:#3A40A2 '> Tercera parte </span>\n",
    "\n",
    "Esta parte corresponde a ejercicios obligatorios que deben ser entregados.\n",
    "\n",
    "Se trabajará sobre estos problemas en la clase de Laboratorio."
   ]
  },
  {
   "cell_type": "markdown",
   "id": "0de98cfc",
   "metadata": {},
   "source": [
    "##### Ejercicio 3.1\n",
    "\n",
    "Implemente una función que reciba como parámetro una muestra de números (enteros o flotantes) y retorne una lista con los valores *outliers* o *atípicos*. En caso de que no existan valores atípicos, la función debe retornar None.\n",
    "\n",
    "Los outliers se calculan de la siguiente manera.\n",
    "\n",
    "$$ outlier < Q_1 - 1.5RIC \\vee outlier > Q_3 + 1.5RIC $$\n",
    "\n",
    "Donde $RIC$ representa el *Rango Intercuartil* y esta dado por $RIC = Q_3 - Q_1$."
   ]
  },
  {
   "cell_type": "code",
   "execution_count": 3,
   "id": "d618f624",
   "metadata": {},
   "outputs": [
    {
     "ename": "NameError",
     "evalue": "name 'quantile' is not defined",
     "output_type": "error",
     "traceback": [
      "\u001b[1;31m---------------------------------------------------------------------------\u001b[0m",
      "\u001b[1;31mNameError\u001b[0m                                 Traceback (most recent call last)",
      "\u001b[1;32m~\\AppData\\Local\\Temp/ipykernel_14812/847838372.py\u001b[0m in \u001b[0;36m<module>\u001b[1;34m\u001b[0m\n\u001b[0;32m     25\u001b[0m     \"\"\"\n\u001b[0;32m     26\u001b[0m \u001b[1;33m\u001b[0m\u001b[0m\n\u001b[1;32m---> 27\u001b[1;33m \u001b[0matipicos\u001b[0m\u001b[1;33m(\u001b[0m\u001b[0mlista\u001b[0m\u001b[1;33m)\u001b[0m\u001b[1;33m\u001b[0m\u001b[1;33m\u001b[0m\u001b[0m\n\u001b[0m",
      "\u001b[1;32m~\\AppData\\Local\\Temp/ipykernel_14812/847838372.py\u001b[0m in \u001b[0;36matipicos\u001b[1;34m(lista)\u001b[0m\n\u001b[0;32m      6\u001b[0m     \u001b[0mlista_or\u001b[0m\u001b[1;33m=\u001b[0m \u001b[0mnp\u001b[0m\u001b[1;33m.\u001b[0m\u001b[0msort\u001b[0m\u001b[1;33m(\u001b[0m\u001b[0mlista\u001b[0m\u001b[1;33m)\u001b[0m\u001b[1;33m\u001b[0m\u001b[1;33m\u001b[0m\u001b[0m\n\u001b[0;32m      7\u001b[0m     \u001b[0mquantiles\u001b[0m \u001b[1;33m=\u001b[0m  \u001b[0mnp\u001b[0m\u001b[1;33m.\u001b[0m\u001b[0mquantile\u001b[0m\u001b[1;33m(\u001b[0m\u001b[0mlista_or\u001b[0m\u001b[1;33m,\u001b[0m\u001b[1;33m[\u001b[0m\u001b[1;36m0.25\u001b[0m\u001b[1;33m,\u001b[0m\u001b[1;36m0.50\u001b[0m\u001b[1;33m,\u001b[0m\u001b[1;36m0.75\u001b[0m\u001b[1;33m]\u001b[0m\u001b[1;33m)\u001b[0m\u001b[1;33m\u001b[0m\u001b[1;33m\u001b[0m\u001b[0m\n\u001b[1;32m----> 8\u001b[1;33m     \u001b[0mric\u001b[0m \u001b[1;33m=\u001b[0m \u001b[0mquantile\u001b[0m\u001b[1;33m[\u001b[0m\u001b[1;36m2\u001b[0m\u001b[1;33m]\u001b[0m \u001b[1;33m-\u001b[0m \u001b[0mquantile\u001b[0m\u001b[1;33m[\u001b[0m\u001b[1;36m0\u001b[0m\u001b[1;33m]\u001b[0m \u001b[1;31m#Coloco cuantil 2 debido a que en python las listas comienzan desde cero pero en realidad estoy llamando al cuantin 3 y 1.\u001b[0m\u001b[1;33m\u001b[0m\u001b[1;33m\u001b[0m\u001b[0m\n\u001b[0m\u001b[0;32m      9\u001b[0m     \u001b[0mlimsup\u001b[0m \u001b[1;33m=\u001b[0m\u001b[0mquantile\u001b[0m\u001b[1;33m[\u001b[0m\u001b[1;36m2\u001b[0m\u001b[1;33m]\u001b[0m\u001b[1;33m-\u001b[0m\u001b[1;36m1.5\u001b[0m\u001b[1;33m*\u001b[0m\u001b[0mric\u001b[0m \u001b[1;31m#Calculo el limite superior, utilizando el cuantil 3, y el indice intercuantil\u001b[0m\u001b[1;33m\u001b[0m\u001b[1;33m\u001b[0m\u001b[0m\n\u001b[0;32m     10\u001b[0m     \u001b[0mliminf\u001b[0m \u001b[1;33m=\u001b[0m\u001b[0mquantile\u001b[0m\u001b[1;33m[\u001b[0m\u001b[1;36m0\u001b[0m\u001b[1;33m]\u001b[0m\u001b[1;33m-\u001b[0m\u001b[1;36m1.5\u001b[0m\u001b[1;33m*\u001b[0m\u001b[0mric\u001b[0m \u001b[1;31m#calculo el limite inferior, utilizando el cuantil 1,y el indice intercuantil\u001b[0m\u001b[1;33m\u001b[0m\u001b[1;33m\u001b[0m\u001b[0m\n",
      "\u001b[1;31mNameError\u001b[0m: name 'quantile' is not defined"
     ]
    }
   ],
   "source": [
    "lista = [5,10, 20,0.5,289, 40,15,18,17,0.9]\n",
    "\n",
    "def atipicos(lista):\n",
    "    atipicos = []\n",
    "    import numpy as np\n",
    "    lista_or= np.sort(lista) \n",
    "    quantiles =  np.quantile(lista_or,[0.25,0.50,0.75])\n",
    "    ric = quantile[2] - quantile[0] #Coloco cuantil 2 debido a que en python las listas comienzan desde cero pero en realidad estoy llamando al cuantin 3 y 1.\n",
    "    limsup =quantile[2]-1.5*ric #Calculo el limite superior, utilizando el cuantil 3, y el indice intercuantil\n",
    "    liminf =quantile[0]-1.5*ric #calculo el limite inferior, utilizando el cuantil 1,y el indice intercuantil\n",
    "    \n",
    "    \"\"\"\n",
    "    Resumen programa, se define la función a la que se le da como argumento una lista de numeros enteros y flotantes\n",
    "    Se crea una lista para almacenar los valores atipicos, se importa numpy\n",
    "    Se ordena la lista y posteriormente se procede a calcular los cuartiles/cuantiles Q3,Q2,Q1.\n",
    "    Se calcula el indice intercuartil 'RIC' y los limites inferior e superior\n",
    "    \"\"\"\n",
    "    for i in lista_or:\n",
    "        if i < liminf or i>limsup:\n",
    "            atipicos.append(i)\n",
    "    return atipicos\n",
    "    \"\"\"\n",
    "    Por medio de un for recorro los valores de la lista ordenada y en caso de encontrarse fuera del limite superior o inferior\n",
    "    se considera un valor atipico o outliers y se agrega a la lista atipico la cual se mostrara en pantalla posteriormente\n",
    "    \"\"\"\n",
    "\n",
    "atipicos(lista)"
   ]
  },
  {
   "cell_type": "markdown",
   "id": "37c8b395",
   "metadata": {},
   "source": [
    "##### Ejercicio 3.2\n",
    "\n",
    "La función *[sum()](https://docs.python.org/3/library/functions.html#sum)* de Python permite sumar una secuencia de números.\n",
    "\n",
    "Su implementación es,\n",
    "\n",
    "```Python\n",
    "sum(iterable, start)\n",
    "```\n",
    "\n",
    "Como se ve, solo recibe dos parámetros. Si hacemos, \n",
    "\n",
    "```Python\n",
    "sum([1,2,3]) #obtenemos 6 de resultado.\n",
    "```\n",
    "\n",
    "Pero si quisieramos hacer *sum(1,2,3,4)* obtendríamos un error.\n",
    "\n",
    "Se pide que implemente una función suma de tal manera que pueda recibir cualquier cantidad de parámetros (1,2,...,n) y retorne la suma de los mismos. Los parámetros solo pueden ser números enteros o flotantes separados por coma."
   ]
  },
  {
   "cell_type": "code",
   "execution_count": 7,
   "id": "4b721a6d",
   "metadata": {},
   "outputs": [
    {
     "ename": "TypeError",
     "evalue": "sumar() takes 1 positional argument but 3 were given",
     "output_type": "error",
     "traceback": [
      "\u001b[1;31m---------------------------------------------------------------------------\u001b[0m",
      "\u001b[1;31mTypeError\u001b[0m                                 Traceback (most recent call last)",
      "\u001b[1;32m~\\AppData\\Local\\Temp/ipykernel_14812/2354431107.py\u001b[0m in \u001b[0;36m<module>\u001b[1;34m\u001b[0m\n\u001b[0;32m     18\u001b[0m     \u001b[0mDefino\u001b[0m \u001b[0mla\u001b[0m \u001b[0mfunción\u001b[0m \u001b[0msuma\u001b[0m \u001b[0my\u001b[0m \u001b[0mcreo\u001b[0m \u001b[0muna\u001b[0m \u001b[0mvariable\u001b[0m \u001b[0mpara\u001b[0m \u001b[0malmacenar\u001b[0m \u001b[0mel\u001b[0m \u001b[0mresultado\u001b[0m\u001b[1;33m,\u001b[0m \u001b[0mcon\u001b[0m \u001b[0mun\u001b[0m \u001b[1;32mfor\u001b[0m \u001b[0mrecorro\u001b[0m \u001b[0mcada\u001b[0m \u001b[0mdatos\u001b[0m \u001b[0men\u001b[0m \u001b[0mla\u001b[0m \u001b[0mlista\u001b[0m \u001b[0my\u001b[0m \u001b[0mlo\u001b[0m \u001b[0mvoy\u001b[0m \u001b[0msumando\u001b[0m\u001b[1;33m.\u001b[0m\u001b[1;33m\u001b[0m\u001b[1;33m\u001b[0m\u001b[0m\n\u001b[0;32m     19\u001b[0m     \"\"\"\n\u001b[1;32m---> 20\u001b[1;33m \u001b[0msumar\u001b[0m\u001b[1;33m(\u001b[0m\u001b[1;36m1\u001b[0m\u001b[1;33m,\u001b[0m\u001b[1;36m2\u001b[0m\u001b[1;33m,\u001b[0m\u001b[1;36m3\u001b[0m\u001b[1;33m)\u001b[0m\u001b[1;33m\u001b[0m\u001b[1;33m\u001b[0m\u001b[0m\n\u001b[0m\u001b[0;32m     21\u001b[0m \u001b[1;31m### TO DO\u001b[0m\u001b[1;33m\u001b[0m\u001b[1;33m\u001b[0m\u001b[0m\n",
      "\u001b[1;31mTypeError\u001b[0m: sumar() takes 1 positional argument but 3 were given"
     ]
    }
   ],
   "source": [
    "### Resolución ejercicio 3.2\n",
    "lista=[] #creo una lista \n",
    "\n",
    "# while entrada:=input(\"Ingrese e ingrese ENTER para finalizar: \"): #Utilizo un while para ingresar los valores, al detectarse un enter el while finaliza\n",
    "#     numeros = float(entrada) #Convierto los datos de entrada a flotantes y los almaceno en la variable numero\n",
    "#     lista.append(numeros)#Agrego los valores a la lista        \n",
    "#     \"\"\"\n",
    "#     Por medio de un bucle while agrego los valores, al detectarse un enter osea que la entrada este vacia se finaliza el ingreso de valores.\n",
    "#     Posteriormente se convierten a flotantes y se almacenan en una variable numeros, la cual se agrega a una lista\n",
    "#     \"\"\"\n",
    "\n",
    "def sumar(lista):#Defino la funcón suma\n",
    "    suma = 0 #creo variable suma en 0\n",
    "    for numero in lista: #Recorro la lista\n",
    "         suma += numero #Sumo los valores de la lista\n",
    "    return suma #retorno la suma\n",
    "    \"\"\"\n",
    "    Defino la función suma y creo una variable para almacenar el resultado, con un for recorro cada datos en la lista y lo voy sumando.\n",
    "    \"\"\"\n",
    "sumar(1,2,3)\n",
    "### TO DO"
   ]
  },
  {
   "cell_type": "markdown",
   "id": "b6b9f121",
   "metadata": {},
   "source": [
    "### Ejercicio 3.3\n",
    "\n",
    "Implemente una función que devuelva el índice de masa corporal. La función recibe como parámetros una lista con las alturas en $cm$ y una lista con los pesos en $kg$ de una cierta cantidad de personas.\n",
    "\n",
    "Implemente la solución utilizando comprensión de listas e/o intente dar una solución usando funciones lambdas con la función map() de Python."
   ]
  },
  {
   "cell_type": "code",
   "execution_count": 8,
   "id": "5d6702f8",
   "metadata": {},
   "outputs": [
    {
     "data": {
      "text/plain": [
       "[19.031141868512112, 26.122448979591837, 26.528510346119035]"
      ]
     },
     "execution_count": 8,
     "metadata": {},
     "output_type": "execute_result"
    }
   ],
   "source": [
    "### Resolución ejercicio 3.3\n",
    "pesos=[55,80,85] #Defino una lista con n pesos\n",
    "estatura=[1.70,1.75,1.79] #Defino una lista con n estaturas\n",
    "\n",
    "def IMC(estatura, peso):\n",
    "        IMC=list( map(lambda x,y : x/(y**2), peso,estatura))\n",
    "        return (IMC)\n",
    "        \"\"\"\n",
    "        Utilizo map donde utilizando una función lamba, calculo el indice de masa corporal utilizando los elementos de las listas \n",
    "        anteriormente especificadas, y agregando los resultados a una nueva lista denominada IMC\n",
    "        \"\"\"\n",
    "IMC(estatura,pesos)\n",
    "#TO DO"
   ]
  },
  {
   "cell_type": "markdown",
   "id": "5862b855",
   "metadata": {},
   "source": [
    "##### Ejercicio 3.4\n",
    "\n",
    "Implemente una función llamada *mathOperations* que reciba como parámetros,\n",
    "- Un string con la operación a realizar, \"sumar\" para sumar, \"restar\" para restar, \"dividir\" para dividir y \"multiplicar\" para multiplicar.\n",
    "- Y dos variables numéricas que se usarán para realizar la operación matemática seleccionada.\n",
    "\n",
    "La función debe devolver un resultado dependiendo de la operación seleccionada.\n",
    "\n",
    "La implementación de la función debe contener anotaciones y documentación apropiada."
   ]
  },
  {
   "cell_type": "code",
   "execution_count": 9,
   "id": "6d787c0d",
   "metadata": {},
   "outputs": [
    {
     "name": "stdout",
     "output_type": "stream",
     "text": [
      "Ingrese la operación a realizar(sumar, restar, dividir o multiplicar)sumar\n",
      "Ingrese el primer valor: 5\n",
      "Ingrese el segundo valor: 5\n",
      "El resultado de la suma es: 10.0\n"
     ]
    },
    {
     "data": {
      "text/plain": [
       "'\\nDefino la función mathOperation con sus tres argumentos, por medio de condifionantes if y elif, chequeo la operación a realizar\\n\\nen caso de esa operación ser igual a una de las definidar se realizara lo correspondiente en el codigo.\\n'"
      ]
     },
     "execution_count": 9,
     "metadata": {},
     "output_type": "execute_result"
    }
   ],
   "source": [
    "### Resolución ejercicio 3.4\n",
    "a=input(\"Ingrese la operación a realizar(sumar, restar, dividir o multiplicar)\")\n",
    "b=float(input(\"Ingrese el primer valor: \"))\n",
    "c=float(input(\"Ingrese el segundo valor: \"))\n",
    "\n",
    "def mathOperation(a,b,c):\n",
    "    if a==\"sumar\":\n",
    "        res=b+c\n",
    "        print(\"El resultado de la suma es: \"+ str(res))\n",
    "    elif a==\"restar\":\n",
    "        res=b-c\n",
    "        print(\"El resultado de la resta es: \"+ str(res))\n",
    "    elif a==\"dividir\":\n",
    "        res=b//c\n",
    "        print(\"El resultado de la division es: \"+ str(res))\n",
    "    elif a==\"multiplicar\":\n",
    "        res=b*c\n",
    "        print(\"El resultado de la multiplicación es: \"+  str(res))\n",
    "        return res\n",
    "\n",
    "mathOperation(a,b,c)\n",
    "\n",
    "\"\"\"\n",
    "Defino la función mathOperation con sus tres argumentos, por medio de condifionantes if y elif, chequeo la operación a realizar\\n\n",
    "en caso de esa operación ser igual a una de las definidar se realizara lo correspondiente en el codigo.\n",
    "\"\"\"\n",
    "### TO DO"
   ]
  },
  {
   "cell_type": "markdown",
   "id": "b9f3d129",
   "metadata": {},
   "source": [
    "##### Ejercicio 3.5\n",
    "\n",
    "El número $\\pi$ puede aproximarse con la siguiente fórmula de aproximación,\n",
    "\n",
    "\\begin{equation*}\n",
    "\\pi = 3+ 4 \\sum _ { n = 2,4,6...; k=0,1,2.. } ^ { N,K } (-1)^k \\left[ \\frac {1}{n (n+1) (n+2)} \\right]\n",
    "\\end{equation*}\n",
    "\n",
    "Implemente una función que reciba como argumento la cantidad de aproximaciones *$N$* a realizar y retorne el valor de la aproximación.\n",
    "\n",
    "La implementación de la función debe contener anotaciones y documentación apropiada.\n",
    "\n",
    "NOTA: El valor de $k$ sirve para alternar el signo del término $(-1)^k$."
   ]
  },
  {
   "cell_type": "code",
   "execution_count": 12,
   "id": "8b80fb8c",
   "metadata": {},
   "outputs": [
    {
     "name": "stdout",
     "output_type": "stream",
     "text": [
      "ingreseun número entero N de aproximaciones:100000\n",
      "3.1415826535898224\n"
     ]
    }
   ],
   "source": [
    "## Resolución Ejercicio 3.5\n",
    "def aprox():\n",
    "    n = int(input(\"ingreseun número entero N de aproximaciones:\"))#Ingreso el número de n aproximaciones a realizar\n",
    "    total = 0 #creo una variable donde se almacenara el valor de la sumatoria\n",
    "    for i in range(0,n,2):\n",
    "        total += ((1.0/(i+i+1))-(1.0)/(i+i+3)) #Calculo la sumatoria\n",
    "    valor = 4*total #Multiplico el valor de 4 por el resultado de la sumatoria, el cual nos dara el resultado mas aproximado de 3.14\n",
    "    print(valor)\n",
    "aprox()\n",
    "##TO DO"
   ]
  },
  {
   "cell_type": "code",
   "execution_count": null,
   "id": "76cc5cbd",
   "metadata": {},
   "outputs": [],
   "source": [
    "N = 100000\n",
    "f = lambda n,k: ((-1)**k)*(1/(n*(n+1)*(n+2)))\n",
    "pi = 3 + 4*sum([f(n,k) for n,k in zip((range(2,N,2)), range(0,N))])\n",
    "pi\n",
    "\n",
    "## Nota, podríamos haber hecho\n",
    "## pi = 3 + 4*sum([(lambda n,k: ((-1)**k)*(1/(n*(n+1)*(n+2))))(n,k) for n,k in zip((range(2,N,2)), range(0,N))])\n",
    "## pero poner la función lambda dentro de la listComps puede resultar confuso cuando es muy extensa"
   ]
  },
  {
   "cell_type": "markdown",
   "id": "99326d18",
   "metadata": {},
   "source": [
    "##### Ejercicio 3.6\n",
    "\n",
    "En criptografía, el cifrado César, también conocido como cifrado por desplazamiento, código de César o desplazamiento de César, es una de las técnicas de cifrado más simples conocidas. Es un tipo de cifrado por sustitución en el que una letra en el texto original es reemplazada por otra letra que se encuentra un número fijo de posiciones más adelante en el alfabeto. Por ejemplo, con un desplazamiento de 3, la A sería sustituida por la D (situada 3 lugares a la derecha de la A), la B sería reemplazada por la E, etc. Este método debe su nombre a Julio César, que lo usaba para comunicarse con sus generales. Fuente [Wikipedia](https://es.wikipedia.org/wiki/Cifrado_C%C3%A9sar).\n",
    "\n",
    "Debe implementar,\n",
    "- Una función que se llame *codificar()* que reciba un mensaje y la cantidad de desplazamientos a realizar (la función debe tener este parametro con un valor por defecto para el caso de que el usuario no otorge un valor). La función debe retornar un mensaje encriptado.\n",
    "- Una función que se llame *decodificar* que reciba como argumento la cantidad de desplazamientos a realizar (la función debe tener este parametro con un valor por defecto para el caso de que el usuario no otorge un valor). La función debe retornar un mensaje desencriptado.\n",
    "\n",
    "La implementación de la función debe contener anotaciones y documentación apropiada."
   ]
  },
  {
   "cell_type": "code",
   "execution_count": null,
   "id": "b81b07f0",
   "metadata": {},
   "outputs": [],
   "source": [
    "## Resolución Ejercicio 3.6\n",
    "\n",
    "mensaje=str(input(\"Ingrese el mensaje a codificar: \"))\n",
    "desplazamientos=int(input(\"ingrese la cantidad de desplazamientos a realizar: \"))\n",
    "\n",
    "def codificar (mensaje, desplazamientos):\n",
    "    abc=\"abcdefghijklmnñopqrstuvwxyz\" #creo una variable con todas las letras del abecedario\n",
    "    codificado=\"\" #Creo una variable vacia, donde se almacenara el mensaje codificado\n",
    "    for i in mensaje:#Recorro las letras de la palabra ingresada por medio de un for\n",
    "        if i in abc: #Si la letra del mensaje aparece en el abecedario\n",
    "            codificado += abc[(abc.index(i)+desplazamientos)%(len(abc))] #Agrego la letra a la variable codificado, por medio del calculo de desplazamientos y considerando el indice de la letra en el abecedario\n",
    "            print (\"Su mensaje encriptado es: \",codificado)\n",
    "        else:\n",
    "            if desplazamientos ==():#En caso de no ingresar un valor de desplazamientos determino uno de 4 y realizo el procedimiento anterior.\n",
    "                desplazamientos = 4\n",
    "                codificado += abc[(abc.index(i)+desplazamientos)%(len(abc))]\n",
    "                print (\"Su mensaje encriptado es: \",codificado)\n",
    "        \n",
    "codificar (mensaje, desplazamientos)\n",
    "\n",
    "# codificado =str(input(\"Ingrese el mensaje a decodificar: \"))\n",
    "# desplazamientos=int(input(\"ingrese la cantidad de desplazamientos a realizar: \"))\n",
    "\n",
    "# def decodificar (codificado, desplazamientos):\n",
    "#     abc=\"abcdefghijklmnñopqrstuvwxyz\" #creo una variable con todas las letras del abecedario\n",
    "#     decodificado=\"\" #Creo una variable vacia, donde se almacenara el mensaje decodificado\n",
    "#     for i in codificado:#Recorro las letras de la palabra ingresada por medio de un for\n",
    "#         if i in abc:#Si la letra del mensaje aparece en el abecedario\n",
    "#             decodificado += abc[(abc.index(i)+desplazamientos)%(len(abc))]#Agrego la letra a la variable decodificado, por medio del calculo de desplazamientos y considerando el indice de la letra en el abecedario\n",
    "#             print (\"Su mensaje desencriptado es: \",decodificado)\n",
    "#         else:\n",
    "#             if desplazamientos ==():#En caso de no ingresar un valor de desplazamientos determino uno de 4 y realizo el procedimiento anterior.\n",
    "#                 desplazamientos = 4\n",
    "#                 codificado += abc[(abc.index(i)-desplazamientos)%(len(abc))]\n",
    "#                 print (\"Su mensaje desencriptado es: \",codificado)\n",
    "\n",
    "# decodificar (codificado, desplazamientos)\n",
    "\n",
    "#TO DO"
   ]
  },
  {
   "cell_type": "markdown",
   "id": "a2b06185",
   "metadata": {},
   "source": [
    "##### Ejercicio 3.7\n",
    "\n",
    "Una ruleta posee una rueda con 38 espacios. De estos espacios, 18 son negros, 18 son rojos y dos son verdes. Los espacios verdes están numerados cómo 0 y 00 (por simplicidad tomar sólo 0 como posible apuesta).\n",
    "\n",
    "Los espacios rojos en la ruleta están numerados 1, 3, 5, 7, 9, 12, 14, 16, 18, 19, 21, 23, 25, 27, 30 32, 34 y 36. El resto de los números son de color negro.\n",
    "\n",
    "Es posible realizar muchas apuestas en un juego de ruleta convencional, no obstante, para este ejercicio considere las siguientes:\n",
    "\n",
    "- Números simples (1 a 36, y 0)\n",
    "- Negras vs Rojas\n",
    "- Pares vs Impares (el 0 no debe considerarse dentro de esta apuesta)\n",
    "- 1 a 18 vs 19 a 36.\n",
    "\n",
    "Implemente una función que reciba como argumento una apuesta (número entero) entre 0 y 36. La función debe generar un número entero aleatorio (use las funciones de la librería *random*) y devolver un mensaje donde se informe que apuestas deben pagarse al jugador, por ejemplo,\n",
    "\n",
    "```Python\n",
    "print(juegoRuleta(apuesta = 14))\n",
    "```\n",
    "\n",
    "Si el número aleatorio generado es el 14, el mensaje retornado debería ser similar a:\n",
    "\n",
    "- Pagar al 14\n",
    "- Pagar rojas\n",
    "- Pagar pares\n",
    "- Pagar 1 a 18\n",
    "\n",
    "Si el número aleatorio generado es el 23, el mensaje retornado debería ser similar a:\n",
    "\n",
    "- Pagar rojas\n",
    "\n",
    "\n",
    "La implementación de la función debe contener anotaciones y documentación apropiada."
   ]
  },
  {
   "cell_type": "code",
   "execution_count": 1,
   "id": "31709ffa",
   "metadata": {},
   "outputs": [
    {
     "name": "stdout",
     "output_type": "stream",
     "text": [
      "Introduzca su numero para apostar en la ruleta: 23\n",
      "\"Gira la ruleta\"... \n",
      "--------------- \n",
      " Cae en:  6\n",
      "!!! perdiste !!!\n"
     ]
    },
    {
     "data": {
      "text/plain": [
       "'\\nEn el presente programa se define una función ruleta donde se ingresa un valor númerico como apuesta, posteriormente\\nse genera un número aleatorio el cual sera el número ganador. Posteriormente se verificara por medio de condicionantes if, y else\\nsi el número apostado y el número generado son ganadores y cuales sería su paga considerando una serie de condicionantes que se brindan \\nen la letra del ejercicio.\\n'"
      ]
     },
     "execution_count": 1,
     "metadata": {},
     "output_type": "execute_result"
    }
   ],
   "source": [
    "## Resolución Ejercicio 3.7\n",
    "\n",
    "jugada = int(input('Introduzca su numero para apostar en la ruleta: ')) #Ingreso numero a apostar\n",
    "\n",
    "def ruleta(jugada): #Defino mi función ruleta\n",
    "    import random\n",
    "    numeroaleatorio = random.randint(0,36) #Genero un numero aleatorio que puede encontrarse entre 0 y 36. \n",
    "    print('\"Gira la ruleta\"... \\n--------------- \\n Cae en: ',numeroaleatorio) #Imprimo en pañtalla el número ganador y posterior comienzo a verificar \n",
    "    if jugada == numeroaleatorio: #Si el numero apostado es igual al generado, dicho numero tiene premio.\n",
    "        print(\"Pagar al: \",numeroaleatorio)\n",
    "    else:   #Si no se se vewrificara que haya ganado premio según las otras condiciones        \n",
    "        if (jugada>=1 and jugada<=18) and (numeroaleatorio>=1 and numeroaleatorio<=18): #Si el num apostado se encuentra entre 1 y 18, y el numero generado tambén se debe pagar\n",
    "            print('Pagar 1 a 18')\n",
    "            if numeroaleatorio%2==0: #Si el número generado tiene modulo igual a 0, se paga por ser par, en caso contrario se paga impar\n",
    "                print('Pagar al rojo\\n Pagar pares')\n",
    "            else:\n",
    "                print('Pagar al negro\\n Pagar impares')\n",
    "        else:# En caso de no cumplirse lo anterior se verificara que el numero apostado y el generado se encuentran entre 19 y 36, si es así se paga a dicho número.\n",
    "            if (jugada>=19 and jugada<=36) and (numeroaleatorio>=19 and numeroaleatorio<=36):\n",
    "                print('Pagar 19 a 36')\n",
    "                if numeroaleatorio%2==0:#Si el número generado tiene modulo igual a 0, se paga por ser par, en caso contrario se paga impar, cumpliendose anteriormentesi se encontraba entre 0 y 36\n",
    "                    print('Pagar al rojo\\nPagar pares')\n",
    "                else:\n",
    "                    print('Pagar al negro\\nPagar impares')\n",
    "            else:\n",
    "                print (\"!!! perdiste !!!\")#En caso de no cumplisrse ninguna de las anteriores condicionantes, el jugador no obtiene ningun premio\n",
    "\n",
    "ruleta(jugada)\n",
    "\"\"\"\n",
    "En el presente programa se define una función ruleta donde se ingresa un valor númerico como apuesta, posteriormente\n",
    "se genera un número aleatorio el cual sera el número ganador. Posteriormente se verificara por medio de condicionantes if, y else\n",
    "si el número apostado y el número generado son ganadores y cuales sería su paga considerando una serie de condicionantes que se brindan \n",
    "en la letra del ejercicio.\n",
    "\"\"\"\n",
    "##TO DO"
   ]
  },
  {
   "cell_type": "markdown",
   "id": "16681842",
   "metadata": {},
   "source": [
    "##### Ejercicio 3.8\n",
    "\n",
    "1. Implemente una función que reciba como parámetro una lista de palabras y devuelva una lista de las posibles combinaciones de a dos. La lista retornada debe contener las tuplas correspondientes a la combinación de dos palabras. Por ejemplo, si la lista es,\n",
    "\n",
    "```Python\n",
    "palabras = [\"ing\", \"bio\", \"bci\"]\n",
    "```\n",
    "\n",
    "La función debe retornar algo similar a:\n",
    "\n",
    "```Python\n",
    ">> [(\"ing\",\"bio\"), (\"ing\",\"bci\"), (\"bio\",\"bci\")]\n",
    "```\n",
    "\n",
    "Recuerde que en combinación **no** importa el orden.\n",
    "\n",
    "2. Luego intente implementar lo mismo utilizando *list comprehension* y utilizando la función *[combinations](https://docs.python.org/3/library/itertools.html#itertools.combinations)* de la librería *[itertools](https://docs.python.org/3/library/itertools.html)*. Para usar esta herramienta debe importar la librería o bien el método, haciendo,\n",
    "\n",
    "```Python\n",
    "from itertools import combinations\n",
    "```\n",
    "\n",
    "La implementación de la función debe contener anotaciones y documentación apropiada."
   ]
  },
  {
   "cell_type": "code",
   "execution_count": 4,
   "id": "a3e03a70",
   "metadata": {},
   "outputs": [
    {
     "data": {
      "text/plain": [
       "[('ing', 'bio'),\n",
       " ('ing', 'Juan'),\n",
       " ('ing', 'bci'),\n",
       " ('bio', 'Juan'),\n",
       " ('bio', 'bci'),\n",
       " ('Juan', 'bci')]"
      ]
     },
     "execution_count": 4,
     "metadata": {},
     "output_type": "execute_result"
    }
   ],
   "source": [
    "## Resolución Ejercicio 3.8\n",
    "\n",
    "palabras = [\"ing\", \"bio\", \"Juan\", \"bci\"]\n",
    "\n",
    "def combinaciones(palabras):\n",
    "    from itertools import combinations #De itertool importo combinantions\n",
    "    lista= [i for i in list(combinations(palabras,2))] #Creo una lista donde se encuentran\\ntodas las posibles combinaciones formada por dos palabras\n",
    "    return (lista)\n",
    "\"\"\"\n",
    "Creo una nueva lista, y utilizando list comprehension para los i en lista, le asigno una tupla de dos plabras con\\n\n",
    "las posibles combinaciones que pueden tener a partir de las palabras que se encuentran en la lista \"palabras\", \n",
    "esto se logra a partir de utilizar combinantions().\n",
    "\"\"\"\n",
    "combinaciones(palabras)\n",
    "##TO DO"
   ]
  },
  {
   "cell_type": "markdown",
   "id": "977d6306",
   "metadata": {},
   "source": [
    "##### Ejercicio 3.9\n",
    "\n",
    "Implemente una función que reciba una lista de elementos enteros, o flotantes, o strings (podría ser una lista con elementos del mismo tipo o bien una mezcla de estos) y retorne una lista con los elementos sin repetir.\n",
    "\n",
    "Como ejemplo, si la lista es *[1,2,3,4,5,5,6,7,7,1,2,8,9,9]* la función debe retornar *[1,2,3,4,5,6,7,8]*.\n",
    "\n",
    "La implementación de la función debe contener anotaciones y documentación apropiada."
   ]
  },
  {
   "cell_type": "code",
   "execution_count": 6,
   "id": "ea952473",
   "metadata": {},
   "outputs": [
    {
     "data": {
      "text/plain": [
       "[1, 2, 3, 4, 5, 'perro', 6, 7, 8, 9]"
      ]
     },
     "execution_count": 6,
     "metadata": {},
     "output_type": "execute_result"
    }
   ],
   "source": [
    "## Resolución Ejercicio 3.9\n",
    "lista=[1,2,3,4,4,4,4,4,5,5,'perro',6,3,3,7,7,1,2,8,9,9,'perro',\"perro\"]\n",
    "\n",
    "def repetidos(lista):\n",
    "        lista2=[]\n",
    "        lista=[lista2.append(i) for i in lista if i not in lista2]\n",
    "        \"\"\"\n",
    "        Creo una listanueva, utilizando list comprehensión agrego los nuevos i, que esten en la lista inicial \n",
    "        y no esten en la lista dos, eliminandose así los repetidos.\n",
    "        \"\"\"\n",
    "        return lista2\n",
    "    \n",
    "repetidos(lista)\n",
    "\n",
    "##TO DO"
   ]
  },
  {
   "cell_type": "markdown",
   "id": "91030ed9",
   "metadata": {},
   "source": [
    "##### Ejercicio 3.10\n",
    "\n",
    "Implemente una función que retorne un diccionario con los datos de un equipo médico. La función debe tener como parámetros fijos un nombre genérico del equipo y el área donde se encuentra, además de ser necesario, se le pasarán a la función una mayor cantidad de datos referentes al equipo. A modo de ejemplo el pasaje de argumentos puede ser,\n",
    "\n",
    "```Python\n",
    "equipo1 = datosEquipo(equipo = \"Respirador\", area = \"Neonatología\")\n",
    "\n",
    "equipo2 = datosEquipo(equipo = \"Respirador\", area = \"UCI\",\n",
    "                      coment = \"Alarma de presión de O2 no se apaga\",\n",
    "                      responsable = \"deja el equipo Mengano\")\n",
    "\n",
    "equipo3 = datosEquipo(equipo = \"Bomba infusión\", area = \"uti\",\n",
    "                      comentario = \"Necesitamos el equipo urgente\",\n",
    "                      falla = \"equipo no enciende o se apaga luego de algunas horas de uso\",\n",
    "                      personaResponsable = \"Dra. Sierra\",\n",
    "                      infoAdicional = \"No había nadie en biomédica\")\n",
    "```\n",
    "\n",
    "La implementación de la función debe contener anotaciones y documentación apropiada."
   ]
  },
  {
   "cell_type": "code",
   "execution_count": 11,
   "id": "09b8ae56",
   "metadata": {},
   "outputs": [
    {
     "name": "stdout",
     "output_type": "stream",
     "text": [
      "{'nombre': 'Equipo2', 'area': 'cti', 'falla': 'baja presion aire', 'responsable': 'Mercedes Sosa', 'fechaCompra': 'MArzo 2022'} {'nombre': 'Equipo2', 'area': 'cti', 'falla': 'baja presion aire', 'responsable': 'Mercedes Sosa', 'fechaCompra': 'MArzo 2022'}\n"
     ]
    },
    {
     "data": {
      "text/plain": [
       "'\\nCreo la función en la cual los argumentos equipoX, en el que se especifica el nombre del mismo. Y utilizando kwargs puedo ingresar \\nlos datos necesarios sobre el equipo los cuales seran agregados al diccionario\\n'"
      ]
     },
     "execution_count": 11,
     "metadata": {},
     "output_type": "execute_result"
    }
   ],
   "source": [
    "## Resolución Ejercicio 3.10\n",
    "\n",
    "def datosEquipos(equipoX,**datosequipos):\n",
    "    equipoX=datosequipos\n",
    "    print(equipoX,datosequipos)\n",
    "\n",
    "equipo2 = datosEquipos(equipoX = \"equipo2\", nombre=\"Equipo2\", area=\"cti\",\n",
    "                       falla=\"baja presion aire\", responsable= \"Mercedes Sosa\", fechaCompra = \"MArzo 2022\")\n",
    "\n",
    "\"\"\"\n",
    "Creo la función en la cual los argumentos equipoX, en el que se especifica el nombre del mismo. Y utilizando kwargs puedo ingresar \n",
    "los datos necesarios sobre el equipo los cuales seran agregados al diccionario\n",
    "\"\"\"\n",
    "##TO DO"
   ]
  },
  {
   "cell_type": "markdown",
   "id": "36015ec2",
   "metadata": {},
   "source": [
    "##### Ejercicio 3.11\n",
    "\n",
    "Implemente una función que calcule la raíz cuadrada de un número entero utilizando el método de aproximaciones de Newton, el cual es,\n",
    "\n",
    "\\begin{equation*}\n",
    "\\sqrt a = \\frac{x + \\frac{a}{x}}{2}\n",
    "\\end{equation*}\n",
    "\n",
    "Donde, \n",
    "\n",
    "- *x* es una *estimación* o *aproximación* conocida de la raíz cuadrada. En general puede asumirse *x = 1* o *x = a*.\n",
    "\n",
    "La función a implementar debe recibir,\n",
    "\n",
    "- Un número entero *a* para estimar su raíz cuadrada.\n",
    "- Un número entero *n* que representa la cantidad de iteraciones a realizar para aproximar la raíz de *a*. Por defecto hacer n = 10.\n",
    "\n",
    "La función debe retornar\n",
    "\n",
    "- Una lista con cada uno de los cálculos realizados en cada iteración\n",
    "- El valor calculado de la última iteración.\n",
    "- El valor de la raiz cuadrada de *a* utilizando el método *sqrt* de la librería *math* (para comparación).\n",
    "\n",
    "La implementación de la función debe contener anotaciones y documentación apropiada."
   ]
  },
  {
   "cell_type": "code",
   "execution_count": null,
   "id": "fc28012e",
   "metadata": {},
   "outputs": [],
   "source": [
    "## Resolución Ejercicio 3.11\n",
    "##TO DO"
   ]
  },
  {
   "cell_type": "markdown",
   "id": "37d063be",
   "metadata": {},
   "source": [
    "##### Ejercicio 3.12\n",
    "\n",
    "Implemente una función que reciba como parámetros un número *n* de diccionarios. Asuma que los diccionarios pasados como parámetros poseen un *key* y elementos numéricos (enteros o flotantes).\n",
    "\n",
    "La función debe retornar un diccionario nuevo con la suma de los elementos correspondientes a los keys iguales.\n",
    "\n",
    "Por ejemplo,\n",
    "\n",
    "```Python\n",
    "dic1 = {'key1': 10, 'key2': 20, 'key3':30}\n",
    "dic2 = {'key1': 30, 'key3': 20, 'key4':40}\n",
    "\n",
    "dic3 = miFunc(d1,d2)\n",
    "print(dic3)\n",
    "# El dic3 debe ser de la forma {'key1': 40, 'key2': 20, 'key3': 50, 'key4': 40}\n",
    "```"
   ]
  },
  {
   "cell_type": "code",
   "execution_count": 14,
   "id": "267a611e",
   "metadata": {},
   "outputs": [
    {
     "name": "stdout",
     "output_type": "stream",
     "text": [
      "{'key1': 185, 'key2': 20, 'key3': 70, 'key4': 170, 'key5': 1000}\n"
     ]
    }
   ],
   "source": [
    "## Resolución Ejercicio 3.12\n",
    "## Resolución Ejercicio 3.12\n",
    "def miFunc(*diccionarios): #Utilisando el operador estrella puede agregar multiples diccionarios\n",
    "    from collections import Counter    #Importo counter de collections    \n",
    "    dicNuevo={} #Creo un diccionario nuevo deonde se almacenara la suma de las claves de los keys comunes\n",
    "    for n in range(0,len(diccionarios)): #Para cada n en el rango desde 0 a los diccionarios agregados, realizo la accion del codigo a continuación \n",
    "        dicNuevo = (dict(Counter(dicNuevo)+Counter(diccionarios[n]))) #En el diccionario nuevo con la función counter en recorro las llaves de los diferentes diccionarios, en caso de aparecer mas de una se suma el valor de la clave a la existente en el diccionario nuevo\n",
    "    return dicNuevo    \n",
    "\"\"\"\n",
    "Resumen programa, se crea la función miFunc a la cual por medio del uso del operador estrella se pueden agregar multiples diccionarios\n",
    "Posteriormente recorro los diccionarios, y se ejecuta el codigo correspondiente el cual recorre las diferentes llaves que se agregan al\n",
    "diccionario nuevo, en caso de aprarecer posteriomente se suma el valor de la clave  mantenindo solo una clave.\n",
    "Posteriormente se muestra en pantalla el diccionario nuevo con los claves sumadas en las keys comunes.\n",
    "\"\"\"\n",
    "\n",
    "dic1 = {'key1': 25, 'key2': 20, 'key3':30}\n",
    "dic2 = {'key1': 30, 'key3': 20, 'key4':40}\n",
    "dic3 = {'key1': 30, 'key3': 20, 'key4':130}\n",
    "d4 = {\"key1\": 100, \"key5\": 1000}\n",
    "\n",
    "print(miFunc(dic1,dic2,dic3,d4))\n",
    "##TO DO"
   ]
  },
  {
   "cell_type": "markdown",
   "id": "c953298e",
   "metadata": {},
   "source": [
    "##### Ejercicio 3.13\n",
    "\n",
    "Implemente una función que reciba como parámetro el nombre de un archivo de texto *.txt* y retorne un diccionario en donde los *keys* estarán formados por cada palabra dentro del archivo y los *elementos* serán las veces que la palabra en cuestión se repite dentro del texto.\n",
    "\n",
    "Considere lo siguiente.\n",
    "\n",
    "- Descartar símbolos y caracteres. Asuma que el texto solo puede contener los siguientes caracteres y símbolos:\n",
    " - _ (guión bajo), - (guión medio).\n",
    " - , (coma) y . (punto).\n",
    " - ¿, ?, ¡, ! (signos de interrogación y exlamación).\n",
    "- Todas las palabras retornadas en el diccionario deben estar en minúsculas.\n",
    "\n",
    "Ejemplo\n",
    "\n",
    "```Python\n",
    "## supogamos que el archivo texto.txt contiene lo siguiente\n",
    "## \"Hola mundo. Hola mundo!!!\"\n",
    "\n",
    "diccionario = makeDict(\"texto.txt\")\n",
    "#El diccionario retornado debe ser similar a {\"hola\": 2, \"mundo\": 2}\n",
    "```\n",
    "\n",
    "NOTA: Utilice la función [*open()*](https://docs.python.org/3/library/functions.html#open) para cargar el archivo.\n",
    "\n",
    "La implementación de la función debe contener anotaciones y documentación apropiada."
   ]
  },
  {
   "cell_type": "code",
   "execution_count": 15,
   "id": "c87340e9",
   "metadata": {},
   "outputs": [
    {
     "name": "stdout",
     "output_type": "stream",
     "text": [
      "{'hola': 2, 'mundo': 2, 'como': 2, 'esta': 1, '!': 1, 'el': 4, 'hoy': 1, '?': 2, 'e': 1, 'estan': 1, 'en': 1, 'matemã¡ticas': 1, 'un': 2, 'nãºmero': 3, 'primo': 2, 'es': 1, 'natural': 2, 'mayor': 1, 'que': 4, '1': 3, 'tiene': 1, 'ãºnicamente': 1, 'dos': 1, 'divisores': 1, 'positivos': 1, 'distintos:': 1, 'ã©l': 1, 'mismo': 1, 'y': 3, '1.1â€‹2â€‹': 1, 'por': 3, 'contrario': 1, 'los': 3, 'nãºmeros': 3, 'compuestos': 1, 'son': 1, 'naturales': 1, 'tienen': 1, 'algãºn': 1, 'divisor': 1, 'aparte': 1, 'de': 1, 'sã\\xad': 1, 'mismos': 1, 'del': 1, 'lo': 1, 'tanto': 1, 'pueden': 1, 'factorizarse': 1, 'convenio': 1, 'no': 1, 'se': 1, 'considera': 1, 'ni': 2, 'compuesto': 1, '168': 1, 'primos': 1, 'menores': 1, '1000': 1, 'son:': 1}\n"
     ]
    }
   ],
   "source": [
    "## Resolución Ejercicio 3.13\n",
    "def frecuencia(archivo):\n",
    "    import os\n",
    "    archivo=open(archivo,'r')#Abro el archivo de texto, en el modo lectura\n",
    "    archivo_ = archivo.read() #Guardo el archivo en una variable tipo string\n",
    "    frecuencia = {} #creo un diccionario frecuencia\n",
    "    palabras = archivo_.split()   #Almaceno las lineas en una lista las cuales se separan por una coma utilizando ´split' y las almaceno en la lista palabras\n",
    "    for palabra in palabras:#Con uno for recorro palabras\n",
    "        palabra = palabra.lower().strip(\".,\") #convierto la palabra a minuscula y elimino \"., \" en caso de tenerlos anidados\n",
    "        if palabra not in frecuencia: #Me fijo si palabra no esta en el diccionario frecuencia si no esta, la agrego con una clave = 1\n",
    "            frecuencia[palabra] = 1\n",
    "        else:\n",
    "            frecuencia[palabra] += 1 #En caso de ser mas frecuente voy aumentando el valor en 1 de la clave de dicha palabra\n",
    "    archivo.close\n",
    "    \n",
    "    print(frecuencia) # Imprimo el diccionario\n",
    "\n",
    "frecuencia('texto.txt')"
   ]
  },
  {
   "cell_type": "markdown",
   "id": "c552bc2a",
   "metadata": {},
   "source": [
    "<hr style=\"border:1px solid gray\"> </hr>\n",
    "\n",
    "##  <span style='color:#3A40A2 '>FIN</span>"
   ]
  },
  {
   "cell_type": "markdown",
   "id": "6c48d06a",
   "metadata": {},
   "source": [
    "Te paso comentarios de los ejercicios.\n",
    "\n",
    "- 3.1 - <span style='color:red'> No me funciona - Corregir </span>\n",
    "- 3.2 - <span style='color:red'> No es correcto. La función debe recibir números separados por coma y sumarlos. Repasar el operador \\*. </span>\n",
    "- 3.3 - OK: Para la próxima formatea la salida para que queden como mucho dos decimales.\n",
    "- 3.4 - OK\n",
    "- 3.5 - OK: Te deje una respuesta alternativa\n",
    "- <span style='color:red'> 3.6 - No funciona correctamente. El mensaje codificado debe estar en una sola línea.</span>\n",
    "- 3.7 - OK\n",
    "- 3.8 - OK\n",
    "- 3.9 - OK: Bien pensado.\n",
    "- 3.10 - OK: Reemplazar el \"print\" dentro de la función por un \"return\". Debe devolver el diccionario. \n",
    "- <span style='color:red'> 3.11 - Falta hacer</span>\n",
    "- 3.12 - OK\n",
    "- 3.13 - OK\n",
    "\n",
    "Falto agregar documentación solicitada. Repasar \"docstring\".\n",
    "\n",
    "Tu calificación es **65**."
   ]
  },
  {
   "cell_type": "code",
   "execution_count": null,
   "id": "2cd27852",
   "metadata": {},
   "outputs": [],
   "source": []
  }
 ],
 "metadata": {
  "interpreter": {
   "hash": "341b29a86feb41683388a2350ede9b29bff08e5e019b1f08826cb582c6a8c162"
  },
  "kernelspec": {
   "display_name": "Python [conda env:pda]",
   "language": "python",
   "name": "conda-env-pda-py"
  },
  "language_info": {
   "codemirror_mode": {
    "name": "ipython",
    "version": 3
   },
   "file_extension": ".py",
   "mimetype": "text/x-python",
   "name": "python",
   "nbconvert_exporter": "python",
   "pygments_lexer": "ipython3",
   "version": "3.10.0"
  }
 },
 "nbformat": 4,
 "nbformat_minor": 5
}
