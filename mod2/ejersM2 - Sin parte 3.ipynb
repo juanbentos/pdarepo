{
 "cells": [
  {
   "cell_type": "markdown",
   "id": "6c5bce21",
   "metadata": {},
   "source": [
    "# <center> <span style='color:#3A40A2 '> Ejercitación Módulo 2 </span></center>\n",
    "<hr style=\"border:1px solid gray\"> </hr>\n",
    "\n",
    "La siguiente notebook contiene ejercitación del Módulo 2 de la Unidad Curricular ***\"Programación Digital Avanzada\"*** de la carrera de *Ingeniería Biomédica* de la UTEC.\n",
    "\n",
    "La *primera parte* y la *segunda parte* de esta notebook serán utilizadas para ejercitación. Por otro lado, la *tercera parte* será utilizada para el laboratorio del módulo y **se debe entregar** resuelta en una Jupyter Notebbok (puede ser esta misma). Además debe subirse la resolución a su repositorio de PDA en github.\n",
    "\n",
    "Profesor Adjunto: *Mag. Bioing. Baldezzari Lucas*\n",
    "\n",
    "<p style='text-align: right;'> V2022 </p>"
   ]
  },
  {
   "cell_type": "markdown",
   "id": "9f3524dd",
   "metadata": {},
   "source": [
    "<hr style=\"border:1px solid gray\"> </hr>\n",
    "\n",
    "## <span style='color:#3A40A2 '> Primera parte </span>\n",
    "\n",
    "Investigue y responda.\n",
    "\n",
    "1. ¿Qué sginifica que Python sea un lenguaje *no tipificado*.\n",
    "\n",
    "    Que sea un lenguaje no tipificado significa que python no tiene control sobre los tipos de  variables que se declaran,     por lo que es posible usar diferentes tipos de variables en el mismo escenario.\n",
    "    \n",
    " \n",
    "2. Mencione algunas diferencias entre los tipos de datos *int* y *reales* en Python\n",
    "    \n",
    "    Las diferencias entre este tipo de datos en  que con el dato *int* se almacenan datos de tipo entero, y en los tipos de datos reales se almacenan los datos de tipo real en este caso los decimales.\n",
    "3. Mencione algunas diferencias entre los tipos *tuplas*, *listas*, *string* y *diccionarios* en Python\n",
    "\n",
    "    Las cadenas, listas y tuplas son distintos tipos de secuencias. Una secuencia es un tipo de objeto que almacena datos y que permite el acceso a una parte determinada de su información utilizando índices. \n",
    "\n",
    "    Las listas, tuplas, diccionarios y conjuntos (set) son estructuras que permiten trabajar con colecciones de datos. El primer elemento de una lista o de una tupla ocupa la posición 0.\n",
    "    \n",
    "    Los diccionarios son objetos que contienen una lista de parejas de elementos. De cada pareja un elemento es la clave, que no puede repetirse, y, el otro, un valor asociado. La clave que se utiliza para acceder al valor tiene que ser un dato inmutable como una cadena, mientras que el valor puede ser un número, una cadena, un valor lógico (True/False), una lista o una tupla.\n",
    "    \n",
    "    \n",
    "4. ¿Qué es un *elemento* de una lista? ¿Cómo se puede acceder a un determinado elemento?\n",
    "\n",
    "    Una lista es una colección ordenada de valores. Al decir ordenada nos referimos a que cada elemento tiene una posición\n",
    "    definida dentro de esta lista. Se llama elementos a los valores que pueden ser almacenados dentro de una lista. Los \n",
    "    valores que pueden ser incluidos dentro de una lista son valores de cualquier tipo.\n",
    "    \n",
    "    Al ser una colección ordenada, cada valor tiene una posición determinada. Esto permite que sea posible acceder a un       elemento específico de la lista usando su posición. \n",
    "    Por ejemplo: \n",
    "    \n",
    "    Numeros=[50, 30, 90, 15, 90]\n",
    "    Podemos acceder al elemento en la primera posición escribiendo numeros[0], que contiene el valor :`50`.\n",
    "    \n",
    "5. ¿Qué significa que un tipo de dato sea dinámico y mutable?\n",
    "    \n",
    "    \n",
    "    Cuando un tipo de dato es dinamico y mutable. Lo que significa para cada uno es,\n",
    "    Dinámico: Es que pueden tomar valores de distinto tipo a lo largo del código\n",
    "    Mutado: Los tipos de datos mutables de Python son aquellos cuyos valores se pueden cambiar en el lugar\n",
    "    \n",
    "    \n",
    "6. ¿Qué se entiende por *colección* o *collection* en Python? ¿Qué tipos de datos pertenecen a esta categoría?\n",
    "    \n",
    "    Las colecciones en Python son contenedores que se utilizan para almacenar datos y se conocen comúnmente como               estructuras de datos, como listas, tuplas, matrices, diccionarios, etc.\n",
    "\n",
    "7. ¿Qué significa *Aliasing* en el ámbito de Python?\n",
    "\n",
    "    En la programación de Python, el segundo nombre que se le da a un dato se conoce como alias.\n",
    "    El aliasing ocurre cuando el valor de una variable se asigna a otra variable: las variables son solo nombres que           almacenan referencias al valor real.\n",
    "     \n",
    "     \n",
    "8. ¿Qué entiende por parámetro o argumento de una función?\n",
    "    \n",
    "    \n",
    "    Un parámetro es un valor que la función espera recibir cuando sea llamada (invocada), a fin de ejecutar acciones en       base al mismo. Una función puede esperar uno o más parámetros.\n",
    "\n",
    "9. En las siguientes líneas de código, ¿cuál es la diferencia entre las variables s1 y s2?\n",
    "   \n",
    "   En el siguiente codigo la diferencia entre s1 y s2 son que s1 cuenta con '()' por lo que dicha función si puede recibir    argumentos, en cambio s2 no cuenta con lo mismo por lo cual no puede recibir argumentos.\n",
    "\n",
    "```Python\n",
    "def saludar():\n",
    "    print(\"Buenas!\")\n",
    "    \n",
    "s1 = saludar()\n",
    "s2 = saludar\n",
    "```\n",
    "\n",
    "10. ¿Qué significa que las funciones *lambdas* pueden ser *anónimas*?\n",
    "     \n",
    "     \n",
    "     Lo que significa que las funciones lambdas pueden ser anonimas es que es posible ejecutar una función sin referenciar a un nombre, lo cual se puede aplicar en python.\n",
    "     \n",
    "     \n",
    "11. ¿Qué palabra reservada puede usarse para chequear si un elemento se encuentra dentro de un set o una lista?\n",
    "\n",
    "    Para chequear si un elemento se encuentra dentro de una lista o un set se puede utilizar la palabra reservada 'in'.\n",
    "    \n",
    "    Example: lista=[1,50,30,20]\n",
    "    if 50 in lista:\n",
    "    print(\"Existe en la lista\")\n",
    "    \n",
    "    \n",
    "12. Observe el siguiente código y responda si es posible realizar dicha asignación. ¿Si? ¿No? ¿Por qué?\n",
    "    \n",
    "    Observando el siguiente código puedo decir que no es posible realizar dicha asignación, ya que dentro del set se encuentra una lista la cual no se puede agregar al mismo porque no es modificable.\n",
    "\n",
    "```Python\n",
    "miSet = {1,2,3, [1,2,3]}\n",
    "```\n",
    "\n"
   ]
  },
  {
   "cell_type": "code",
   "execution_count": 15,
   "id": "a7af0cde",
   "metadata": {},
   "outputs": [],
   "source": [
    "def saludar():\n",
    "    print(\"Buenas!\")\n",
    "    \n",
    "s1 = saludar()\n",
    "s2 = saludar"
   ]
  },
  {
   "cell_type": "markdown",
   "id": "8b819c20",
   "metadata": {},
   "source": [
    "<hr style=\"border:1px solid gray\"> </hr>\n",
    "\n",
    "## <span style='color:#3A40A2 '> Segunda parte </span>\n",
    "\n",
    "En esta parte deberá resolver los siguientes ejercicios.\n",
    "\n",
    "*NOTA:* Esta parte no debe entregarse."
   ]
  },
  {
   "cell_type": "markdown",
   "id": "6379e6ff",
   "metadata": {},
   "source": [
    "#### <span style='color:#f95441'>Funciones para lectura de entradas desde teclado</span>\n",
    "\n",
    "Python ofrece algunas funciones *[built-in](https://docs.python.org/3/library/functions.html)* para solicitar a un usuario que ingrese algo por el teclado y leer dicha entrada, alguna de estas funciones son *[raw_input](https://python-reference.readthedocs.io/en/latest/docs/functions/raw_input.html)* e *[input()](https://docs.python.org/3/library/functions.html#input)*.\n",
    "\n",
    "Por ejemplo, \n",
    "\n",
    "```Python\n",
    "nombre = input(\"¿Cuál es tu nombre?\")\n",
    "print(f\"Hola, {nombre}\")\n",
    "```"
   ]
  },
  {
   "cell_type": "markdown",
   "id": "03b63fc7",
   "metadata": {},
   "source": [
    "### <span style='color:#f95441'>Ejercicios</span>"
   ]
  },
  {
   "cell_type": "markdown",
   "id": "fb7eac21",
   "metadata": {},
   "source": [
    "##### Ejercicio 2.1\n",
    "\n",
    "Un polígono es regular si todos sus lados poseen la misma longitud y los ángulos internos de lados adyacentes son iguales. El área de un políguno regular puede ser calculado usando la siguiente fórmula, sonde $s$ es el largo de cada lado y $n$ es la cantidad de lados.\n",
    "\n",
    "$$   area = \\frac{n\\times s^2}{4\\times \\tan(\\frac{\\pi}{n})}  $$\n",
    "\n",
    "Escriba un programa que lea desde el teclado los valores de $s$ y $n$ y muestre el área del polígono."
   ]
  },
  {
   "cell_type": "code",
   "execution_count": 4,
   "id": "6dc04993",
   "metadata": {},
   "outputs": [
    {
     "name": "stdout",
     "output_type": "stream",
     "text": [
      "Ingrese la cantidad de lados de su poligono: 3\n",
      "Ingrese el largo de  de lados de su poligono: 40\n",
      "El area de su poligono es de: 692.0\n"
     ]
    }
   ],
   "source": [
    "## Resolución ejercicio 2.1\n",
    "\n",
    "import math\n",
    "\n",
    "n=int(input(\"Ingrese la cantidad de lados de su poligono: \"))\n",
    "s=int(input(\"Ingrese el largo de  de lados de su poligono: \"))\n",
    "    \n",
    "area=(n * s*s)//(4*math.tan(math.pi/n))\n",
    "print (\"El area de su poligono es de:\",area,\"cm2\")"
   ]
  },
  {
   "cell_type": "markdown",
   "id": "46449bdf",
   "metadata": {},
   "source": [
    "##### Ejercicio 2.2\n",
    "\n",
    "Escriba un programa que lea desde el teclado el valor de un entero de cuatro dígitos y muestre por pantalla la suma de los dígitos. Por ejemplo, si el usuario ingresa *1234* el programa debe mostrar *10*."
   ]
  },
  {
   "cell_type": "code",
   "execution_count": 6,
   "id": "23346945",
   "metadata": {},
   "outputs": [
    {
     "name": "stdout",
     "output_type": "stream",
     "text": [
      "Ingrese un número de 4 digitos: 9876\n",
      "30\n"
     ]
    }
   ],
   "source": [
    "## Resolución ejercicio 2.2\n",
    "\n",
    "n=int(input(\"Ingrese un número de 4 digitos: \"))\n",
    "def sumando(n):\n",
    "    sum=0\n",
    "    while (n != 0):\n",
    "        sum = sum+ (n % 10)\n",
    "        n //= 10\n",
    "    print (sum)\n",
    "\n",
    "sumando(n)\n"
   ]
  },
  {
   "cell_type": "markdown",
   "id": "77727bcf",
   "metadata": {},
   "source": [
    "##### Ejercicio 2.3\n",
    "\n",
    "Escriba un programa que calcule las raices de una función cuadrática."
   ]
  },
  {
   "cell_type": "code",
   "execution_count": 8,
   "id": "6b6be4bd",
   "metadata": {},
   "outputs": [
    {
     "name": "stdout",
     "output_type": "stream",
     "text": [
      "Ingrese el coeficiente de la variable cuadrática: 1\n",
      "Ingrese el coeficiente de la variable lineal: -2\n",
      "Ingrese el término independiente: -3\n",
      "X1:  3.0\n",
      "X2:  -1.0\n"
     ]
    }
   ],
   "source": [
    "## Resolución ejercicio 2.3\n",
    "\n",
    "##TO DO\n",
    "import math\n",
    "\n",
    "a = int(input(\"Ingrese el coeficiente de la variable cuadrática: \"))\n",
    "b = int(input(\"Ingrese el coeficiente de la variable lineal: \"))\n",
    "c = int(input(\"Ingrese el término independiente: \"))\n",
    "\n",
    "#raiz1= \n",
    "#raiz2=\n",
    "#Como nos dice la formula, restamos el valor de b elevado a la 2, con el valode de 4 * a * c\n",
    "x = (b**2)-(4*a*c)\n",
    "\n",
    "#Si x es menor que 0, no tendra una solucion dentro de las reglas de los numeros reales\n",
    "if x < 0:\n",
    "    print(\"Solucion solo en numeros complejos\")\n",
    "elif x == 0:\n",
    "    x1 = (-b) / (2*a)\n",
    "    print(\"%.2f\" % x1)\n",
    "else:\n",
    "\t#Luego sumamos o restamos (nos dara 2 valores diferentes, pero ambos igualaran la ecuacion)\n",
    "\t#sumamos el valor de -b a la raiz cuadrada de x y luego lo dividimos entre 2 * a\n",
    "    x1 = (-b + math.sqrt(x)) / (2*a)\n",
    "    x2 = (-b - math.sqrt(x)) / (2*a)\n",
    "\n",
    "    #Mostramos ambos valores\n",
    "    print(\"X1: \", x1)\n",
    "    print(\"X2: \", x2)"
   ]
  },
  {
   "cell_type": "markdown",
   "id": "cbd0f92b",
   "metadata": {},
   "source": [
    "##### Ejercicio 2.4\n",
    "\n",
    "Ruido |dB |\n",
    "-----|-----| \n",
    "Martillo neumático |130|\n",
    "Desmalezadora a nafta|106|\n",
    "Alarma reloj|70|\n",
    "Tranquilo|40|\n",
    "\n",
    "Escriba un programa que reciba un nivel de ruido en decibeles $dB$. Si el nivel de ruido coincide con uno de los ruidos de la tabla anterior, el programa debe informar a qué se debe. En el caso de que el nivel de ruido este entre alguno de los dos niveles, el programa debe informar entre que ruidos se encuentra el nivel ingresado. Además, el programa implementado debe dar mensajes adecuados si los sonidos estan por encima del valor máximo o por debajo del mínimo."
   ]
  },
  {
   "cell_type": "code",
   "execution_count": 18,
   "id": "a902e933",
   "metadata": {},
   "outputs": [
    {
     "name": "stdout",
     "output_type": "stream",
     "text": [
      "Ingrese un nivel de ruido en dB entre 40 y 130: 2000\n",
      "Ingrese un nivel de ruido en el rango especificado.\n"
     ]
    }
   ],
   "source": [
    "## Resolución ejercicio 2.4\n",
    "\n",
    "deb=int(input(\"Ingrese un nivel de ruido en dB entre 40 y 130: \"))\n",
    "\n",
    "M=130 #Martillo neumático\n",
    "D=106#Desmalezadora a nafta\n",
    "A=70#Alarma reloj\n",
    "T=40#Tranquilo\n",
    "\n",
    "if 40>deb:\n",
    "    print(\"Ingrese un nivel de ruido en el rango especificado.\")\n",
    "if M==deb: \n",
    "    print(\"El ruido es Martillo neumatico\")\n",
    "elif M>deb>D:\n",
    "    print(\"El ruido se encuentra entre los niveles de ruido Martillo neumático y Desmalezadora. \")\n",
    "elif D==deb: \n",
    "    print(\"El ruido es Desmalezadora\")\n",
    "elif D>deb>A:\n",
    "    print(\"El ruido se encuentra entre Desmalezadora a nafta y Alarma reloj \")\n",
    "elif A==deb: \n",
    "    print(\"El ruido es Alarma relojs\")\n",
    "elif A>deb>T:\n",
    "    print(\"El ruido se encuentra entre Alarma reloj y tranquilidad \")\n",
    "elif M<deb:\n",
    "    print(\"Ingrese un nivel de ruido en el rango especificado.\")"
   ]
  },
  {
   "cell_type": "markdown",
   "id": "f30357e8",
   "metadata": {},
   "source": [
    "##### Ejercicio 2.5\n",
    "\n",
    "Utilizando *enumerate()* implemente un programa que imprima las letras pertenecientes a los índices divisibles por 3 del string *abcdefghijklmnopqrstuvwxyz*. Empezar a contar desde 1."
   ]
  },
  {
   "cell_type": "code",
   "execution_count": 17,
   "id": "a4b7d901",
   "metadata": {},
   "outputs": [
    {
     "name": "stdout",
     "output_type": "stream",
     "text": [
      "['c', 'f', 'i', 'l', 'o', 'r', 'u', 'x']\n"
     ]
    }
   ],
   "source": [
    "### Resolución Ejercicio 2.5\n",
    "\n",
    "abc = \"abcdefghijklmnopqrstuvwxyz\"\n",
    "contador = 1\n",
    "divisible_3= []\n",
    "\n",
    "for contador, i in enumerate(abc, start=1):\n",
    "    if contador %3 ==0:\n",
    "        divisible_3.append(i)\n",
    "print(divisible_3)    "
   ]
  },
  {
   "cell_type": "markdown",
   "id": "3fe24424",
   "metadata": {},
   "source": [
    "##### Ejercicio 2.6\n",
    "\n",
    "Las posiciones en un tablero de ajedrez se identifican con letras y números. Las letras indican las columnas mientras que los números indican las filas, como la imágen debajo.\n",
    "\n",
    "<img src=\"chessboard.png\" width=250 height=250 />\n",
    "\n",
    "Escriba un programa que lea desde el teclado una coordenada del tablero (ej. 'a3') y devuelva si el casillero es de color blanco o negro. Asuma que todas las entradas son correctas, es decir, **no** es necesario realizar un chequeo de errores (veremos más adelante cómo hacer esto con *try* y *except*)."
   ]
  },
  {
   "cell_type": "code",
   "execution_count": 6,
   "id": "c6462948",
   "metadata": {},
   "outputs": [],
   "source": [
    "## Resolución ejercicio 2.6\n",
    "\n",
    "##TO DO"
   ]
  },
  {
   "cell_type": "markdown",
   "id": "24400e9b",
   "metadata": {},
   "source": [
    "##### Ejercicio 2.7\n",
    "\n",
    "Escriba un programa que convierta números binarios a números decimales. El programa debe leer desde el teclado un número binario en forma de string y computar el equivalente en decimal. El número calculado debe mostrarse en un mensaje."
   ]
  },
  {
   "cell_type": "code",
   "execution_count": 3,
   "id": "ca038f66",
   "metadata": {},
   "outputs": [
    {
     "name": "stdout",
     "output_type": "stream",
     "text": [
      "Ingrese el número binario: 1110\n",
      "el número en decimal es: 14.0\n"
     ]
    }
   ],
   "source": [
    "## Resolución ejercicio 2.7\n",
    "\n",
    "##TO DO\n",
    "n= input(\"Ingrese el número binario: \")\n",
    "int_n=int(n,2)\n",
    "float_n=float(int_n)\n",
    "print(\"el número en decimal es: \"+ str(float_n))"
   ]
  },
  {
   "cell_type": "markdown",
   "id": "d1a113fe",
   "metadata": {},
   "source": [
    "##### Ejercicio 2.8\n",
    "\n",
    "Escriba un programa que determine si un número entero $n$ es *perfecto*. Un número es perfecto cuando la suma de sus propios divisores da el mismo número.\n",
    "\n",
    "Por ejemplo, el *6* es un número perfecto, ya que la suma de sus divisores es $1+2+3 = 6$."
   ]
  },
  {
   "cell_type": "code",
   "execution_count": 6,
   "id": "0ad62720",
   "metadata": {},
   "outputs": [
    {
     "name": "stdout",
     "output_type": "stream",
     "text": [
      "Ingrese su numeero: 6\n",
      "El número ingresado es perfecto. \n"
     ]
    }
   ],
   "source": [
    "## Resolución ejercicio 2.8\n",
    "\n",
    "##TO DO\n",
    "n = int(input(\"Ingrese su numeero: \"))\n",
    "sum1= 0 \n",
    "for i in range(1,n):\n",
    "    if (n % i ==0):\n",
    "        sum1 = sum1 + i\n",
    "if (sum1 == n):\n",
    "    print(\"El número ingresado es perfecto. \")\n",
    "else:\n",
    "    print(\"El número ingresado no es perfecto\")"
   ]
  },
  {
   "cell_type": "markdown",
   "id": "e3173db0",
   "metadata": {},
   "source": [
    "### <span style='color:#4BB58D '>Funciones</span>"
   ]
  },
  {
   "cell_type": "markdown",
   "id": "df54632d",
   "metadata": {},
   "source": [
    "##### Ejercicio 2.9\n",
    "\n",
    "Implemente una función que devuelva el factorial de un número entero n."
   ]
  },
  {
   "cell_type": "code",
   "execution_count": 31,
   "id": "3e0225ac",
   "metadata": {},
   "outputs": [
    {
     "name": "stdout",
     "output_type": "stream",
     "text": [
      "Ingrese un número entero: 4\n"
     ]
    },
    {
     "data": {
      "text/plain": [
       "24"
      ]
     },
     "execution_count": 31,
     "metadata": {},
     "output_type": "execute_result"
    }
   ],
   "source": [
    "## Resolución ejercicio 2.9\n",
    "\n",
    "##TO DO\n",
    "#n = int(input(\"Ingrese un número entero: \"))\n",
    "def fac(n):\n",
    "    n = int(input(\"Ingrese un número entero: \")) #Ingreso un número entero\n",
    "    resultado =1   #Creo una variable resultado igual a uno\n",
    "    i = 1 #Creo un contador\n",
    "    while i<=n:  #Por medio del siguiente bucle veo si i se iguala a n, en caso de no hacerlo se ejecuta el codigo debajo, hasta igualarse.\n",
    "        \n",
    "        resultado = resultado * i\n",
    "        i = i+1\n",
    "    return resultado\n",
    "\n",
    "fac(n)\n",
    "    "
   ]
  },
  {
   "cell_type": "markdown",
   "id": "ef58e192",
   "metadata": {},
   "source": [
    "##### Ejercicio 2.10\n",
    "\n",
    "Implemente una función que reciba una lista de números enteros y devuelva una nueva lista pero sin los valores repetidos.\n",
    "\n",
    "NOTA: No usar funciones *built-in*."
   ]
  },
  {
   "cell_type": "code",
   "execution_count": 47,
   "id": "3b51ecb3",
   "metadata": {},
   "outputs": [],
   "source": [
    "## Resolución ejercicio 2.10\n",
    "\n",
    "##TO DO\n",
    "\n",
    "def unicos(lista):\n",
    "    lista1 = [4,5,6,7,8]\n",
    "    lista2 = []\n",
    "    for i in lista1:\n",
    "        if i!=i:\n",
    "            lista2.append(i) #lista2+=[i]\n",
    "            \n",
    "    return lista1\n"
   ]
  },
  {
   "cell_type": "markdown",
   "id": "e4f19239",
   "metadata": {},
   "source": [
    "##### Ejercicio 2.11\n",
    "\n",
    "Implemente una función que reciba como argumento un año y retorne *True* si el año es bisiesto, caso contrario que retorne *False.\n",
    "\n",
    "Para saber si un año es bisiesto tenga en cuenta estos puntos:\n",
    "- Cualquier año divisible por 400 es bisiesto.\n",
    "- De los años restantes, cualquiera que sea divisible por 100 **no** es bisiesto.\n",
    "- De los años restantes, cualquiera que sea divisible por 4 es un año bisiesto."
   ]
  },
  {
   "cell_type": "code",
   "execution_count": 48,
   "id": "a89050a3",
   "metadata": {},
   "outputs": [
    {
     "ename": "NameError",
     "evalue": "name 'fecha' is not defined",
     "output_type": "error",
     "traceback": [
      "\u001b[1;31m---------------------------------------------------------------------------\u001b[0m",
      "\u001b[1;31mNameError\u001b[0m                                 Traceback (most recent call last)",
      "Input \u001b[1;32mIn [48]\u001b[0m, in \u001b[0;36m<cell line: 11>\u001b[1;34m()\u001b[0m\n\u001b[0;32m      8\u001b[0m     \u001b[38;5;28;01melse\u001b[39;00m:\n\u001b[0;32m      9\u001b[0m         \u001b[38;5;28;01mreturn\u001b[39;00m \u001b[38;5;28;01mFalse\u001b[39;00m \u001b[38;5;66;03m#print(\"El año\", fecha, \"no es un año bisiesto.\")\u001b[39;00m\n\u001b[1;32m---> 11\u001b[0m bis(\u001b[43mfecha\u001b[49m)\n",
      "\u001b[1;31mNameError\u001b[0m: name 'fecha' is not defined"
     ]
    }
   ],
   "source": [
    "## Resolución ejercicio 2.11\n",
    "\n",
    "##TO DO\n",
    "def bis(fecha):\n",
    "    fecha = int(input(\"Escriba un año y le diré si es bisiesto: \"))\n",
    "    if fecha % 400 == 0 or (fecha % 100 != 0 and fecha % 4 == 0):\n",
    "         return True  #print(\"El año\", fecha, \"es un año bisiesto.\")\n",
    "    else:\n",
    "        return False #print(\"El año\", fecha, \"no es un año bisiesto.\")\n",
    "\n",
    "bis(fecha)"
   ]
  },
  {
   "cell_type": "markdown",
   "id": "510e5cbd",
   "metadata": {},
   "source": [
    "##### Ejercicio 2.12\n",
    "\n",
    "Impmemente una función que retorne el máximo de una lista de números. No utilizar funciones *built-in*."
   ]
  },
  {
   "cell_type": "code",
   "execution_count": 12,
   "id": "a93c396b",
   "metadata": {},
   "outputs": [],
   "source": [
    "## Resolución ejercicio 2.12\n",
    "\n",
    "##TO DO"
   ]
  },
  {
   "cell_type": "markdown",
   "id": "d371fab2",
   "metadata": {},
   "source": [
    "##### Ejercicio 2.13\n",
    "\n",
    "Implemente una función que reciba como parámetro una lista de números (enteros o flotantes) y retorne la *mediana*."
   ]
  },
  {
   "cell_type": "code",
   "execution_count": 13,
   "id": "641b0e45",
   "metadata": {},
   "outputs": [],
   "source": [
    "## Resolución ejercicio 2.13\n",
    "\n",
    "##TO DO"
   ]
  },
  {
   "cell_type": "markdown",
   "id": "17315869",
   "metadata": {},
   "source": [
    "<hr style=\"border:1px solid gray\"> </hr>\n",
    "\n",
    "## <span style='color:#3A40A2 '> Tercera parte </span>\n",
    "\n",
    "**Se habilitará para el laboratorio.**"
   ]
  },
  {
   "cell_type": "markdown",
   "id": "c552bc2a",
   "metadata": {},
   "source": [
    "<hr style=\"border:1px solid gray\"> </hr>\n",
    "\n",
    "##  <span style='color:#3A40A2 '>FIN</span>"
   ]
  }
 ],
 "metadata": {
  "interpreter": {
   "hash": "341b29a86feb41683388a2350ede9b29bff08e5e019b1f08826cb582c6a8c162"
  },
  "kernelspec": {
   "display_name": "Python [conda env:.conda-pdaEnv] *",
   "language": "python",
   "name": "conda-env-.conda-pdaEnv-py"
  },
  "language_info": {
   "codemirror_mode": {
    "name": "ipython",
    "version": 3
   },
   "file_extension": ".py",
   "mimetype": "text/x-python",
   "name": "python",
   "nbconvert_exporter": "python",
   "pygments_lexer": "ipython3",
   "version": "3.9.7"
  }
 },
 "nbformat": 4,
 "nbformat_minor": 5
}
