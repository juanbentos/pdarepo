{
 "cells": [
  {
   "cell_type": "code",
   "execution_count": 4,
   "id": "d306e85a",
   "metadata": {},
   "outputs": [],
   "source": [
    "def enviarMensaje(mensaje: str, remitente:str = \"Computadora\") -> str:\n",
    "    '''\n",
    "    Retorna un mensaje (string) de algún remitente.\n",
    "    '''\n",
    "    mensajeAEnviar = f\"{remitente} dice, {mensaje}\"\n",
    "    return mensajeAEnviar\n",
    "def getImpares(lista:list = []) -> \"String (lista vacía) o una lista con valores pares\":\n",
    "    '''\n",
    "    Retorna un mensaje si el argumento es una lista vacía.\n",
    "    Caso contrario retorna una lista con los números impares correspondientes al argumento lista\n",
    "    '''\n",
    "    if not lista:\n",
    "        return \"Lista vacía\"\n",
    "    else:\n",
    "        return [num for num in lista if num%2 != e]"
   ]
  },
  {
   "cell_type": "code",
   "execution_count": null,
   "id": "b6f07d7b",
   "metadata": {},
   "outputs": [],
   "source": [
    "Buenas\n"
   ]
  }
 ],
 "metadata": {
  "kernelspec": {
   "display_name": "Python [conda env:.conda-pdaEnv] *",
   "language": "python",
   "name": "conda-env-.conda-pdaEnv-py"
  },
  "language_info": {
   "codemirror_mode": {
    "name": "ipython",
    "version": 3
   },
   "file_extension": ".py",
   "mimetype": "text/x-python",
   "name": "python",
   "nbconvert_exporter": "python",
   "pygments_lexer": "ipython3",
   "version": "3.9.7"
  }
 },
 "nbformat": 4,
 "nbformat_minor": 5
}
